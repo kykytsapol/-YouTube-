{
  "nbformat": 4,
  "nbformat_minor": 0,
  "metadata": {
    "colab": {
      "name": "Тематическое моделирование после начала Covid-19",
      "provenance": [],
      "collapsed_sections": [],
      "authorship_tag": "ABX9TyMdzD4gi7JWQCWf7iMOW/pL",
      "include_colab_link": true
    },
    "kernelspec": {
      "name": "python3",
      "display_name": "Python 3"
    },
    "language_info": {
      "name": "python"
    }
  },
  "cells": [
    {
      "cell_type": "markdown",
      "metadata": {
        "id": "view-in-github",
        "colab_type": "text"
      },
      "source": [
        "<a href=\"https://colab.research.google.com/github/kykytsapol/-YouTube-/blob/main/%D0%A2%D0%B5%D0%BC%D0%B0%D1%82%D0%B8%D1%87%D0%B5%D1%81%D0%BA%D0%BE%D0%B5_%D0%BC%D0%BE%D0%B4%D0%B5%D0%BB%D0%B8%D1%80%D0%BE%D0%B2%D0%B0%D0%BD%D0%B8%D0%B5_%D0%BF%D0%BE%D1%81%D0%BB%D0%B5_%D0%BD%D0%B0%D1%87%D0%B0%D0%BB%D0%B0_Covid_19.ipynb\" target=\"_parent\"><img src=\"https://colab.research.google.com/assets/colab-badge.svg\" alt=\"Open In Colab\"/></a>"
      ]
    },
    {
      "cell_type": "code",
      "execution_count": null,
      "metadata": {
        "id": "xnK-rwglo-UQ"
      },
      "outputs": [],
      "source": [
        "import pandas as pandas\n",
        "from sklearn.feature_extraction.text import CountVectorizer, TfidfVectorizer"
      ]
    },
    {
      "cell_type": "code",
      "source": [
        "import matplotlib.pyplot as plt"
      ],
      "metadata": {
        "id": "1oJnypcJ1S81"
      },
      "execution_count": null,
      "outputs": []
    },
    {
      "cell_type": "code",
      "source": [
        "import gensim\n",
        "import gensim.corpora as corpora\n",
        "from gensim.utils import simple_preprocess\n",
        "from gensim.models import CoherenceModel"
      ],
      "metadata": {
        "id": "OUavmxL10aHn"
      },
      "execution_count": null,
      "outputs": []
    },
    {
      "cell_type": "code",
      "source": [
        "!pip install -U gensim"
      ],
      "metadata": {
        "colab": {
          "base_uri": "https://localhost:8080/",
          "height": 329
        },
        "id": "DPG-PQkzYsNe",
        "outputId": "08a3cb6f-d341-4f12-c327-5473f7ca7997"
      },
      "execution_count": null,
      "outputs": [
        {
          "output_type": "stream",
          "name": "stdout",
          "text": [
            "Requirement already satisfied: gensim in /usr/local/lib/python3.7/dist-packages (3.6.0)\n",
            "Collecting gensim\n",
            "  Downloading gensim-4.2.0-cp37-cp37m-manylinux_2_12_x86_64.manylinux2010_x86_64.whl (24.1 MB)\n",
            "\u001b[K     |████████████████████████████████| 24.1 MB 82.2 MB/s \n",
            "\u001b[?25hRequirement already satisfied: smart-open>=1.8.1 in /usr/local/lib/python3.7/dist-packages (from gensim) (6.0.0)\n",
            "Requirement already satisfied: numpy>=1.17.0 in /usr/local/lib/python3.7/dist-packages (from gensim) (1.21.6)\n",
            "Requirement already satisfied: scipy>=0.18.1 in /usr/local/lib/python3.7/dist-packages (from gensim) (1.4.1)\n",
            "Installing collected packages: gensim\n",
            "  Attempting uninstall: gensim\n",
            "    Found existing installation: gensim 3.6.0\n",
            "    Uninstalling gensim-3.6.0:\n",
            "      Successfully uninstalled gensim-3.6.0\n",
            "Successfully installed gensim-4.2.0\n"
          ]
        },
        {
          "output_type": "display_data",
          "data": {
            "application/vnd.colab-display-data+json": {
              "pip_warning": {
                "packages": [
                  "gensim"
                ]
              }
            }
          },
          "metadata": {}
        }
      ]
    },
    {
      "cell_type": "code",
      "source": [
        "from gensim.models import nmf\n",
        "from gensim import models"
      ],
      "metadata": {
        "id": "n2l9WqV69jVc"
      },
      "execution_count": null,
      "outputs": []
    },
    {
      "cell_type": "code",
      "source": [
        "# открываем экселевский файл. достаем из него столбцы с оригинальным текстом комментов и преобработтанами\n",
        "comments = pandas.read_excel('комменты_предобработка_послековида1.xlsx', usecols = 'G, T')\n",
        "comments"
      ],
      "metadata": {
        "id": "tc6h_K9RpJ4P",
        "colab": {
          "base_uri": "https://localhost:8080/",
          "height": 424
        },
        "outputId": "ce06c154-af49-4833-9ad0-13db0817def2"
      },
      "execution_count": null,
      "outputs": [
        {
          "output_type": "execute_result",
          "data": {
            "text/plain": [
              "                                    snippet.textOriginal  \\\n",
              "0      тайм-коды:\\n0:10 - Флаг! ⚡\\n0:25 - до начала э...   \n",
              "1                     Жаль до моргенштерна не добрались.   \n",
              "2      Невзоров в перерыве, говоря о Вассермане, сказ...   \n",
              "3      Многие удивляются, - а почему так быстро свари...   \n",
              "4      Спасибо! Про Дуню забавно. А что если и Вассер...   \n",
              "...                                                  ...   \n",
              "54782  шанс всегда хорошо виден - распознать нетрудно...   \n",
              "54783                             Ю\\n\\n\\n\\n\\n\\n\\n\\n\\n\\nЮ   \n",
              "54784             А сами расклад смотрите?????? Зачем???   \n",
              "54785                             Та же самая история!!!   \n",
              "54786    Благо Дарю сердечно и благо принимаю  сердцем))   \n",
              "\n",
              "                                 Текста_на_предобработку  \n",
              "0      тайм код 0 10 флаг 0 25 начало эфир эхо москва...  \n",
              "1                            жаль моргенштерн добираться  \n",
              "2      невзоров перерыв говорить вассерман настолько ...  \n",
              "3      многие удивляться быстро сваривать вакцина при...  \n",
              "4      дуня забавно вассерман баба сиська борода похо...  \n",
              "...                                                  ...  \n",
              "54782  шанс видный распознавать нетрудно трудно решаться  \n",
              "54783                                                ю ю  \n",
              "54784                                   расклад смотреть  \n",
              "54785                                      самый история  \n",
              "54786       благо дарить сердечно благо принимать сердце  \n",
              "\n",
              "[54787 rows x 2 columns]"
            ],
            "text/html": [
              "\n",
              "  <div id=\"df-60fc44d2-43db-497d-8750-cc945579b534\">\n",
              "    <div class=\"colab-df-container\">\n",
              "      <div>\n",
              "<style scoped>\n",
              "    .dataframe tbody tr th:only-of-type {\n",
              "        vertical-align: middle;\n",
              "    }\n",
              "\n",
              "    .dataframe tbody tr th {\n",
              "        vertical-align: top;\n",
              "    }\n",
              "\n",
              "    .dataframe thead th {\n",
              "        text-align: right;\n",
              "    }\n",
              "</style>\n",
              "<table border=\"1\" class=\"dataframe\">\n",
              "  <thead>\n",
              "    <tr style=\"text-align: right;\">\n",
              "      <th></th>\n",
              "      <th>snippet.textOriginal</th>\n",
              "      <th>Текста_на_предобработку</th>\n",
              "    </tr>\n",
              "  </thead>\n",
              "  <tbody>\n",
              "    <tr>\n",
              "      <th>0</th>\n",
              "      <td>тайм-коды:\\n0:10 - Флаг! ⚡\\n0:25 - до начала э...</td>\n",
              "      <td>тайм код 0 10 флаг 0 25 начало эфир эхо москва...</td>\n",
              "    </tr>\n",
              "    <tr>\n",
              "      <th>1</th>\n",
              "      <td>Жаль до моргенштерна не добрались.</td>\n",
              "      <td>жаль моргенштерн добираться</td>\n",
              "    </tr>\n",
              "    <tr>\n",
              "      <th>2</th>\n",
              "      <td>Невзоров в перерыве, говоря о Вассермане, сказ...</td>\n",
              "      <td>невзоров перерыв говорить вассерман настолько ...</td>\n",
              "    </tr>\n",
              "    <tr>\n",
              "      <th>3</th>\n",
              "      <td>Многие удивляются, - а почему так быстро свари...</td>\n",
              "      <td>многие удивляться быстро сваривать вакцина при...</td>\n",
              "    </tr>\n",
              "    <tr>\n",
              "      <th>4</th>\n",
              "      <td>Спасибо! Про Дуню забавно. А что если и Вассер...</td>\n",
              "      <td>дуня забавно вассерман баба сиська борода похо...</td>\n",
              "    </tr>\n",
              "    <tr>\n",
              "      <th>...</th>\n",
              "      <td>...</td>\n",
              "      <td>...</td>\n",
              "    </tr>\n",
              "    <tr>\n",
              "      <th>54782</th>\n",
              "      <td>шанс всегда хорошо виден - распознать нетрудно...</td>\n",
              "      <td>шанс видный распознавать нетрудно трудно решаться</td>\n",
              "    </tr>\n",
              "    <tr>\n",
              "      <th>54783</th>\n",
              "      <td>Ю\\n\\n\\n\\n\\n\\n\\n\\n\\n\\nЮ</td>\n",
              "      <td>ю ю</td>\n",
              "    </tr>\n",
              "    <tr>\n",
              "      <th>54784</th>\n",
              "      <td>А сами расклад смотрите?????? Зачем???</td>\n",
              "      <td>расклад смотреть</td>\n",
              "    </tr>\n",
              "    <tr>\n",
              "      <th>54785</th>\n",
              "      <td>Та же самая история!!!</td>\n",
              "      <td>самый история</td>\n",
              "    </tr>\n",
              "    <tr>\n",
              "      <th>54786</th>\n",
              "      <td>Благо Дарю сердечно и благо принимаю  сердцем))</td>\n",
              "      <td>благо дарить сердечно благо принимать сердце</td>\n",
              "    </tr>\n",
              "  </tbody>\n",
              "</table>\n",
              "<p>54787 rows × 2 columns</p>\n",
              "</div>\n",
              "      <button class=\"colab-df-convert\" onclick=\"convertToInteractive('df-60fc44d2-43db-497d-8750-cc945579b534')\"\n",
              "              title=\"Convert this dataframe to an interactive table.\"\n",
              "              style=\"display:none;\">\n",
              "        \n",
              "  <svg xmlns=\"http://www.w3.org/2000/svg\" height=\"24px\"viewBox=\"0 0 24 24\"\n",
              "       width=\"24px\">\n",
              "    <path d=\"M0 0h24v24H0V0z\" fill=\"none\"/>\n",
              "    <path d=\"M18.56 5.44l.94 2.06.94-2.06 2.06-.94-2.06-.94-.94-2.06-.94 2.06-2.06.94zm-11 1L8.5 8.5l.94-2.06 2.06-.94-2.06-.94L8.5 2.5l-.94 2.06-2.06.94zm10 10l.94 2.06.94-2.06 2.06-.94-2.06-.94-.94-2.06-.94 2.06-2.06.94z\"/><path d=\"M17.41 7.96l-1.37-1.37c-.4-.4-.92-.59-1.43-.59-.52 0-1.04.2-1.43.59L10.3 9.45l-7.72 7.72c-.78.78-.78 2.05 0 2.83L4 21.41c.39.39.9.59 1.41.59.51 0 1.02-.2 1.41-.59l7.78-7.78 2.81-2.81c.8-.78.8-2.07 0-2.86zM5.41 20L4 18.59l7.72-7.72 1.47 1.35L5.41 20z\"/>\n",
              "  </svg>\n",
              "      </button>\n",
              "      \n",
              "  <style>\n",
              "    .colab-df-container {\n",
              "      display:flex;\n",
              "      flex-wrap:wrap;\n",
              "      gap: 12px;\n",
              "    }\n",
              "\n",
              "    .colab-df-convert {\n",
              "      background-color: #E8F0FE;\n",
              "      border: none;\n",
              "      border-radius: 50%;\n",
              "      cursor: pointer;\n",
              "      display: none;\n",
              "      fill: #1967D2;\n",
              "      height: 32px;\n",
              "      padding: 0 0 0 0;\n",
              "      width: 32px;\n",
              "    }\n",
              "\n",
              "    .colab-df-convert:hover {\n",
              "      background-color: #E2EBFA;\n",
              "      box-shadow: 0px 1px 2px rgba(60, 64, 67, 0.3), 0px 1px 3px 1px rgba(60, 64, 67, 0.15);\n",
              "      fill: #174EA6;\n",
              "    }\n",
              "\n",
              "    [theme=dark] .colab-df-convert {\n",
              "      background-color: #3B4455;\n",
              "      fill: #D2E3FC;\n",
              "    }\n",
              "\n",
              "    [theme=dark] .colab-df-convert:hover {\n",
              "      background-color: #434B5C;\n",
              "      box-shadow: 0px 1px 3px 1px rgba(0, 0, 0, 0.15);\n",
              "      filter: drop-shadow(0px 1px 2px rgba(0, 0, 0, 0.3));\n",
              "      fill: #FFFFFF;\n",
              "    }\n",
              "  </style>\n",
              "\n",
              "      <script>\n",
              "        const buttonEl =\n",
              "          document.querySelector('#df-60fc44d2-43db-497d-8750-cc945579b534 button.colab-df-convert');\n",
              "        buttonEl.style.display =\n",
              "          google.colab.kernel.accessAllowed ? 'block' : 'none';\n",
              "\n",
              "        async function convertToInteractive(key) {\n",
              "          const element = document.querySelector('#df-60fc44d2-43db-497d-8750-cc945579b534');\n",
              "          const dataTable =\n",
              "            await google.colab.kernel.invokeFunction('convertToInteractive',\n",
              "                                                     [key], {});\n",
              "          if (!dataTable) return;\n",
              "\n",
              "          const docLinkHtml = 'Like what you see? Visit the ' +\n",
              "            '<a target=\"_blank\" href=https://colab.research.google.com/notebooks/data_table.ipynb>data table notebook</a>'\n",
              "            + ' to learn more about interactive tables.';\n",
              "          element.innerHTML = '';\n",
              "          dataTable['output_type'] = 'display_data';\n",
              "          await google.colab.output.renderOutput(dataTable, element);\n",
              "          const docLink = document.createElement('div');\n",
              "          docLink.innerHTML = docLinkHtml;\n",
              "          element.appendChild(docLink);\n",
              "        }\n",
              "      </script>\n",
              "    </div>\n",
              "  </div>\n",
              "  "
            ]
          },
          "metadata": {},
          "execution_count": 6
        }
      ]
    },
    {
      "cell_type": "code",
      "source": [
        "#оставляем только русские слова \n",
        "import re\n",
        "\n",
        "comments[\"Текста_на_предобработку\"] = comments['Текста_на_предобработку'].apply(lambda x: str(x))\n",
        "comments['Текста_на_предобработку'] = comments['Текста_на_предобработку'].apply(lambda x: re.sub(r\"[^а-яА-ЯёЁ\\s]\", \"\", x))\n",
        "comments[\"Текста_на_предобработку\"]"
      ],
      "metadata": {
        "colab": {
          "base_uri": "https://localhost:8080/"
        },
        "id": "UxH1fC3m0A8y",
        "outputId": "a1b6a9a6-1460-4447-fdd4-d4fe3c2ab8a1"
      },
      "execution_count": null,
      "outputs": [
        {
          "output_type": "execute_result",
          "data": {
            "text/plain": [
              "0        тайм код   флаг   начало эфир эхо москва детск...\n",
              "1                              жаль моргенштерн добираться\n",
              "2        невзоров перерыв говорить вассерман настолько ...\n",
              "3        многие удивляться быстро сваривать вакцина при...\n",
              "4        дуня забавно вассерман баба сиська борода похо...\n",
              "                               ...                        \n",
              "54782    шанс видный распознавать нетрудно трудно решаться\n",
              "54783                                                  ю ю\n",
              "54784                                     расклад смотреть\n",
              "54785                                        самый история\n",
              "54786         благо дарить сердечно благо принимать сердце\n",
              "Name: Текста_на_предобработку, Length: 54787, dtype: object"
            ]
          },
          "metadata": {},
          "execution_count": 7
        }
      ]
    },
    {
      "cell_type": "code",
      "source": [
        "# Создаем датафрейм с предобработанным текстом \n",
        "data = pandas.DataFrame()\n",
        "data.loc[:, \"Текст_на_векторизацию\"] = comments['Текста_на_предобработку']\n",
        "data = data.dropna() # удаляем пропуски - уже можно \n",
        "data"
      ],
      "metadata": {
        "colab": {
          "base_uri": "https://localhost:8080/",
          "height": 424
        },
        "id": "mTafw5IqycXS",
        "outputId": "4bc2a23a-69be-48a8-9bc4-b4e9ef429dc9"
      },
      "execution_count": null,
      "outputs": [
        {
          "output_type": "execute_result",
          "data": {
            "text/plain": [
              "                                   Текст_на_векторизацию\n",
              "0      тайм код   флаг   начало эфир эхо москва детск...\n",
              "1                            жаль моргенштерн добираться\n",
              "2      невзоров перерыв говоритьссерман настольпотряс...\n",
              "3      многие удивляться быстро свариватькцина причем...\n",
              "4      дуня забавноссерман баба сиська борода похоже ...\n",
              "...                                                  ...\n",
              "54782  шанс видный распознавать нетрудно трудно решаться\n",
              "54783                                                ю ю\n",
              "54784                                   расклад смотреть\n",
              "54785                                      самый история\n",
              "54786         благо дарить сердечно благо принимать серд\n",
              "\n",
              "[54787 rows x 1 columns]"
            ],
            "text/html": [
              "\n",
              "  <div id=\"df-b3b4af28-b1a9-4166-adff-0d079c2708bf\">\n",
              "    <div class=\"colab-df-container\">\n",
              "      <div>\n",
              "<style scoped>\n",
              "    .dataframe tbody tr th:only-of-type {\n",
              "        vertical-align: middle;\n",
              "    }\n",
              "\n",
              "    .dataframe tbody tr th {\n",
              "        vertical-align: top;\n",
              "    }\n",
              "\n",
              "    .dataframe thead th {\n",
              "        text-align: right;\n",
              "    }\n",
              "</style>\n",
              "<table border=\"1\" class=\"dataframe\">\n",
              "  <thead>\n",
              "    <tr style=\"text-align: right;\">\n",
              "      <th></th>\n",
              "      <th>Текст_на_векторизацию</th>\n",
              "    </tr>\n",
              "  </thead>\n",
              "  <tbody>\n",
              "    <tr>\n",
              "      <th>0</th>\n",
              "      <td>тайм код   флаг   начало эфир эхо москва детск...</td>\n",
              "    </tr>\n",
              "    <tr>\n",
              "      <th>1</th>\n",
              "      <td>жаль моргенштерн добираться</td>\n",
              "    </tr>\n",
              "    <tr>\n",
              "      <th>2</th>\n",
              "      <td>невзоров перерыв говоритьссерман настольпотряс...</td>\n",
              "    </tr>\n",
              "    <tr>\n",
              "      <th>3</th>\n",
              "      <td>многие удивляться быстро свариватькцина причем...</td>\n",
              "    </tr>\n",
              "    <tr>\n",
              "      <th>4</th>\n",
              "      <td>дуня забавноссерман баба сиська борода похоже ...</td>\n",
              "    </tr>\n",
              "    <tr>\n",
              "      <th>...</th>\n",
              "      <td>...</td>\n",
              "    </tr>\n",
              "    <tr>\n",
              "      <th>54782</th>\n",
              "      <td>шанс видный распознавать нетрудно трудно решаться</td>\n",
              "    </tr>\n",
              "    <tr>\n",
              "      <th>54783</th>\n",
              "      <td>ю ю</td>\n",
              "    </tr>\n",
              "    <tr>\n",
              "      <th>54784</th>\n",
              "      <td>расклад смотреть</td>\n",
              "    </tr>\n",
              "    <tr>\n",
              "      <th>54785</th>\n",
              "      <td>самый история</td>\n",
              "    </tr>\n",
              "    <tr>\n",
              "      <th>54786</th>\n",
              "      <td>благо дарить сердечно благо принимать серд</td>\n",
              "    </tr>\n",
              "  </tbody>\n",
              "</table>\n",
              "<p>54787 rows × 1 columns</p>\n",
              "</div>\n",
              "      <button class=\"colab-df-convert\" onclick=\"convertToInteractive('df-b3b4af28-b1a9-4166-adff-0d079c2708bf')\"\n",
              "              title=\"Convert this dataframe to an interactive table.\"\n",
              "              style=\"display:none;\">\n",
              "        \n",
              "  <svg xmlns=\"http://www.w3.org/2000/svg\" height=\"24px\"viewBox=\"0 0 24 24\"\n",
              "       width=\"24px\">\n",
              "    <path d=\"M0 0h24v24H0V0z\" fill=\"none\"/>\n",
              "    <path d=\"M18.56 5.44l.94 2.06.94-2.06 2.06-.94-2.06-.94-.94-2.06-.94 2.06-2.06.94zm-11 1L8.5 8.5l.94-2.06 2.06-.94-2.06-.94L8.5 2.5l-.94 2.06-2.06.94zm10 10l.94 2.06.94-2.06 2.06-.94-2.06-.94-.94-2.06-.94 2.06-2.06.94z\"/><path d=\"M17.41 7.96l-1.37-1.37c-.4-.4-.92-.59-1.43-.59-.52 0-1.04.2-1.43.59L10.3 9.45l-7.72 7.72c-.78.78-.78 2.05 0 2.83L4 21.41c.39.39.9.59 1.41.59.51 0 1.02-.2 1.41-.59l7.78-7.78 2.81-2.81c.8-.78.8-2.07 0-2.86zM5.41 20L4 18.59l7.72-7.72 1.47 1.35L5.41 20z\"/>\n",
              "  </svg>\n",
              "      </button>\n",
              "      \n",
              "  <style>\n",
              "    .colab-df-container {\n",
              "      display:flex;\n",
              "      flex-wrap:wrap;\n",
              "      gap: 12px;\n",
              "    }\n",
              "\n",
              "    .colab-df-convert {\n",
              "      background-color: #E8F0FE;\n",
              "      border: none;\n",
              "      border-radius: 50%;\n",
              "      cursor: pointer;\n",
              "      display: none;\n",
              "      fill: #1967D2;\n",
              "      height: 32px;\n",
              "      padding: 0 0 0 0;\n",
              "      width: 32px;\n",
              "    }\n",
              "\n",
              "    .colab-df-convert:hover {\n",
              "      background-color: #E2EBFA;\n",
              "      box-shadow: 0px 1px 2px rgba(60, 64, 67, 0.3), 0px 1px 3px 1px rgba(60, 64, 67, 0.15);\n",
              "      fill: #174EA6;\n",
              "    }\n",
              "\n",
              "    [theme=dark] .colab-df-convert {\n",
              "      background-color: #3B4455;\n",
              "      fill: #D2E3FC;\n",
              "    }\n",
              "\n",
              "    [theme=dark] .colab-df-convert:hover {\n",
              "      background-color: #434B5C;\n",
              "      box-shadow: 0px 1px 3px 1px rgba(0, 0, 0, 0.15);\n",
              "      filter: drop-shadow(0px 1px 2px rgba(0, 0, 0, 0.3));\n",
              "      fill: #FFFFFF;\n",
              "    }\n",
              "  </style>\n",
              "\n",
              "      <script>\n",
              "        const buttonEl =\n",
              "          document.querySelector('#df-b3b4af28-b1a9-4166-adff-0d079c2708bf button.colab-df-convert');\n",
              "        buttonEl.style.display =\n",
              "          google.colab.kernel.accessAllowed ? 'block' : 'none';\n",
              "\n",
              "        async function convertToInteractive(key) {\n",
              "          const element = document.querySelector('#df-b3b4af28-b1a9-4166-adff-0d079c2708bf');\n",
              "          const dataTable =\n",
              "            await google.colab.kernel.invokeFunction('convertToInteractive',\n",
              "                                                     [key], {});\n",
              "          if (!dataTable) return;\n",
              "\n",
              "          const docLinkHtml = 'Like what you see? Visit the ' +\n",
              "            '<a target=\"_blank\" href=https://colab.research.google.com/notebooks/data_table.ipynb>data table notebook</a>'\n",
              "            + ' to learn more about interactive tables.';\n",
              "          element.innerHTML = '';\n",
              "          dataTable['output_type'] = 'display_data';\n",
              "          await google.colab.output.renderOutput(dataTable, element);\n",
              "          const docLink = document.createElement('div');\n",
              "          docLink.innerHTML = docLinkHtml;\n",
              "          element.appendChild(docLink);\n",
              "        }\n",
              "      </script>\n",
              "    </div>\n",
              "  </div>\n",
              "  "
            ]
          },
          "metadata": {},
          "execution_count": 11
        }
      ]
    },
    {
      "cell_type": "code",
      "source": [
        "#настраиваем класс CountVectorizer- предупреждаем, что отбираем токены с частотностью не менее 2, и словарь делаю не больше 10000 токенов\n",
        "cvect = CountVectorizer(min_df=2, max_features=10000).fit(data[\"Текст_на_векторизацию\"])\n",
        "#далее подаем в метод transform класса CountVectorizer столбец Текст_на_векторизацию\n",
        "cmatrix = cvect.transform(data[\"Текст_на_векторизацию\"])\n",
        "# объект cmatrix оформляем как датафрейм\n",
        "cmatrix_df = pandas.DataFrame(cmatrix.toarray(), columns = cvect.get_feature_names(), index=data.index)\n",
        "cmatrix_df"
      ],
      "metadata": {
        "colab": {
          "base_uri": "https://localhost:8080/",
          "height": 478
        },
        "id": "3pbaGsNbylb8",
        "outputId": "5eb9e41d-81e3-4f21-f6b6-2f38f7c096a2"
      },
      "execution_count": null,
      "outputs": [
        {
          "output_type": "stream",
          "name": "stderr",
          "text": [
            "/usr/local/lib/python3.7/dist-packages/sklearn/utils/deprecation.py:87: FutureWarning: Function get_feature_names is deprecated; get_feature_names is deprecated in 1.0 and will be removed in 1.2. Please use get_feature_names_out instead.\n",
            "  warnings.warn(msg, category=FutureWarning)\n"
          ]
        },
        {
          "output_type": "execute_result",
          "data": {
            "text/plain": [
              "       аа  ааа  аааа  абдраимова  аби  або  аборт  абсолютно  абсолютный  \\\n",
              "0       0    0     0           0    0    0      0          1           0   \n",
              "1       0    0     0           0    0    0      0          0           0   \n",
              "2       0    0     0           0    0    0      0          0           0   \n",
              "3       0    0     0           0    0    0      0          0           0   \n",
              "4       0    0     0           0    0    0      0          0           0   \n",
              "...    ..  ...   ...         ...  ...  ...    ...        ...         ...   \n",
              "54782   0    0     0           0    0    0      0          0           0   \n",
              "54783   0    0     0           0    0    0      0          0           0   \n",
              "54784   0    0     0           0    0    0      0          0           0   \n",
              "54785   0    0     0           0    0    0      0          0           0   \n",
              "54786   0    0     0           0    0    0      0          0           0   \n",
              "\n",
              "       абстрагироваться  ...  ярость  ясно  ясновидение  ясновидящий  ясность  \\\n",
              "0                     0  ...       0     0            0            0        0   \n",
              "1                     0  ...       0     0            0            0        0   \n",
              "2                     0  ...       0     0            0            0        0   \n",
              "3                     0  ...       0     0            0            0        0   \n",
              "4                     0  ...       0     0            0            0        0   \n",
              "...                 ...  ...     ...   ...          ...          ...      ...   \n",
              "54782                 0  ...       0     0            0            0        0   \n",
              "54783                 0  ...       0     0            0            0        0   \n",
              "54784                 0  ...       0     0            0            0        0   \n",
              "54785                 0  ...       0     0            0            0        0   \n",
              "54786                 0  ...       0     0            0            0        0   \n",
              "\n",
              "       ясный  яха  яхта  ящик  яя  \n",
              "0          0    0     0     0   0  \n",
              "1          0    0     0     0   0  \n",
              "2          0    0     0     0   0  \n",
              "3          0    0     0     0   0  \n",
              "4          0    0     0     0   0  \n",
              "...      ...  ...   ...   ...  ..  \n",
              "54782      0    0     0     0   0  \n",
              "54783      0    0     0     0   0  \n",
              "54784      0    0     0     0   0  \n",
              "54785      0    0     0     0   0  \n",
              "54786      0    0     0     0   0  \n",
              "\n",
              "[54787 rows x 10000 columns]"
            ],
            "text/html": [
              "<div>\n",
              "<style scoped>\n",
              "    .dataframe tbody tr th:only-of-type {\n",
              "        vertical-align: middle;\n",
              "    }\n",
              "\n",
              "    .dataframe tbody tr th {\n",
              "        vertical-align: top;\n",
              "    }\n",
              "\n",
              "    .dataframe thead th {\n",
              "        text-align: right;\n",
              "    }\n",
              "</style>\n",
              "<table border=\"1\" class=\"dataframe\">\n",
              "  <thead>\n",
              "    <tr style=\"text-align: right;\">\n",
              "      <th></th>\n",
              "      <th>аа</th>\n",
              "      <th>ааа</th>\n",
              "      <th>аааа</th>\n",
              "      <th>абдраимова</th>\n",
              "      <th>аби</th>\n",
              "      <th>або</th>\n",
              "      <th>аборт</th>\n",
              "      <th>абсолютно</th>\n",
              "      <th>абсолютный</th>\n",
              "      <th>абстрагироваться</th>\n",
              "      <th>...</th>\n",
              "      <th>ярость</th>\n",
              "      <th>ясно</th>\n",
              "      <th>ясновидение</th>\n",
              "      <th>ясновидящий</th>\n",
              "      <th>ясность</th>\n",
              "      <th>ясный</th>\n",
              "      <th>яха</th>\n",
              "      <th>яхта</th>\n",
              "      <th>ящик</th>\n",
              "      <th>яя</th>\n",
              "    </tr>\n",
              "  </thead>\n",
              "  <tbody>\n",
              "    <tr>\n",
              "      <th>0</th>\n",
              "      <td>0</td>\n",
              "      <td>0</td>\n",
              "      <td>0</td>\n",
              "      <td>0</td>\n",
              "      <td>0</td>\n",
              "      <td>0</td>\n",
              "      <td>0</td>\n",
              "      <td>1</td>\n",
              "      <td>0</td>\n",
              "      <td>0</td>\n",
              "      <td>...</td>\n",
              "      <td>0</td>\n",
              "      <td>0</td>\n",
              "      <td>0</td>\n",
              "      <td>0</td>\n",
              "      <td>0</td>\n",
              "      <td>0</td>\n",
              "      <td>0</td>\n",
              "      <td>0</td>\n",
              "      <td>0</td>\n",
              "      <td>0</td>\n",
              "    </tr>\n",
              "    <tr>\n",
              "      <th>1</th>\n",
              "      <td>0</td>\n",
              "      <td>0</td>\n",
              "      <td>0</td>\n",
              "      <td>0</td>\n",
              "      <td>0</td>\n",
              "      <td>0</td>\n",
              "      <td>0</td>\n",
              "      <td>0</td>\n",
              "      <td>0</td>\n",
              "      <td>0</td>\n",
              "      <td>...</td>\n",
              "      <td>0</td>\n",
              "      <td>0</td>\n",
              "      <td>0</td>\n",
              "      <td>0</td>\n",
              "      <td>0</td>\n",
              "      <td>0</td>\n",
              "      <td>0</td>\n",
              "      <td>0</td>\n",
              "      <td>0</td>\n",
              "      <td>0</td>\n",
              "    </tr>\n",
              "    <tr>\n",
              "      <th>2</th>\n",
              "      <td>0</td>\n",
              "      <td>0</td>\n",
              "      <td>0</td>\n",
              "      <td>0</td>\n",
              "      <td>0</td>\n",
              "      <td>0</td>\n",
              "      <td>0</td>\n",
              "      <td>0</td>\n",
              "      <td>0</td>\n",
              "      <td>0</td>\n",
              "      <td>...</td>\n",
              "      <td>0</td>\n",
              "      <td>0</td>\n",
              "      <td>0</td>\n",
              "      <td>0</td>\n",
              "      <td>0</td>\n",
              "      <td>0</td>\n",
              "      <td>0</td>\n",
              "      <td>0</td>\n",
              "      <td>0</td>\n",
              "      <td>0</td>\n",
              "    </tr>\n",
              "    <tr>\n",
              "      <th>3</th>\n",
              "      <td>0</td>\n",
              "      <td>0</td>\n",
              "      <td>0</td>\n",
              "      <td>0</td>\n",
              "      <td>0</td>\n",
              "      <td>0</td>\n",
              "      <td>0</td>\n",
              "      <td>0</td>\n",
              "      <td>0</td>\n",
              "      <td>0</td>\n",
              "      <td>...</td>\n",
              "      <td>0</td>\n",
              "      <td>0</td>\n",
              "      <td>0</td>\n",
              "      <td>0</td>\n",
              "      <td>0</td>\n",
              "      <td>0</td>\n",
              "      <td>0</td>\n",
              "      <td>0</td>\n",
              "      <td>0</td>\n",
              "      <td>0</td>\n",
              "    </tr>\n",
              "    <tr>\n",
              "      <th>4</th>\n",
              "      <td>0</td>\n",
              "      <td>0</td>\n",
              "      <td>0</td>\n",
              "      <td>0</td>\n",
              "      <td>0</td>\n",
              "      <td>0</td>\n",
              "      <td>0</td>\n",
              "      <td>0</td>\n",
              "      <td>0</td>\n",
              "      <td>0</td>\n",
              "      <td>...</td>\n",
              "      <td>0</td>\n",
              "      <td>0</td>\n",
              "      <td>0</td>\n",
              "      <td>0</td>\n",
              "      <td>0</td>\n",
              "      <td>0</td>\n",
              "      <td>0</td>\n",
              "      <td>0</td>\n",
              "      <td>0</td>\n",
              "      <td>0</td>\n",
              "    </tr>\n",
              "    <tr>\n",
              "      <th>...</th>\n",
              "      <td>...</td>\n",
              "      <td>...</td>\n",
              "      <td>...</td>\n",
              "      <td>...</td>\n",
              "      <td>...</td>\n",
              "      <td>...</td>\n",
              "      <td>...</td>\n",
              "      <td>...</td>\n",
              "      <td>...</td>\n",
              "      <td>...</td>\n",
              "      <td>...</td>\n",
              "      <td>...</td>\n",
              "      <td>...</td>\n",
              "      <td>...</td>\n",
              "      <td>...</td>\n",
              "      <td>...</td>\n",
              "      <td>...</td>\n",
              "      <td>...</td>\n",
              "      <td>...</td>\n",
              "      <td>...</td>\n",
              "      <td>...</td>\n",
              "    </tr>\n",
              "    <tr>\n",
              "      <th>54782</th>\n",
              "      <td>0</td>\n",
              "      <td>0</td>\n",
              "      <td>0</td>\n",
              "      <td>0</td>\n",
              "      <td>0</td>\n",
              "      <td>0</td>\n",
              "      <td>0</td>\n",
              "      <td>0</td>\n",
              "      <td>0</td>\n",
              "      <td>0</td>\n",
              "      <td>...</td>\n",
              "      <td>0</td>\n",
              "      <td>0</td>\n",
              "      <td>0</td>\n",
              "      <td>0</td>\n",
              "      <td>0</td>\n",
              "      <td>0</td>\n",
              "      <td>0</td>\n",
              "      <td>0</td>\n",
              "      <td>0</td>\n",
              "      <td>0</td>\n",
              "    </tr>\n",
              "    <tr>\n",
              "      <th>54783</th>\n",
              "      <td>0</td>\n",
              "      <td>0</td>\n",
              "      <td>0</td>\n",
              "      <td>0</td>\n",
              "      <td>0</td>\n",
              "      <td>0</td>\n",
              "      <td>0</td>\n",
              "      <td>0</td>\n",
              "      <td>0</td>\n",
              "      <td>0</td>\n",
              "      <td>...</td>\n",
              "      <td>0</td>\n",
              "      <td>0</td>\n",
              "      <td>0</td>\n",
              "      <td>0</td>\n",
              "      <td>0</td>\n",
              "      <td>0</td>\n",
              "      <td>0</td>\n",
              "      <td>0</td>\n",
              "      <td>0</td>\n",
              "      <td>0</td>\n",
              "    </tr>\n",
              "    <tr>\n",
              "      <th>54784</th>\n",
              "      <td>0</td>\n",
              "      <td>0</td>\n",
              "      <td>0</td>\n",
              "      <td>0</td>\n",
              "      <td>0</td>\n",
              "      <td>0</td>\n",
              "      <td>0</td>\n",
              "      <td>0</td>\n",
              "      <td>0</td>\n",
              "      <td>0</td>\n",
              "      <td>...</td>\n",
              "      <td>0</td>\n",
              "      <td>0</td>\n",
              "      <td>0</td>\n",
              "      <td>0</td>\n",
              "      <td>0</td>\n",
              "      <td>0</td>\n",
              "      <td>0</td>\n",
              "      <td>0</td>\n",
              "      <td>0</td>\n",
              "      <td>0</td>\n",
              "    </tr>\n",
              "    <tr>\n",
              "      <th>54785</th>\n",
              "      <td>0</td>\n",
              "      <td>0</td>\n",
              "      <td>0</td>\n",
              "      <td>0</td>\n",
              "      <td>0</td>\n",
              "      <td>0</td>\n",
              "      <td>0</td>\n",
              "      <td>0</td>\n",
              "      <td>0</td>\n",
              "      <td>0</td>\n",
              "      <td>...</td>\n",
              "      <td>0</td>\n",
              "      <td>0</td>\n",
              "      <td>0</td>\n",
              "      <td>0</td>\n",
              "      <td>0</td>\n",
              "      <td>0</td>\n",
              "      <td>0</td>\n",
              "      <td>0</td>\n",
              "      <td>0</td>\n",
              "      <td>0</td>\n",
              "    </tr>\n",
              "    <tr>\n",
              "      <th>54786</th>\n",
              "      <td>0</td>\n",
              "      <td>0</td>\n",
              "      <td>0</td>\n",
              "      <td>0</td>\n",
              "      <td>0</td>\n",
              "      <td>0</td>\n",
              "      <td>0</td>\n",
              "      <td>0</td>\n",
              "      <td>0</td>\n",
              "      <td>0</td>\n",
              "      <td>...</td>\n",
              "      <td>0</td>\n",
              "      <td>0</td>\n",
              "      <td>0</td>\n",
              "      <td>0</td>\n",
              "      <td>0</td>\n",
              "      <td>0</td>\n",
              "      <td>0</td>\n",
              "      <td>0</td>\n",
              "      <td>0</td>\n",
              "      <td>0</td>\n",
              "    </tr>\n",
              "  </tbody>\n",
              "</table>\n",
              "<p>54787 rows × 10000 columns</p>\n",
              "</div>"
            ]
          },
          "metadata": {},
          "execution_count": 12
        }
      ]
    },
    {
      "cell_type": "code",
      "source": [
        "#частотность токенов\n",
        "cmatrix_df[:].sum().sort_values()"
      ],
      "metadata": {
        "colab": {
          "base_uri": "https://localhost:8080/"
        },
        "id": "xO1PlbOl0JnI",
        "outputId": "f4d4f06f-c4a7-41a9-89a3-b59d96f1df42"
      },
      "execution_count": null,
      "outputs": [
        {
          "output_type": "execute_result",
          "data": {
            "text/plain": [
              "улыбчивый         4\n",
              "памаг             4\n",
              "припоминать       4\n",
              "руководящий       4\n",
              "свифт             4\n",
              "               ... \n",
              "говорить       2757\n",
              "украина        3362\n",
              "карта          3687\n",
              "благодарить    5224\n",
              "расклад        5578\n",
              "Length: 10000, dtype: int64"
            ]
          },
          "metadata": {},
          "execution_count": 16
        }
      ]
    },
    {
      "cell_type": "code",
      "source": [
        "#настраиваем класс CountVectorizer- предупреждаем, что отбираем токены с частотностью не менее 2\n",
        "tfidf = TfidfVectorizer(min_df=2, max_features=10000).fit(data[\"Текст_на_векторизацию\"])\n",
        "#далее подаем в метод transform класса CountVectorizer столбец Текст_на_векторизацию\n",
        "tfidfmatrix = tfidf.transform(data[\"Текст_на_векторизацию\"])\n",
        "# объект cmatrix оформляем как датафрейм\n",
        "tfidfmatrix_df = pandas.DataFrame(tfidfmatrix.toarray(), columns = tfidf.get_feature_names(), index=data.index)\n",
        "tfidfmatrix_df"
      ],
      "metadata": {
        "colab": {
          "base_uri": "https://localhost:8080/",
          "height": 522
        },
        "id": "fpWwX9sa0Q_N",
        "outputId": "614c279a-fb79-4b60-c848-0f93b4d849f1"
      },
      "execution_count": null,
      "outputs": [
        {
          "output_type": "stream",
          "name": "stderr",
          "text": [
            "/usr/local/lib/python3.7/dist-packages/sklearn/utils/deprecation.py:87: FutureWarning: Function get_feature_names is deprecated; get_feature_names is deprecated in 1.0 and will be removed in 1.2. Please use get_feature_names_out instead.\n",
            "  warnings.warn(msg, category=FutureWarning)\n"
          ]
        },
        {
          "output_type": "execute_result",
          "data": {
            "text/plain": [
              "        аа  ааа  аааа  абдраимова  аби  або  аборт  абсолютно  абсолютный  \\\n",
              "0      0.0  0.0   0.0         0.0  0.0  0.0    0.0   0.059467         0.0   \n",
              "1      0.0  0.0   0.0         0.0  0.0  0.0    0.0   0.000000         0.0   \n",
              "2      0.0  0.0   0.0         0.0  0.0  0.0    0.0   0.000000         0.0   \n",
              "3      0.0  0.0   0.0         0.0  0.0  0.0    0.0   0.000000         0.0   \n",
              "4      0.0  0.0   0.0         0.0  0.0  0.0    0.0   0.000000         0.0   \n",
              "...    ...  ...   ...         ...  ...  ...    ...        ...         ...   \n",
              "54782  0.0  0.0   0.0         0.0  0.0  0.0    0.0   0.000000         0.0   \n",
              "54783  0.0  0.0   0.0         0.0  0.0  0.0    0.0   0.000000         0.0   \n",
              "54784  0.0  0.0   0.0         0.0  0.0  0.0    0.0   0.000000         0.0   \n",
              "54785  0.0  0.0   0.0         0.0  0.0  0.0    0.0   0.000000         0.0   \n",
              "54786  0.0  0.0   0.0         0.0  0.0  0.0    0.0   0.000000         0.0   \n",
              "\n",
              "       абстрагироваться  ...  ярость  ясно  ясновидение  ясновидящий  ясность  \\\n",
              "0                   0.0  ...     0.0   0.0          0.0          0.0      0.0   \n",
              "1                   0.0  ...     0.0   0.0          0.0          0.0      0.0   \n",
              "2                   0.0  ...     0.0   0.0          0.0          0.0      0.0   \n",
              "3                   0.0  ...     0.0   0.0          0.0          0.0      0.0   \n",
              "4                   0.0  ...     0.0   0.0          0.0          0.0      0.0   \n",
              "...                 ...  ...     ...   ...          ...          ...      ...   \n",
              "54782               0.0  ...     0.0   0.0          0.0          0.0      0.0   \n",
              "54783               0.0  ...     0.0   0.0          0.0          0.0      0.0   \n",
              "54784               0.0  ...     0.0   0.0          0.0          0.0      0.0   \n",
              "54785               0.0  ...     0.0   0.0          0.0          0.0      0.0   \n",
              "54786               0.0  ...     0.0   0.0          0.0          0.0      0.0   \n",
              "\n",
              "       ясный  яха  яхта  ящик   яя  \n",
              "0        0.0  0.0   0.0   0.0  0.0  \n",
              "1        0.0  0.0   0.0   0.0  0.0  \n",
              "2        0.0  0.0   0.0   0.0  0.0  \n",
              "3        0.0  0.0   0.0   0.0  0.0  \n",
              "4        0.0  0.0   0.0   0.0  0.0  \n",
              "...      ...  ...   ...   ...  ...  \n",
              "54782    0.0  0.0   0.0   0.0  0.0  \n",
              "54783    0.0  0.0   0.0   0.0  0.0  \n",
              "54784    0.0  0.0   0.0   0.0  0.0  \n",
              "54785    0.0  0.0   0.0   0.0  0.0  \n",
              "54786    0.0  0.0   0.0   0.0  0.0  \n",
              "\n",
              "[54787 rows x 10000 columns]"
            ],
            "text/html": [
              "\n",
              "  <div id=\"df-6223d722-f6da-4f3d-917d-57ccfa125f67\">\n",
              "    <div class=\"colab-df-container\">\n",
              "      <div>\n",
              "<style scoped>\n",
              "    .dataframe tbody tr th:only-of-type {\n",
              "        vertical-align: middle;\n",
              "    }\n",
              "\n",
              "    .dataframe tbody tr th {\n",
              "        vertical-align: top;\n",
              "    }\n",
              "\n",
              "    .dataframe thead th {\n",
              "        text-align: right;\n",
              "    }\n",
              "</style>\n",
              "<table border=\"1\" class=\"dataframe\">\n",
              "  <thead>\n",
              "    <tr style=\"text-align: right;\">\n",
              "      <th></th>\n",
              "      <th>аа</th>\n",
              "      <th>ааа</th>\n",
              "      <th>аааа</th>\n",
              "      <th>абдраимова</th>\n",
              "      <th>аби</th>\n",
              "      <th>або</th>\n",
              "      <th>аборт</th>\n",
              "      <th>абсолютно</th>\n",
              "      <th>абсолютный</th>\n",
              "      <th>абстрагироваться</th>\n",
              "      <th>...</th>\n",
              "      <th>ярость</th>\n",
              "      <th>ясно</th>\n",
              "      <th>ясновидение</th>\n",
              "      <th>ясновидящий</th>\n",
              "      <th>ясность</th>\n",
              "      <th>ясный</th>\n",
              "      <th>яха</th>\n",
              "      <th>яхта</th>\n",
              "      <th>ящик</th>\n",
              "      <th>яя</th>\n",
              "    </tr>\n",
              "  </thead>\n",
              "  <tbody>\n",
              "    <tr>\n",
              "      <th>0</th>\n",
              "      <td>0.0</td>\n",
              "      <td>0.0</td>\n",
              "      <td>0.0</td>\n",
              "      <td>0.0</td>\n",
              "      <td>0.0</td>\n",
              "      <td>0.0</td>\n",
              "      <td>0.0</td>\n",
              "      <td>0.059467</td>\n",
              "      <td>0.0</td>\n",
              "      <td>0.0</td>\n",
              "      <td>...</td>\n",
              "      <td>0.0</td>\n",
              "      <td>0.0</td>\n",
              "      <td>0.0</td>\n",
              "      <td>0.0</td>\n",
              "      <td>0.0</td>\n",
              "      <td>0.0</td>\n",
              "      <td>0.0</td>\n",
              "      <td>0.0</td>\n",
              "      <td>0.0</td>\n",
              "      <td>0.0</td>\n",
              "    </tr>\n",
              "    <tr>\n",
              "      <th>1</th>\n",
              "      <td>0.0</td>\n",
              "      <td>0.0</td>\n",
              "      <td>0.0</td>\n",
              "      <td>0.0</td>\n",
              "      <td>0.0</td>\n",
              "      <td>0.0</td>\n",
              "      <td>0.0</td>\n",
              "      <td>0.000000</td>\n",
              "      <td>0.0</td>\n",
              "      <td>0.0</td>\n",
              "      <td>...</td>\n",
              "      <td>0.0</td>\n",
              "      <td>0.0</td>\n",
              "      <td>0.0</td>\n",
              "      <td>0.0</td>\n",
              "      <td>0.0</td>\n",
              "      <td>0.0</td>\n",
              "      <td>0.0</td>\n",
              "      <td>0.0</td>\n",
              "      <td>0.0</td>\n",
              "      <td>0.0</td>\n",
              "    </tr>\n",
              "    <tr>\n",
              "      <th>2</th>\n",
              "      <td>0.0</td>\n",
              "      <td>0.0</td>\n",
              "      <td>0.0</td>\n",
              "      <td>0.0</td>\n",
              "      <td>0.0</td>\n",
              "      <td>0.0</td>\n",
              "      <td>0.0</td>\n",
              "      <td>0.000000</td>\n",
              "      <td>0.0</td>\n",
              "      <td>0.0</td>\n",
              "      <td>...</td>\n",
              "      <td>0.0</td>\n",
              "      <td>0.0</td>\n",
              "      <td>0.0</td>\n",
              "      <td>0.0</td>\n",
              "      <td>0.0</td>\n",
              "      <td>0.0</td>\n",
              "      <td>0.0</td>\n",
              "      <td>0.0</td>\n",
              "      <td>0.0</td>\n",
              "      <td>0.0</td>\n",
              "    </tr>\n",
              "    <tr>\n",
              "      <th>3</th>\n",
              "      <td>0.0</td>\n",
              "      <td>0.0</td>\n",
              "      <td>0.0</td>\n",
              "      <td>0.0</td>\n",
              "      <td>0.0</td>\n",
              "      <td>0.0</td>\n",
              "      <td>0.0</td>\n",
              "      <td>0.000000</td>\n",
              "      <td>0.0</td>\n",
              "      <td>0.0</td>\n",
              "      <td>...</td>\n",
              "      <td>0.0</td>\n",
              "      <td>0.0</td>\n",
              "      <td>0.0</td>\n",
              "      <td>0.0</td>\n",
              "      <td>0.0</td>\n",
              "      <td>0.0</td>\n",
              "      <td>0.0</td>\n",
              "      <td>0.0</td>\n",
              "      <td>0.0</td>\n",
              "      <td>0.0</td>\n",
              "    </tr>\n",
              "    <tr>\n",
              "      <th>4</th>\n",
              "      <td>0.0</td>\n",
              "      <td>0.0</td>\n",
              "      <td>0.0</td>\n",
              "      <td>0.0</td>\n",
              "      <td>0.0</td>\n",
              "      <td>0.0</td>\n",
              "      <td>0.0</td>\n",
              "      <td>0.000000</td>\n",
              "      <td>0.0</td>\n",
              "      <td>0.0</td>\n",
              "      <td>...</td>\n",
              "      <td>0.0</td>\n",
              "      <td>0.0</td>\n",
              "      <td>0.0</td>\n",
              "      <td>0.0</td>\n",
              "      <td>0.0</td>\n",
              "      <td>0.0</td>\n",
              "      <td>0.0</td>\n",
              "      <td>0.0</td>\n",
              "      <td>0.0</td>\n",
              "      <td>0.0</td>\n",
              "    </tr>\n",
              "    <tr>\n",
              "      <th>...</th>\n",
              "      <td>...</td>\n",
              "      <td>...</td>\n",
              "      <td>...</td>\n",
              "      <td>...</td>\n",
              "      <td>...</td>\n",
              "      <td>...</td>\n",
              "      <td>...</td>\n",
              "      <td>...</td>\n",
              "      <td>...</td>\n",
              "      <td>...</td>\n",
              "      <td>...</td>\n",
              "      <td>...</td>\n",
              "      <td>...</td>\n",
              "      <td>...</td>\n",
              "      <td>...</td>\n",
              "      <td>...</td>\n",
              "      <td>...</td>\n",
              "      <td>...</td>\n",
              "      <td>...</td>\n",
              "      <td>...</td>\n",
              "      <td>...</td>\n",
              "    </tr>\n",
              "    <tr>\n",
              "      <th>54782</th>\n",
              "      <td>0.0</td>\n",
              "      <td>0.0</td>\n",
              "      <td>0.0</td>\n",
              "      <td>0.0</td>\n",
              "      <td>0.0</td>\n",
              "      <td>0.0</td>\n",
              "      <td>0.0</td>\n",
              "      <td>0.000000</td>\n",
              "      <td>0.0</td>\n",
              "      <td>0.0</td>\n",
              "      <td>...</td>\n",
              "      <td>0.0</td>\n",
              "      <td>0.0</td>\n",
              "      <td>0.0</td>\n",
              "      <td>0.0</td>\n",
              "      <td>0.0</td>\n",
              "      <td>0.0</td>\n",
              "      <td>0.0</td>\n",
              "      <td>0.0</td>\n",
              "      <td>0.0</td>\n",
              "      <td>0.0</td>\n",
              "    </tr>\n",
              "    <tr>\n",
              "      <th>54783</th>\n",
              "      <td>0.0</td>\n",
              "      <td>0.0</td>\n",
              "      <td>0.0</td>\n",
              "      <td>0.0</td>\n",
              "      <td>0.0</td>\n",
              "      <td>0.0</td>\n",
              "      <td>0.0</td>\n",
              "      <td>0.000000</td>\n",
              "      <td>0.0</td>\n",
              "      <td>0.0</td>\n",
              "      <td>...</td>\n",
              "      <td>0.0</td>\n",
              "      <td>0.0</td>\n",
              "      <td>0.0</td>\n",
              "      <td>0.0</td>\n",
              "      <td>0.0</td>\n",
              "      <td>0.0</td>\n",
              "      <td>0.0</td>\n",
              "      <td>0.0</td>\n",
              "      <td>0.0</td>\n",
              "      <td>0.0</td>\n",
              "    </tr>\n",
              "    <tr>\n",
              "      <th>54784</th>\n",
              "      <td>0.0</td>\n",
              "      <td>0.0</td>\n",
              "      <td>0.0</td>\n",
              "      <td>0.0</td>\n",
              "      <td>0.0</td>\n",
              "      <td>0.0</td>\n",
              "      <td>0.0</td>\n",
              "      <td>0.000000</td>\n",
              "      <td>0.0</td>\n",
              "      <td>0.0</td>\n",
              "      <td>...</td>\n",
              "      <td>0.0</td>\n",
              "      <td>0.0</td>\n",
              "      <td>0.0</td>\n",
              "      <td>0.0</td>\n",
              "      <td>0.0</td>\n",
              "      <td>0.0</td>\n",
              "      <td>0.0</td>\n",
              "      <td>0.0</td>\n",
              "      <td>0.0</td>\n",
              "      <td>0.0</td>\n",
              "    </tr>\n",
              "    <tr>\n",
              "      <th>54785</th>\n",
              "      <td>0.0</td>\n",
              "      <td>0.0</td>\n",
              "      <td>0.0</td>\n",
              "      <td>0.0</td>\n",
              "      <td>0.0</td>\n",
              "      <td>0.0</td>\n",
              "      <td>0.0</td>\n",
              "      <td>0.000000</td>\n",
              "      <td>0.0</td>\n",
              "      <td>0.0</td>\n",
              "      <td>...</td>\n",
              "      <td>0.0</td>\n",
              "      <td>0.0</td>\n",
              "      <td>0.0</td>\n",
              "      <td>0.0</td>\n",
              "      <td>0.0</td>\n",
              "      <td>0.0</td>\n",
              "      <td>0.0</td>\n",
              "      <td>0.0</td>\n",
              "      <td>0.0</td>\n",
              "      <td>0.0</td>\n",
              "    </tr>\n",
              "    <tr>\n",
              "      <th>54786</th>\n",
              "      <td>0.0</td>\n",
              "      <td>0.0</td>\n",
              "      <td>0.0</td>\n",
              "      <td>0.0</td>\n",
              "      <td>0.0</td>\n",
              "      <td>0.0</td>\n",
              "      <td>0.0</td>\n",
              "      <td>0.000000</td>\n",
              "      <td>0.0</td>\n",
              "      <td>0.0</td>\n",
              "      <td>...</td>\n",
              "      <td>0.0</td>\n",
              "      <td>0.0</td>\n",
              "      <td>0.0</td>\n",
              "      <td>0.0</td>\n",
              "      <td>0.0</td>\n",
              "      <td>0.0</td>\n",
              "      <td>0.0</td>\n",
              "      <td>0.0</td>\n",
              "      <td>0.0</td>\n",
              "      <td>0.0</td>\n",
              "    </tr>\n",
              "  </tbody>\n",
              "</table>\n",
              "<p>54787 rows × 10000 columns</p>\n",
              "</div>\n",
              "      <button class=\"colab-df-convert\" onclick=\"convertToInteractive('df-6223d722-f6da-4f3d-917d-57ccfa125f67')\"\n",
              "              title=\"Convert this dataframe to an interactive table.\"\n",
              "              style=\"display:none;\">\n",
              "        \n",
              "  <svg xmlns=\"http://www.w3.org/2000/svg\" height=\"24px\"viewBox=\"0 0 24 24\"\n",
              "       width=\"24px\">\n",
              "    <path d=\"M0 0h24v24H0V0z\" fill=\"none\"/>\n",
              "    <path d=\"M18.56 5.44l.94 2.06.94-2.06 2.06-.94-2.06-.94-.94-2.06-.94 2.06-2.06.94zm-11 1L8.5 8.5l.94-2.06 2.06-.94-2.06-.94L8.5 2.5l-.94 2.06-2.06.94zm10 10l.94 2.06.94-2.06 2.06-.94-2.06-.94-.94-2.06-.94 2.06-2.06.94z\"/><path d=\"M17.41 7.96l-1.37-1.37c-.4-.4-.92-.59-1.43-.59-.52 0-1.04.2-1.43.59L10.3 9.45l-7.72 7.72c-.78.78-.78 2.05 0 2.83L4 21.41c.39.39.9.59 1.41.59.51 0 1.02-.2 1.41-.59l7.78-7.78 2.81-2.81c.8-.78.8-2.07 0-2.86zM5.41 20L4 18.59l7.72-7.72 1.47 1.35L5.41 20z\"/>\n",
              "  </svg>\n",
              "      </button>\n",
              "      \n",
              "  <style>\n",
              "    .colab-df-container {\n",
              "      display:flex;\n",
              "      flex-wrap:wrap;\n",
              "      gap: 12px;\n",
              "    }\n",
              "\n",
              "    .colab-df-convert {\n",
              "      background-color: #E8F0FE;\n",
              "      border: none;\n",
              "      border-radius: 50%;\n",
              "      cursor: pointer;\n",
              "      display: none;\n",
              "      fill: #1967D2;\n",
              "      height: 32px;\n",
              "      padding: 0 0 0 0;\n",
              "      width: 32px;\n",
              "    }\n",
              "\n",
              "    .colab-df-convert:hover {\n",
              "      background-color: #E2EBFA;\n",
              "      box-shadow: 0px 1px 2px rgba(60, 64, 67, 0.3), 0px 1px 3px 1px rgba(60, 64, 67, 0.15);\n",
              "      fill: #174EA6;\n",
              "    }\n",
              "\n",
              "    [theme=dark] .colab-df-convert {\n",
              "      background-color: #3B4455;\n",
              "      fill: #D2E3FC;\n",
              "    }\n",
              "\n",
              "    [theme=dark] .colab-df-convert:hover {\n",
              "      background-color: #434B5C;\n",
              "      box-shadow: 0px 1px 3px 1px rgba(0, 0, 0, 0.15);\n",
              "      filter: drop-shadow(0px 1px 2px rgba(0, 0, 0, 0.3));\n",
              "      fill: #FFFFFF;\n",
              "    }\n",
              "  </style>\n",
              "\n",
              "      <script>\n",
              "        const buttonEl =\n",
              "          document.querySelector('#df-6223d722-f6da-4f3d-917d-57ccfa125f67 button.colab-df-convert');\n",
              "        buttonEl.style.display =\n",
              "          google.colab.kernel.accessAllowed ? 'block' : 'none';\n",
              "\n",
              "        async function convertToInteractive(key) {\n",
              "          const element = document.querySelector('#df-6223d722-f6da-4f3d-917d-57ccfa125f67');\n",
              "          const dataTable =\n",
              "            await google.colab.kernel.invokeFunction('convertToInteractive',\n",
              "                                                     [key], {});\n",
              "          if (!dataTable) return;\n",
              "\n",
              "          const docLinkHtml = 'Like what you see? Visit the ' +\n",
              "            '<a target=\"_blank\" href=https://colab.research.google.com/notebooks/data_table.ipynb>data table notebook</a>'\n",
              "            + ' to learn more about interactive tables.';\n",
              "          element.innerHTML = '';\n",
              "          dataTable['output_type'] = 'display_data';\n",
              "          await google.colab.output.renderOutput(dataTable, element);\n",
              "          const docLink = document.createElement('div');\n",
              "          docLink.innerHTML = docLinkHtml;\n",
              "          element.appendChild(docLink);\n",
              "        }\n",
              "      </script>\n",
              "    </div>\n",
              "  </div>\n",
              "  "
            ]
          },
          "metadata": {},
          "execution_count": 17
        }
      ]
    },
    {
      "cell_type": "code",
      "source": [
        "#частотность токенов\n",
        "tfidfmatrix_df[:].sum().sort_values()"
      ],
      "metadata": {
        "colab": {
          "base_uri": "https://localhost:8080/"
        },
        "id": "U0WPLfoB0UAG",
        "outputId": "19c4d486-035d-408c-85e5-bbf996cf93e2"
      },
      "execution_count": null,
      "outputs": [
        {
          "output_type": "execute_result",
          "data": {
            "text/plain": [
              "ангола            0.176735\n",
              "киберпсих         0.243526\n",
              "стенать           0.258570\n",
              "захария           0.304784\n",
              "коринфянин        0.314074\n",
              "                  ...     \n",
              "таро            531.832141\n",
              "украина         599.758434\n",
              "карта           642.373794\n",
              "расклад        1066.002711\n",
              "благодарить    1481.424769\n",
              "Length: 10000, dtype: float64"
            ]
          },
          "metadata": {},
          "execution_count": 18
        }
      ]
    },
    {
      "cell_type": "code",
      "source": [
        "# Концертируем в лист\n",
        "data = comments['Текста_на_предобработку'].values.tolist()"
      ],
      "metadata": {
        "id": "HxTjEYU70c-d"
      },
      "execution_count": null,
      "outputs": []
    },
    {
      "cell_type": "code",
      "source": [
        "# Преобразование документа в список токенов \n",
        "def sent_to_words(sentences):\n",
        "    for sentence in sentences:\n",
        "        yield(gensim.utils.simple_preprocess(str(sentence))) \n",
        "data_words = list(sent_to_words(data))"
      ],
      "metadata": {
        "id": "ZWXe-w1w0eyo"
      },
      "execution_count": null,
      "outputs": []
    },
    {
      "cell_type": "code",
      "source": [
        "# Создаем словарь\n",
        "id2word = corpora.Dictionary(data_words)"
      ],
      "metadata": {
        "id": "-uWRA0vB0j8Z"
      },
      "execution_count": null,
      "outputs": []
    },
    {
      "cell_type": "code",
      "source": [
        "# Создаем корпус\n",
        "texts = data_words"
      ],
      "metadata": {
        "id": "rOckMMNA0m7t"
      },
      "execution_count": null,
      "outputs": []
    },
    {
      "cell_type": "code",
      "source": [
        "# Частота встречаемости \n",
        "corpus = [id2word.doc2bow(text) for text in texts]"
      ],
      "metadata": {
        "id": "1k8cUybN0oxB"
      },
      "execution_count": null,
      "outputs": []
    },
    {
      "cell_type": "code",
      "source": [
        "# Смотрим \n",
        "print(corpus[:1])"
      ],
      "metadata": {
        "colab": {
          "base_uri": "https://localhost:8080/"
        },
        "id": "JFJBDaJW0qin",
        "outputId": "75da03df-c76b-417b-99c8-1c4cdfcc0c7b"
      },
      "execution_count": null,
      "outputs": [
        {
          "output_type": "stream",
          "name": "stdout",
          "text": [
            "[[(0, 1), (1, 1), (2, 1), (3, 1), (4, 1), (5, 2), (6, 2), (7, 1), (8, 1), (9, 1), (10, 1), (11, 1), (12, 1), (13, 1), (14, 1), (15, 1), (16, 2), (17, 1), (18, 1), (19, 1), (20, 1), (21, 1), (22, 1), (23, 1), (24, 1), (25, 1), (26, 1), (27, 2), (28, 1), (29, 1), (30, 1), (31, 1), (32, 1), (33, 1), (34, 1), (35, 1), (36, 1), (37, 1), (38, 1), (39, 1), (40, 1), (41, 1), (42, 1), (43, 1), (44, 1), (45, 1), (46, 1), (47, 1), (48, 1), (49, 1), (50, 2), (51, 1), (52, 1), (53, 1), (54, 1), (55, 1), (56, 1), (57, 1), (58, 1), (59, 2), (60, 1), (61, 1), (62, 1), (63, 1), (64, 1), (65, 1), (66, 1), (67, 1), (68, 1), (69, 1), (70, 1), (71, 2), (72, 3), (73, 1), (74, 2), (75, 1), (76, 1), (77, 1), (78, 1), (79, 1), (80, 1), (81, 1), (82, 1), (83, 1), (84, 1), (85, 1), (86, 4), (87, 1), (88, 1), (89, 1), (90, 1), (91, 1), (92, 1), (93, 1), (94, 1), (95, 1), (96, 1), (97, 1), (98, 1), (99, 1), (100, 1), (101, 1), (102, 1), (103, 2), (104, 1), (105, 1), (106, 1), (107, 1), (108, 1), (109, 1), (110, 1), (111, 1), (112, 1), (113, 1), (114, 1), (115, 1), (116, 1), (117, 1), (118, 1), (119, 1), (120, 1), (121, 1), (122, 2), (123, 1), (124, 1), (125, 1), (126, 1), (127, 1), (128, 1), (129, 1), (130, 1), (131, 1), (132, 1), (133, 1), (134, 1), (135, 1), (136, 1), (137, 1), (138, 1), (139, 1), (140, 1), (141, 1), (142, 1), (143, 1), (144, 1), (145, 1), (146, 1), (147, 1), (148, 1), (149, 1), (150, 3), (151, 1), (152, 3), (153, 3), (154, 1), (155, 1), (156, 1), (157, 1), (158, 1), (159, 1), (160, 1), (161, 1), (162, 1), (163, 1), (164, 1), (165, 1), (166, 1), (167, 1), (168, 1), (169, 1), (170, 1), (171, 1), (172, 1), (173, 3), (174, 3)]]\n"
          ]
        }
      ]
    },
    {
      "cell_type": "markdown",
      "source": [
        "### Модель LSA"
      ],
      "metadata": {
        "id": "Ud-ydE145zqV"
      }
    },
    {
      "cell_type": "code",
      "source": [
        "from gensim.models import LsiModel\n",
        "# модель LSA\n",
        "lsa_model = gensim.models.LsiModel(corpus=corpus,\n",
        "                                           id2word=id2word,\n",
        "                                           num_topics=10)"
      ],
      "metadata": {
        "id": "xJuj4OxT0nrg"
      },
      "execution_count": null,
      "outputs": []
    },
    {
      "cell_type": "code",
      "source": [
        "# согласованность LSA модели методом c_v\n",
        "cm = CoherenceModel(model=lsa_model, corpus=corpus, texts=texts,\n",
        "                              dictionary=id2word, coherence='c_v')\n",
        "coherence = cm.get_coherence()\n",
        "coherence"
      ],
      "metadata": {
        "colab": {
          "base_uri": "https://localhost:8080/"
        },
        "id": "mNndN6X00wgs",
        "outputId": "43271c13-2f92-42e6-e514-f11196f534d1"
      },
      "execution_count": null,
      "outputs": [
        {
          "output_type": "execute_result",
          "data": {
            "text/plain": [
              "0.5024350947967522"
            ]
          },
          "metadata": {},
          "execution_count": 19
        }
      ]
    },
    {
      "cell_type": "code",
      "source": [
        "# согласованность LSA модели методос u_mass\n",
        "cm = CoherenceModel(model=lsa_model, corpus=corpus,\n",
        "                              dictionary=id2word, coherence='u_mass')\n",
        "coherence = cm.get_coherence()\n",
        "coherence"
      ],
      "metadata": {
        "id": "FuNoLLrM07Yg",
        "colab": {
          "base_uri": "https://localhost:8080/"
        },
        "outputId": "97a5ce41-26fe-400a-d8a5-b1d0851851bc"
      },
      "execution_count": null,
      "outputs": [
        {
          "output_type": "execute_result",
          "data": {
            "text/plain": [
              "-3.5964388854214504"
            ]
          },
          "metadata": {},
          "execution_count": 20
        }
      ]
    },
    {
      "cell_type": "code",
      "source": [
        "# это функция, которая позволяет построить модели с разным количеством топиков, посчитать и сохранить значение согласованности для моделей.\n",
        "def compute_coherence_values(dictionary,corpus,texts,limit,start=2,step=1):\n",
        "    coherence_values = []\n",
        "    model_list = []\n",
        "    for num_topics in range(start, limit, step):\n",
        "        model = gensim.models.LsiModel(corpus=corpus, num_topics=num_topics,id2word=id2word)\n",
        "        model_list.append(model)\n",
        "        coherencemodel = CoherenceModel(model=model, texts=texts, dictionary=dictionary, coherence='c_v')\n",
        "        coherence_values.append(coherencemodel.get_coherence())\n",
        "        \n",
        "    return model_list, coherence_values"
      ],
      "metadata": {
        "id": "Q8u9McU81XRl"
      },
      "execution_count": null,
      "outputs": []
    },
    {
      "cell_type": "code",
      "source": [
        "# задаем наши значения \n",
        "model_list, coherence_values = compute_coherence_values(dictionary=id2word,corpus=corpus,\n",
        "                                                      texts=texts, start=2, limit=50, step=5)"
      ],
      "metadata": {
        "id": "bZc7D-aY1hXW"
      },
      "execution_count": null,
      "outputs": []
    },
    {
      "cell_type": "code",
      "source": [
        "# Сторим график, который показывает как изменяется значение согласованности при добавлении топика в модель.\n",
        "limit=50; start=2; step=5;\n",
        "x= range(start, limit, step)\n",
        "plt.plot(x, coherence_values)\n",
        "plt.xlabel(\"Num Topics\")\n",
        "plt.ylabel(\"Coherence score\")\n",
        "plt.legend((\"coherence_values\"), loc='best')\n",
        "plt.show()"
      ],
      "metadata": {
        "id": "aaeGxhw21kvW",
        "colab": {
          "base_uri": "https://localhost:8080/",
          "height": 279
        },
        "outputId": "df090687-0b4a-409c-b134-d674f894722a"
      },
      "execution_count": null,
      "outputs": [
        {
          "output_type": "display_data",
          "data": {
            "text/plain": [
              "<Figure size 432x288 with 1 Axes>"
            ],
            "image/png": "[encoded data removed]"
          },
          "metadata": {
            "needs_background": "light"
          }
        }
      ]
    },
    {
      "cell_type": "markdown",
      "source": [
        "Итак, как видно из рисунка выше модель LSA с 8 топиками имеет наивысшее значение согласованности. Построим данную модель,определим ее точное значение согласованности и посмотрим на получившиеся топики. "
      ],
      "metadata": {
        "id": "Sgefqv_71_0h"
      }
    },
    {
      "cell_type": "code",
      "source": [
        "from gensim.models import LsiModel\n",
        "# модель LSA\n",
        "lsa_model = gensim.models.LsiModel(corpus=corpus,\n",
        "                                           id2word=id2word,\n",
        "                                           num_topics=8)"
      ],
      "metadata": {
        "id": "HZLKFsAZ2WmO"
      },
      "execution_count": null,
      "outputs": []
    },
    {
      "cell_type": "code",
      "source": [
        "lsa_model.print_topics()"
      ],
      "metadata": {
        "id": "r1aIkIeN2ePB",
        "colab": {
          "base_uri": "https://localhost:8080/"
        },
        "outputId": "083b32c4-197f-4726-9075-0a242ef3fc3f"
      },
      "execution_count": null,
      "outputs": [
        {
          "output_type": "execute_result",
          "data": {
            "text/plain": [
              "[(0,\n",
              "  '0.321*\"расклад\" + 0.265*\"карта\" + 0.210*\"украина\" + 0.209*\"благодарить\" + 0.190*\"россия\" + 0.169*\"знать\" + 0.166*\"говорить\" + 0.166*\"понимать\" + 0.161*\"мир\" + 0.155*\"жить\"'),\n",
              " (1,\n",
              "  '-0.461*\"украина\" + -0.419*\"россия\" + 0.375*\"расклад\" + 0.308*\"карта\" + 0.296*\"благодарить\" + -0.241*\"война\" + -0.180*\"мир\" + -0.145*\"страна\" + 0.126*\"таро\" + -0.095*\"жить\"'),\n",
              " (2,\n",
              "  '0.673*\"карта\" + -0.545*\"благодарить\" + 0.202*\"таро\" + 0.119*\"вопрос\" + -0.094*\"любовь\" + 0.088*\"колода\" + -0.086*\"бог\" + -0.083*\"жить\" + -0.073*\"пусть\" + -0.069*\"ссылка\"'),\n",
              " (3,\n",
              "  '-0.380*\"благодарить\" + -0.367*\"украина\" + -0.296*\"россия\" + -0.234*\"расклад\" + 0.203*\"знать\" + 0.195*\"жить\" + 0.181*\"ребенок\" + 0.173*\"бог\" + -0.168*\"карта\" + 0.154*\"любить\"'),\n",
              " (4,\n",
              "  '-0.656*\"расклад\" + 0.244*\"карта\" + 0.239*\"ссылка\" + 0.207*\"уровень\" + 0.150*\"канал\" + 0.138*\"практика\" + 0.138*\"программа\" + 0.137*\"час\" + 0.133*\"спонсор\" + 0.109*\"серд\"'),\n",
              " (5,\n",
              "  '0.564*\"благодарить\" + -0.384*\"расклад\" + 0.243*\"карта\" + -0.217*\"ссылка\" + -0.191*\"канал\" + -0.188*\"уровень\" + 0.136*\"бог\" + -0.124*\"час\" + -0.123*\"спонсор\" + -0.123*\"программа\"'),\n",
              " (6,\n",
              "  '0.653*\"бог\" + -0.245*\"украина\" + 0.215*\"россия\" + -0.182*\"ребенок\" + 0.177*\"слово\" + 0.175*\"давать\" + 0.161*\"расклад\" + 0.158*\"мир\" + -0.143*\"жить\" + -0.120*\"благодарить\"'),\n",
              " (7,\n",
              "  '-0.436*\"город\" + -0.309*\"боеприпасы\" + -0.309*\"поставка\" + -0.293*\"продовольствие\" + -0.280*\"блокировать\" + -0.250*\"бог\" + 0.234*\"война\" + -0.223*\"украина\" + 0.174*\"россия\" + -0.130*\"путин\"')]"
            ]
          },
          "metadata": {},
          "execution_count": 25
        }
      ]
    },
    {
      "cell_type": "code",
      "source": [
        "# согласованность LSA модели методом c_v\n",
        "cm = CoherenceModel(model=lsa_model, corpus=corpus, texts=texts,\n",
        "                              dictionary=id2word, coherence='c_v')\n",
        "coherence = cm.get_coherence()\n",
        "coherence"
      ],
      "metadata": {
        "id": "ulkKyTNB23ph",
        "colab": {
          "base_uri": "https://localhost:8080/"
        },
        "outputId": "ee9efd2e-6b53-4b0c-f19e-010637e8fbf5"
      },
      "execution_count": null,
      "outputs": [
        {
          "output_type": "execute_result",
          "data": {
            "text/plain": [
              "0.5247351159256103"
            ]
          },
          "metadata": {},
          "execution_count": 26
        }
      ]
    },
    {
      "cell_type": "code",
      "source": [
        "# согласованность LSA модели методос u_mass\n",
        "cm = CoherenceModel(model=lsa_model, corpus=corpus,\n",
        "                              dictionary=id2word, coherence='u_mass')\n",
        "coherence = cm.get_coherence()\n",
        "coherence"
      ],
      "metadata": {
        "id": "aG7A7RCs25N0",
        "colab": {
          "base_uri": "https://localhost:8080/"
        },
        "outputId": "56a3bcfd-88f4-48b0-879a-3a4ef44af08b"
      },
      "execution_count": null,
      "outputs": [
        {
          "output_type": "execute_result",
          "data": {
            "text/plain": [
              "-3.548410961912804"
            ]
          },
          "metadata": {},
          "execution_count": 27
        }
      ]
    },
    {
      "cell_type": "markdown",
      "source": [
        "Для модели LSA с 8 топиками согласованность, рассчитанная методом, c_v примерно равна 0,53, а методом u_mass - 3,55. Отрицательный знак появляется потому, метод u_mass использует логарифм для расчета согласованности. Кроме того, мы видим, что некоторые веса слов, которые отражают их значимость для темы, имеют отрицательный знак. Это означает, что данные слова совсем не свойственны даной теме. При большом объеме словаря, факт того, что слово совсем не свойственно данной усложняет интерпретацию - нам важно понять из каких слов состоит тема. В связи с этим, ряд авторов отмечает, что это является существенным недостатком модели LSA, который был устранен в более поздних моделях."
      ],
      "metadata": {
        "id": "3wER8MI43G19"
      }
    },
    {
      "cell_type": "markdown",
      "source": [
        "### Модель LDA"
      ],
      "metadata": {
        "id": "74xuoQ2w58eS"
      }
    },
    {
      "cell_type": "code",
      "source": [
        "# Строим LDA модель \n",
        "lda_model = gensim.models.ldamodel.LdaModel(corpus=corpus,\n",
        "                                           id2word=id2word,\n",
        "                                           num_topics=10) "
      ],
      "metadata": {
        "id": "3qskvvB10s31"
      },
      "execution_count": null,
      "outputs": []
    },
    {
      "cell_type": "code",
      "source": [
        "# Перплексия (чем меньше значене тем лучше)\n",
        "lda_model.log_perplexity(corpus)"
      ],
      "metadata": {
        "id": "UbIkA4Im7hxs",
        "colab": {
          "base_uri": "https://localhost:8080/"
        },
        "outputId": "0059889d-e611-4316-ad0b-1def61e6087d"
      },
      "execution_count": null,
      "outputs": [
        {
          "output_type": "execute_result",
          "data": {
            "text/plain": [
              "-9.170194807094965"
            ]
          },
          "metadata": {},
          "execution_count": 29
        }
      ]
    },
    {
      "cell_type": "code",
      "source": [
        "# согласованность LDA модели, c_v \n",
        "cm = CoherenceModel(model=lda_model, corpus=corpus, texts=texts,\n",
        "                              dictionary=id2word, coherence='c_v') # c_v Coherence Score\n",
        "coherence = cm.get_coherence()\n",
        "coherence"
      ],
      "metadata": {
        "id": "D0HMXrx-0vez",
        "colab": {
          "base_uri": "https://localhost:8080/"
        },
        "outputId": "e91a1464-6836-42e2-fea9-17ffa48860e8"
      },
      "execution_count": null,
      "outputs": [
        {
          "output_type": "execute_result",
          "data": {
            "text/plain": [
              "0.4935227043772706"
            ]
          },
          "metadata": {},
          "execution_count": 30
        }
      ]
    },
    {
      "cell_type": "code",
      "source": [
        "# согласованность LSA модели методом u_mass\n",
        "cm = CoherenceModel(model=lda_model, corpus=corpus,\n",
        "                              dictionary=id2word, coherence='u_mass')\n",
        "coherence = cm.get_coherence()\n",
        "coherence"
      ],
      "metadata": {
        "id": "mqwfcp2S6FZv",
        "colab": {
          "base_uri": "https://localhost:8080/"
        },
        "outputId": "cd58f1a0-13da-49e4-b779-66debb89ac48"
      },
      "execution_count": null,
      "outputs": [
        {
          "output_type": "execute_result",
          "data": {
            "text/plain": [
              "-5.2176222354181245"
            ]
          },
          "metadata": {},
          "execution_count": 31
        }
      ]
    },
    {
      "cell_type": "code",
      "source": [
        "# определяем оптимальное кол-во топиков\n",
        "def compute_coherence_values(dictionary,corpus,texts,limit,start=2,step=1):\n",
        "    coherence_values = []\n",
        "    model_list = []\n",
        "    for num_topics in range(start, limit, step):\n",
        "        model = gensim.models.LdaModel(corpus=corpus, num_topics=num_topics,id2word=id2word)\n",
        "        model_list.append(model)\n",
        "        coherencemodel = CoherenceModel(model=model, texts=texts, dictionary=dictionary, coherence='c_v')\n",
        "        coherence_values.append(coherencemodel.get_coherence())\n",
        "        \n",
        "    return model_list, coherence_values"
      ],
      "metadata": {
        "id": "T8XGjhp46NFa"
      },
      "execution_count": null,
      "outputs": []
    },
    {
      "cell_type": "code",
      "source": [
        "# задаем значения наши\n",
        "model_list, coherence_values = compute_coherence_values(dictionary=id2word,corpus=corpus,\n",
        "                                                      texts=texts, start=2, limit=50, step=5)"
      ],
      "metadata": {
        "id": "sBoIOFv36Rnj"
      },
      "execution_count": null,
      "outputs": []
    },
    {
      "cell_type": "code",
      "source": [
        "# Сторим график, который показывает как изменяется значение согласованности при добавлении топика в модель.\n",
        "limit=50; start=2; step=5;\n",
        "x= range(start, limit, step)\n",
        "plt.plot(x, coherence_values)\n",
        "plt.xlabel(\"Num Topics\")\n",
        "plt.ylabel(\"Coherence score\")\n",
        "plt.legend((\"coherence_values\"), loc='best')\n",
        "plt.show()"
      ],
      "metadata": {
        "colab": {
          "base_uri": "https://localhost:8080/",
          "height": 279
        },
        "id": "SZILuxhq6RrD",
        "outputId": "166131d5-7f25-4f22-a747-4bd14f08bc18"
      },
      "execution_count": null,
      "outputs": [
        {
          "output_type": "display_data",
          "data": {
            "text/plain": [
              "<Figure size 432x288 with 1 Axes>"
            ],
            "image/png": "[encoded data removed]"
          },
          "metadata": {
            "needs_background": "light"
          }
        }
      ]
    },
    {
      "cell_type": "markdown",
      "source": [
        "Наивысшее значение согласованности наблюдается для модели с 8 топиками"
      ],
      "metadata": {
        "id": "EhhxOCn27KsN"
      }
    },
    {
      "cell_type": "code",
      "source": [
        "# Строим LDA модель \n",
        "lda_model = gensim.models.ldamodel.LdaModel(corpus=corpus,\n",
        "                                           id2word=id2word,\n",
        "                                           num_topics=8) "
      ],
      "metadata": {
        "id": "zb5Fqxvl6RvQ"
      },
      "execution_count": null,
      "outputs": []
    },
    {
      "cell_type": "code",
      "source": [
        "lda_model.print_topics()"
      ],
      "metadata": {
        "colab": {
          "base_uri": "https://localhost:8080/"
        },
        "id": "wzDrxU5qvF3r",
        "outputId": "f49f61c5-93d7-447e-d473-87934045db70"
      },
      "execution_count": null,
      "outputs": [
        {
          "output_type": "execute_result",
          "data": {
            "text/plain": [
              "[(0,\n",
              "  '0.007*\"март\" + 0.007*\"февраль\" + 0.006*\"карта\" + 0.006*\"прогноз\" + 0.005*\"выходить\" + 0.005*\"месяц\" + 0.005*\"тв\" + 0.004*\"апрель\" + 0.004*\"решение\" + 0.004*\"бред\"'),\n",
              " (1,\n",
              "  '0.019*\"ребенок\" + 0.017*\"жить\" + 0.012*\"друг\" + 0.011*\"любить\" + 0.010*\"мужчина\" + 0.010*\"женщина\" + 0.008*\"деньги\" + 0.008*\"муж\" + 0.007*\"знать\" + 0.007*\"думать\"'),\n",
              " (2,\n",
              "  '0.034*\"благодарить\" + 0.015*\"благо\" + 0.014*\"желать\" + 0.014*\"счастие\" + 0.012*\"бог\" + 0.012*\"давать\" + 0.012*\"сила\" + 0.011*\"здоровье\" + 0.011*\"любовь\" + 0.010*\"поток\"'),\n",
              " (3,\n",
              "  '0.017*\"говорить\" + 0.009*\"игра\" + 0.007*\"знак\" + 0.006*\"язык\" + 0.005*\"ангел\" + 0.005*\"сила\" + 0.005*\"война\" + 0.004*\"заканчиваться\" + 0.004*\"скрывать\" + 0.004*\"точка\"'),\n",
              " (4,\n",
              "  '0.015*\"понимать\" + 0.013*\"видеть\" + 0.013*\"говорить\" + 0.009*\"слово\" + 0.009*\"помогать\" + 0.008*\"верить\" + 0.007*\"знать\" + 0.006*\"идти\" + 0.006*\"бог\" + 0.006*\"душа\"'),\n",
              " (5,\n",
              "  '0.037*\"расклад\" + 0.019*\"благодарить\" + 0.018*\"смотреть\" + 0.015*\"делать\" + 0.011*\"вопрос\" + 0.011*\"карта\" + 0.011*\"хороший\" + 0.010*\"знать\" + 0.010*\"ответ\" + 0.008*\"общий\"'),\n",
              " (6,\n",
              "  '0.042*\"таро\" + 0.017*\"канал\" + 0.016*\"видео\" + 0.012*\"карта\" + 0.012*\"комментарий\" + 0.009*\"поддерживать\" + 0.009*\"ссылка\" + 0.008*\"профиль\" + 0.007*\"согласный\" + 0.007*\"колода\"'),\n",
              " (7,\n",
              "  '0.040*\"украина\" + 0.030*\"россия\" + 0.021*\"мир\" + 0.020*\"война\" + 0.016*\"страна\" + 0.009*\"донбасс\" + 0.007*\"земля\" + 0.007*\"город\" + 0.007*\"мирный\" + 0.007*\"путин\"')]"
            ]
          },
          "metadata": {},
          "execution_count": 229
        }
      ]
    },
    {
      "cell_type": "code",
      "source": [
        "# Перплексия (чем меньше значене тем лучше)\n",
        "lda_model.log_perplexity(corpus)"
      ],
      "metadata": {
        "colab": {
          "base_uri": "https://localhost:8080/"
        },
        "id": "NWOmvWiw776r",
        "outputId": "d1dfdb57-171f-442c-e967-1530ecb886b0"
      },
      "execution_count": null,
      "outputs": [
        {
          "output_type": "execute_result",
          "data": {
            "text/plain": [
              "-9.091515813711732"
            ]
          },
          "metadata": {},
          "execution_count": 33
        }
      ]
    },
    {
      "cell_type": "code",
      "source": [
        "# согласованность LDA модели, c_v \n",
        "cm = CoherenceModel(model=lda_model, corpus=corpus, texts=texts,\n",
        "                              dictionary=id2word, coherence='c_v') # c_v Coherence Score\n",
        "coherence = cm.get_coherence()\n",
        "coherence"
      ],
      "metadata": {
        "colab": {
          "base_uri": "https://localhost:8080/"
        },
        "id": "vF_Ds8I76RyX",
        "outputId": "1fe8cb21-d05f-4588-9064-61d35e4de995"
      },
      "execution_count": null,
      "outputs": [
        {
          "output_type": "execute_result",
          "data": {
            "text/plain": [
              "0.5273403924092082"
            ]
          },
          "metadata": {},
          "execution_count": 34
        }
      ]
    },
    {
      "cell_type": "code",
      "source": [
        "# согласованность LSA модели методом u_mass\n",
        "cm = CoherenceModel(model=lda_model, corpus=corpus,\n",
        "                              dictionary=id2word, coherence='u_mass')\n",
        "coherence = cm.get_coherence()\n",
        "coherence"
      ],
      "metadata": {
        "id": "rz6tjXN96R2E",
        "colab": {
          "base_uri": "https://localhost:8080/"
        },
        "outputId": "3b16996d-6095-409d-e7a4-2e26dda4f716"
      },
      "execution_count": null,
      "outputs": [
        {
          "output_type": "execute_result",
          "data": {
            "text/plain": [
              "-4.499080148988135"
            ]
          },
          "metadata": {},
          "execution_count": 35
        }
      ]
    },
    {
      "cell_type": "markdown",
      "source": [
        "Для модели LDA с 8 топиками согласованность, рассчитанная методом, c_v примерно равна 0,53, а методом u_mass - 0,53. Перплексия равна -9,09. Несмотря на то, что значения согласованности у модели LSA ненмого выше, она проигрывает модели LDA с точки зрения интерпретации. Для нас самое важное - это логчиность и удобство интерпретации получившихся топиков. "
      ],
      "metadata": {
        "id": "H_2VU6h58dle"
      }
    },
    {
      "cell_type": "markdown",
      "source": [
        "### Модель NMF"
      ],
      "metadata": {
        "id": "h6AUVeel9Dsh"
      }
    },
    {
      "cell_type": "code",
      "source": [
        "nmf_model = gensim.models.nmf.Nmf(corpus,id2word=id2word, num_topics=10)"
      ],
      "metadata": {
        "id": "dWO8wnN49C3w"
      },
      "execution_count": null,
      "outputs": []
    },
    {
      "cell_type": "code",
      "source": [
        "# согласованность LDA модели, c_v \n",
        "cm = CoherenceModel(model=nmf_model, corpus=corpus, texts=texts,\n",
        "                              dictionary=id2word, coherence='c_v') # c_v Coherence Score\n",
        "coherence = cm.get_coherence()\n",
        "coherence"
      ],
      "metadata": {
        "id": "4lPjA9vF75Sg",
        "colab": {
          "base_uri": "https://localhost:8080/"
        },
        "outputId": "e37cbdea-d78d-4d43-f46e-b24971d16600"
      },
      "execution_count": null,
      "outputs": [
        {
          "output_type": "execute_result",
          "data": {
            "text/plain": [
              "0.658442436232242"
            ]
          },
          "metadata": {},
          "execution_count": 37
        }
      ]
    },
    {
      "cell_type": "code",
      "source": [
        "# согласованность LSA модели методом u_mass\n",
        "cm = CoherenceModel(model=nmf_model, corpus=corpus,\n",
        "                              dictionary=id2word, coherence='u_mass')\n",
        "coherence = cm.get_coherence()\n",
        "coherence"
      ],
      "metadata": {
        "id": "YBAdYdK0CewA",
        "colab": {
          "base_uri": "https://localhost:8080/"
        },
        "outputId": "698a4356-6844-469c-b0be-23cd993aa77d"
      },
      "execution_count": null,
      "outputs": [
        {
          "output_type": "execute_result",
          "data": {
            "text/plain": [
              "-3.2519685021126876"
            ]
          },
          "metadata": {},
          "execution_count": 38
        }
      ]
    },
    {
      "cell_type": "code",
      "source": [
        "# подбираем оптимальное кол-во топиков \n",
        "def compute_coherence_values(dictionary,corpus,texts,limit,start=2,step=1):\n",
        "    coherence_values = []\n",
        "    model_list = []\n",
        "    for num_topics in range(start, limit, step):\n",
        "        model = gensim.models.nmf.Nmf(corpus=corpus, num_topics=num_topics,id2word=id2word)\n",
        "        model_list.append(model)\n",
        "        coherencemodel = CoherenceModel(model=model, texts=texts, dictionary=dictionary, coherence='c_v')\n",
        "        coherence_values.append(coherencemodel.get_coherence())\n",
        "        \n",
        "    return model_list, coherence_values"
      ],
      "metadata": {
        "id": "M2_YkSXCCe8N"
      },
      "execution_count": null,
      "outputs": []
    },
    {
      "cell_type": "code",
      "source": [
        "# задаем наши значения \n",
        "model_list, coherence_values = compute_coherence_values(dictionary=id2word,corpus=corpus,\n",
        "                                                      texts=texts, start=2, limit=50, step=5)"
      ],
      "metadata": {
        "id": "O4ixM9sYCfGG"
      },
      "execution_count": null,
      "outputs": []
    },
    {
      "cell_type": "code",
      "source": [
        "# Сторим график, который показывает как изменяется значение согласованности при добавлении топика в модель.\n",
        "limit=50; start=2; step=5;\n",
        "x= range(start, limit, step)\n",
        "plt.plot(x, coherence_values)\n",
        "plt.xlabel(\"Число топиков\")\n",
        "plt.ylabel(\"Согласованность\")\n",
        "plt.legend((\"coherence_values\"), loc='best')\n",
        "plt.show()"
      ],
      "metadata": {
        "id": "3uYHm9YaCyLR",
        "colab": {
          "base_uri": "https://localhost:8080/",
          "height": 279
        },
        "outputId": "b058b705-06cb-46a9-8953-d548fb7a0f82"
      },
      "execution_count": null,
      "outputs": [
        {
          "output_type": "display_data",
          "data": {
            "text/plain": [
              "<Figure size 432x288 with 1 Axes>"
            ],
            "image/png": "[encoded data removed]"
          },
          "metadata": {
            "needs_background": "light"
          }
        }
      ]
    },
    {
      "cell_type": "markdown",
      "source": [
        "Максимальное значение согласованности достигается с включением 22 топиков."
      ],
      "metadata": {
        "id": "iYvE14jbP2x_"
      }
    },
    {
      "cell_type": "code",
      "source": [
        "nmf_model = gensim.models.nmf.Nmf(corpus,id2word=id2word, num_topics=22)"
      ],
      "metadata": {
        "id": "NZhLaTo3JDMH"
      },
      "execution_count": null,
      "outputs": []
    },
    {
      "cell_type": "code",
      "source": [
        "# согласованность LDA модели, c_v \n",
        "cm = CoherenceModel(model=nmf_model, corpus=corpus, texts=texts,\n",
        "                              dictionary=id2word, coherence='c_v') # c_v Coherence Score\n",
        "coherence = cm.get_coherence()\n",
        "coherence"
      ],
      "metadata": {
        "id": "isVpuuXqCyR1",
        "colab": {
          "base_uri": "https://localhost:8080/"
        },
        "outputId": "c149f161-adcd-40d0-b339-b74735567b48"
      },
      "execution_count": null,
      "outputs": [
        {
          "output_type": "execute_result",
          "data": {
            "text/plain": [
              "0.6202228028400826"
            ]
          },
          "metadata": {},
          "execution_count": 44
        }
      ]
    },
    {
      "cell_type": "code",
      "source": [
        "# согласованность LSA модели методом u_mass\n",
        "cm = CoherenceModel(model=nmf_model, corpus=corpus,\n",
        "                              dictionary=id2word, coherence='u_mass')\n",
        "coherence = cm.get_coherence()\n",
        "coherence"
      ],
      "metadata": {
        "id": "YW8ffPfYQE1E",
        "colab": {
          "base_uri": "https://localhost:8080/"
        },
        "outputId": "bcfdaf7c-99c2-4445-c05b-1d5014ce24b2"
      },
      "execution_count": null,
      "outputs": [
        {
          "output_type": "execute_result",
          "data": {
            "text/plain": [
              "-3.6961098086232194"
            ]
          },
          "metadata": {},
          "execution_count": 45
        }
      ]
    },
    {
      "cell_type": "code",
      "source": [
        "nmf_model.print_topics()"
      ],
      "metadata": {
        "id": "TNbdcTj7QHg7",
        "colab": {
          "base_uri": "https://localhost:8080/"
        },
        "outputId": "ba295031-387a-4022-d978-daa63c8e0bc6"
      },
      "execution_count": null,
      "outputs": [
        {
          "output_type": "execute_result",
          "data": {
            "text/plain": [
              "[(10,\n",
              "  '0.040*\"сила\" + 0.022*\"высокий\" + 0.017*\"ждать\" + 0.015*\"понимать\" + 0.014*\"думать\" + 0.013*\"овиться\" + 0.012*\"видеть\" + 0.012*\"проходить\" + 0.008*\"семья\" + 0.008*\"помогать\"'),\n",
              " (12,\n",
              "  '0.045*\"давать\" + 0.035*\"помогать\" + 0.018*\"счастие\" + 0.017*\"сделать\" + 0.014*\"желать\" + 0.011*\"душа\" + 0.011*\"умирать\" + 0.009*\"большой\" + 0.007*\"счастливый\" + 0.007*\"овиться\"'),\n",
              " (13,\n",
              "  '0.037*\"страна\" + 0.011*\"видеть\" + 0.011*\"начинать\" + 0.010*\"будущее\" + 0.009*\"поэтому\" + 0.008*\"понимать\" + 0.007*\"происходить\" + 0.006*\"должный\" + 0.006*\"карта\" + 0.006*\"знание\"'),\n",
              " (0,\n",
              "  '0.072*\"знать\" + 0.060*\"таро\" + 0.013*\"женщина\" + 0.007*\"поток\" + 0.006*\"прогноз\" + 0.006*\"таролог\" + 0.006*\"терапия\" + 0.006*\"смотреть\" + 0.005*\"вообще\" + 0.005*\"канал\"'),\n",
              " (14,\n",
              "  '0.058*\"вопрос\" + 0.037*\"хороший\" + 0.023*\"самый\" + 0.016*\"ответ\" + 0.011*\"задавать\" + 0.011*\"видео\" + 0.010*\"думать\" + 0.010*\"отвечать\" + 0.010*\"информация\" + 0.008*\"начинать\"'),\n",
              " (5,\n",
              "  '0.042*\"ребенок\" + 0.024*\"жить\" + 0.015*\"любовь\" + 0.015*\"друг\" + 0.014*\"муж\" + 0.012*\"мужчина\" + 0.012*\"отношение\" + 0.009*\"женщина\" + 0.007*\"семья\" + 0.006*\"душа\"'),\n",
              " (6,\n",
              "  '0.098*\"говорить\" + 0.024*\"мама\" + 0.013*\"понимать\" + 0.008*\"правда\" + 0.007*\"делать\" + 0.006*\"думать\" + 0.006*\"вообще\" + 0.005*\"слово\" + 0.004*\"муж\" + 0.004*\"слушать\"'),\n",
              " (19,\n",
              "  '0.022*\"меч\" + 0.017*\"чаша\" + 0.013*\"пентакль\" + 0.011*\"жезл\" + 0.011*\"идти\" + 0.010*\"деньги\" + 0.008*\"друг\" + 0.007*\"хороший\" + 0.007*\"поездка\" + 0.007*\"ситуация\"'),\n",
              " (16,\n",
              "  '0.115*\"любить\" + 0.012*\"любовь\" + 0.010*\"видео\" + 0.008*\"верить\" + 0.007*\"счастие\" + 0.006*\"любимый\" + 0.006*\"женщина\" + 0.005*\"дело\" + 0.004*\"добрый\" + 0.004*\"прощать\"'),\n",
              " (11,\n",
              "  '0.086*\"россия\" + 0.039*\"смотреть\" + 0.023*\"видеть\" + 0.014*\"слово\" + 0.007*\"вопрос\" + 0.007*\"овиться\" + 0.006*\"друг\" + 0.006*\"государство\" + 0.004*\"нато\" + 0.004*\"европа\"'),\n",
              " (3,\n",
              "  '0.078*\"бог\" + 0.026*\"знать\" + 0.023*\"слово\" + 0.008*\"верить\" + 0.006*\"означать\" + 0.006*\"язык\" + 0.006*\"русь\" + 0.006*\"небо\" + 0.006*\"бес\" + 0.005*\"земля\"'),\n",
              " (9,\n",
              "  '0.039*\"давать\" + 0.029*\"ссылка\" + 0.028*\"пусть\" + 0.025*\"уровень\" + 0.025*\"бог\" + 0.022*\"здоровье\" + 0.019*\"канал\" + 0.016*\"практика\" + 0.016*\"программа\" + 0.015*\"час\"'),\n",
              " (17,\n",
              "  '0.064*\"путин\" + 0.051*\"жить\" + 0.029*\"россия\" + 0.015*\"страна\" + 0.015*\"город\" + 0.012*\"президент\" + 0.008*\"поставка\" + 0.008*\"боеприпасы\" + 0.008*\"зеленский\" + 0.007*\"продовольствие\"'),\n",
              " (15,\n",
              "  '0.110*\"мир\" + 0.012*\"россия\" + 0.011*\"добро\" + 0.006*\"земля\" + 0.006*\"знание\" + 0.005*\"друг\" + 0.005*\"должный\" + 0.005*\"происходить\" + 0.004*\"желать\" + 0.004*\"будущее\"'),\n",
              " (7,\n",
              "  '0.104*\"новый\" + 0.013*\"отношение\" + 0.007*\"старый\" + 0.005*\"бывший\" + 0.005*\"идти\" + 0.004*\"начинать\" + 0.004*\"ви\" + 0.004*\"наступать\" + 0.004*\"ждать\" + 0.004*\"оставаться\"'),\n",
              " (8,\n",
              "  '0.085*\"война\" + 0.022*\"россия\" + 0.014*\"украина\" + 0.013*\"страна\" + 0.010*\"мир\" + 0.008*\"земля\" + 0.008*\"государство\" + 0.008*\"идти\" + 0.007*\"заканчиваться\" + 0.006*\"убивать\"'),\n",
              " (1,\n",
              "  '0.145*\"украина\" + 0.041*\"россия\" + 0.009*\"город\" + 0.008*\"мирный\" + 0.008*\"слава\" + 0.008*\"донбасс\" + 0.007*\"украинский\" + 0.006*\"житель\" + 0.006*\"сша\" + 0.006*\"территория\"'),\n",
              " (4,\n",
              "  '0.161*\"благодарить\" + 0.019*\"сила\" + 0.017*\"канал\" + 0.016*\"ссылка\" + 0.015*\"пусть\" + 0.014*\"высокий\" + 0.012*\"уровень\" + 0.012*\"помощь\" + 0.011*\"серд\" + 0.009*\"час\"'),\n",
              " (2,\n",
              "  '0.157*\"карта\" + 0.024*\"таро\" + 0.017*\"колода\" + 0.010*\"вопрос\" + 0.007*\"показывать\" + 0.007*\"выпадать\" + 0.007*\"значение\" + 0.006*\"пентакль\" + 0.005*\"спрашивать\" + 0.005*\"читать\"'),\n",
              " (20,\n",
              "  '0.163*\"расклад\" + 0.020*\"благодарить\" + 0.016*\"сделать\" + 0.014*\"ребенок\" + 0.011*\"отношение\" + 0.010*\"любовь\" + 0.009*\"здоровье\" + 0.009*\"счастие\" + 0.007*\"деньги\" + 0.007*\"ситуация\"')]"
            ]
          },
          "metadata": {},
          "execution_count": 46
        }
      ]
    },
    {
      "cell_type": "markdown",
      "source": [
        "Для модели NMF с 22 топиками согласованность, рассчитанная методом, c_v примерно равна 0,62, а методом u_mass - 3,69."
      ],
      "metadata": {
        "id": "HkurcDu4QZT3"
      }
    },
    {
      "cell_type": "markdown",
      "source": [
        "Далее необхомо выбрать между моделью LDA и NMF. Несмотря на то, что у модели NMF согласованность немного выше, чем у модели LDA, в качестве лучшей моделя я выбираю LDA. Это связано с тем, что получвшиеся топики с использованием модели LDA получились более логичными с точки зрения интерпретации. "
      ],
      "metadata": {
        "id": "p3wSymY0LOvt"
      }
    },
    {
      "cell_type": "markdown",
      "source": [
        "Далее проинтерпретируем 8 топиков модели LDA. "
      ],
      "metadata": {
        "id": "w0d9yacfQLKE"
      }
    },
    {
      "cell_type": "code",
      "source": [
        "# еще добавим оригинальный текст к этой таблице \n",
        "comments1 = pandas.DataFrame()\n",
        "comments1['Оригинальный_текст'] = comments['snippet.textOriginal']\n",
        "comments1.dropna()\n",
        "comments1.index = range(0, len(comments1))"
      ],
      "metadata": {
        "id": "7Qi13B67W9_2"
      },
      "execution_count": null,
      "outputs": []
    },
    {
      "cell_type": "code",
      "source": [
        "# Концертируем в лист\n",
        "comments1 = comments['snippet.textOriginal'].values.tolist()"
      ],
      "metadata": {
        "id": "KU8Xkek6CBJZ"
      },
      "execution_count": null,
      "outputs": []
    },
    {
      "cell_type": "code",
      "source": [
        "#Тут мы определяем какой документ к какой теме преимущественно относится.\n",
        "def format_topics_sentences(ldamodel=lda_model, corpus=corpus, texts=comments1):\n",
        "    sent_topics_df = pandas.DataFrame()\n",
        "    # Получаем каждый топик для каждого документа \n",
        "    for i, row in enumerate(ldamodel[corpus]):\n",
        "        row = sorted(row, key=lambda x: (x[1]), reverse=True)\n",
        "        # Получите доминирующую тему, процентный вклад и ключевые слова для каждого документа\n",
        "        for j, (topic_num, prop_topic) in enumerate(row):\n",
        "            if j == 0:  # => доминирующий топик \n",
        "                wp = ldamodel.show_topic(topic_num)\n",
        "                topic_keywords = \", \".join([word for word, prop in wp])\n",
        "                sent_topics_df = sent_topics_df.append(pandas.Series([int(topic_num), round(prop_topic,4), topic_keywords]), ignore_index=True)\n",
        "            else:\n",
        "                break\n",
        "    sent_topics_df.columns = ['Dominant_Topic', 'Perc_Contribution', 'Topic_Keywords']\n",
        "    # Add original text to the end of the output\n",
        "    contents = pandas.Series(texts)\n",
        "    sent_topics_df = pandas.concat([sent_topics_df, contents], axis=1)\n",
        "    return(sent_topics_df)\n",
        "df_topic_sents_keywords = format_topics_sentences(ldamodel=lda_model, corpus=corpus, texts=comments1)\n",
        "# формат\n",
        "df_dominant_topic = df_topic_sents_keywords.reset_index()\n",
        "df_dominant_topic.columns = ['Номер_документа', 'Доминирующий_топик', 'Процентный_вклад', 'Ключевые_слова', 'Оригинальный_текст']\n",
        "# смотрим\n",
        "df_dominant_topic.head(10)"
      ],
      "metadata": {
        "colab": {
          "base_uri": "https://localhost:8080/",
          "height": 667
        },
        "id": "hmPNU2pd6EVW",
        "outputId": "e700d1e9-a904-44e2-a4a0-3fab2f1a2d8d"
      },
      "execution_count": null,
      "outputs": [
        {
          "output_type": "execute_result",
          "data": {
            "text/plain": [
              "   Номер_документа  Доминирующий_топик  Процентный_вклад  \\\n",
              "0                0                 3.0            0.2696   \n",
              "1                1                 7.0            0.4600   \n",
              "2                2                 3.0            0.3711   \n",
              "3                3                 3.0            0.4132   \n",
              "4                4                 6.0            0.6349   \n",
              "5                5                 7.0            0.4287   \n",
              "6                6                 4.0            0.6484   \n",
              "7                7                 2.0            0.3662   \n",
              "8                8                 1.0            0.7412   \n",
              "9                9                 4.0            0.4065   \n",
              "\n",
              "                                                                             Ключевые_слова  \\\n",
              "0            говорить, игра, знак, язык, ангел, сила, война, заканчиваться, скрывать, точка   \n",
              "1                 украина, россия, мир, война, страна, донбасс, земля, город, мирный, путин   \n",
              "2            говорить, игра, знак, язык, ангел, сила, война, заканчиваться, скрывать, точка   \n",
              "3            говорить, игра, знак, язык, ангел, сила, война, заканчиваться, скрывать, точка   \n",
              "4  таро, канал, видео, карта, комментарий, поддерживать, ссылка, профиль, согласный, колода   \n",
              "5                 украина, россия, мир, война, страна, донбасс, земля, город, мирный, путин   \n",
              "6               понимать, видеть, говорить, слово, помогать, верить, знать, идти, бог, душа   \n",
              "7           благодарить, благо, желать, счастие, бог, давать, сила, здоровье, любовь, поток   \n",
              "8                 ребенок, жить, друг, любить, мужчина, женщина, деньги, муж, знать, думать   \n",
              "9               понимать, видеть, говорить, слово, помогать, верить, знать, идти, бог, душа   \n",
              "\n",
              "                                                                                    Оригинальный_текст  \n",
              "0  тайм-коды:\\n0:10 - Флаг! ⚡\\n0:25 - до начала эфира на 'Эхо Москвы' - про детский календарь (разв...  \n",
              "1                                                                   Жаль до моргенштерна не добрались.  \n",
              "2  Невзоров в перерыве, говоря о Вассермане, сказал настолько потрясающую и проникающую речь, прост...  \n",
              "3  Многие удивляются, - а почему так быстро сварили вакцины? Причём, во всём мире ... А недавно так...  \n",
              "4  Спасибо! Про Дуню забавно. А что если и Вассерман тоже баба с сиськами под бородой?! Похоже... А...  \n",
              "5  Сколько же в стране несчастных людей, которые за чужой счёт самоутверждаются? Может их жалеть ну...  \n",
              "6  Как легко деньги зарабатывать. Поговорил... Включил немного образования... Немного Ютуба... всё ...  \n",
              "7        Саня!! Глебыч... не стать мне в телефизор, но племяшки меня слушают.. хоть им голову поправлю  \n",
              "8  Саня с \"шутками\" про морги, не знал, что ковидных мертвецов выдают с забитыми гробами ( хоронили...  \n",
              "9  Если мы не хотим, чтобы нас опустили до положения кур на птицефабрике, мы должны намертво стоять...  "
            ],
            "text/html": [
              "\n",
              "  <div id=\"df-07b81b0b-adb3-410e-b1ea-32801c4b0826\">\n",
              "    <div class=\"colab-df-container\">\n",
              "      <div>\n",
              "<style scoped>\n",
              "    .dataframe tbody tr th:only-of-type {\n",
              "        vertical-align: middle;\n",
              "    }\n",
              "\n",
              "    .dataframe tbody tr th {\n",
              "        vertical-align: top;\n",
              "    }\n",
              "\n",
              "    .dataframe thead th {\n",
              "        text-align: right;\n",
              "    }\n",
              "</style>\n",
              "<table border=\"1\" class=\"dataframe\">\n",
              "  <thead>\n",
              "    <tr style=\"text-align: right;\">\n",
              "      <th></th>\n",
              "      <th>Номер_документа</th>\n",
              "      <th>Доминирующий_топик</th>\n",
              "      <th>Процентный_вклад</th>\n",
              "      <th>Ключевые_слова</th>\n",
              "      <th>Оригинальный_текст</th>\n",
              "    </tr>\n",
              "  </thead>\n",
              "  <tbody>\n",
              "    <tr>\n",
              "      <th>0</th>\n",
              "      <td>0</td>\n",
              "      <td>3.0</td>\n",
              "      <td>0.2696</td>\n",
              "      <td>говорить, игра, знак, язык, ангел, сила, война, заканчиваться, скрывать, точка</td>\n",
              "      <td>тайм-коды:\\n0:10 - Флаг! ⚡\\n0:25 - до начала эфира на 'Эхо Москвы' - про детский календарь (разв...</td>\n",
              "    </tr>\n",
              "    <tr>\n",
              "      <th>1</th>\n",
              "      <td>1</td>\n",
              "      <td>7.0</td>\n",
              "      <td>0.4600</td>\n",
              "      <td>украина, россия, мир, война, страна, донбасс, земля, город, мирный, путин</td>\n",
              "      <td>Жаль до моргенштерна не добрались.</td>\n",
              "    </tr>\n",
              "    <tr>\n",
              "      <th>2</th>\n",
              "      <td>2</td>\n",
              "      <td>3.0</td>\n",
              "      <td>0.3711</td>\n",
              "      <td>говорить, игра, знак, язык, ангел, сила, война, заканчиваться, скрывать, точка</td>\n",
              "      <td>Невзоров в перерыве, говоря о Вассермане, сказал настолько потрясающую и проникающую речь, прост...</td>\n",
              "    </tr>\n",
              "    <tr>\n",
              "      <th>3</th>\n",
              "      <td>3</td>\n",
              "      <td>3.0</td>\n",
              "      <td>0.4132</td>\n",
              "      <td>говорить, игра, знак, язык, ангел, сила, война, заканчиваться, скрывать, точка</td>\n",
              "      <td>Многие удивляются, - а почему так быстро сварили вакцины? Причём, во всём мире ... А недавно так...</td>\n",
              "    </tr>\n",
              "    <tr>\n",
              "      <th>4</th>\n",
              "      <td>4</td>\n",
              "      <td>6.0</td>\n",
              "      <td>0.6349</td>\n",
              "      <td>таро, канал, видео, карта, комментарий, поддерживать, ссылка, профиль, согласный, колода</td>\n",
              "      <td>Спасибо! Про Дуню забавно. А что если и Вассерман тоже баба с сиськами под бородой?! Похоже... А...</td>\n",
              "    </tr>\n",
              "    <tr>\n",
              "      <th>5</th>\n",
              "      <td>5</td>\n",
              "      <td>7.0</td>\n",
              "      <td>0.4287</td>\n",
              "      <td>украина, россия, мир, война, страна, донбасс, земля, город, мирный, путин</td>\n",
              "      <td>Сколько же в стране несчастных людей, которые за чужой счёт самоутверждаются? Может их жалеть ну...</td>\n",
              "    </tr>\n",
              "    <tr>\n",
              "      <th>6</th>\n",
              "      <td>6</td>\n",
              "      <td>4.0</td>\n",
              "      <td>0.6484</td>\n",
              "      <td>понимать, видеть, говорить, слово, помогать, верить, знать, идти, бог, душа</td>\n",
              "      <td>Как легко деньги зарабатывать. Поговорил... Включил немного образования... Немного Ютуба... всё ...</td>\n",
              "    </tr>\n",
              "    <tr>\n",
              "      <th>7</th>\n",
              "      <td>7</td>\n",
              "      <td>2.0</td>\n",
              "      <td>0.3662</td>\n",
              "      <td>благодарить, благо, желать, счастие, бог, давать, сила, здоровье, любовь, поток</td>\n",
              "      <td>Саня!! Глебыч... не стать мне в телефизор, но племяшки меня слушают.. хоть им голову поправлю</td>\n",
              "    </tr>\n",
              "    <tr>\n",
              "      <th>8</th>\n",
              "      <td>8</td>\n",
              "      <td>1.0</td>\n",
              "      <td>0.7412</td>\n",
              "      <td>ребенок, жить, друг, любить, мужчина, женщина, деньги, муж, знать, думать</td>\n",
              "      <td>Саня с \"шутками\" про морги, не знал, что ковидных мертвецов выдают с забитыми гробами ( хоронили...</td>\n",
              "    </tr>\n",
              "    <tr>\n",
              "      <th>9</th>\n",
              "      <td>9</td>\n",
              "      <td>4.0</td>\n",
              "      <td>0.4065</td>\n",
              "      <td>понимать, видеть, говорить, слово, помогать, верить, знать, идти, бог, душа</td>\n",
              "      <td>Если мы не хотим, чтобы нас опустили до положения кур на птицефабрике, мы должны намертво стоять...</td>\n",
              "    </tr>\n",
              "  </tbody>\n",
              "</table>\n",
              "</div>\n",
              "      <button class=\"colab-df-convert\" onclick=\"convertToInteractive('df-07b81b0b-adb3-410e-b1ea-32801c4b0826')\"\n",
              "              title=\"Convert this dataframe to an interactive table.\"\n",
              "              style=\"display:none;\">\n",
              "        \n",
              "  <svg xmlns=\"http://www.w3.org/2000/svg\" height=\"24px\"viewBox=\"0 0 24 24\"\n",
              "       width=\"24px\">\n",
              "    <path d=\"M0 0h24v24H0V0z\" fill=\"none\"/>\n",
              "    <path d=\"M18.56 5.44l.94 2.06.94-2.06 2.06-.94-2.06-.94-.94-2.06-.94 2.06-2.06.94zm-11 1L8.5 8.5l.94-2.06 2.06-.94-2.06-.94L8.5 2.5l-.94 2.06-2.06.94zm10 10l.94 2.06.94-2.06 2.06-.94-2.06-.94-.94-2.06-.94 2.06-2.06.94z\"/><path d=\"M17.41 7.96l-1.37-1.37c-.4-.4-.92-.59-1.43-.59-.52 0-1.04.2-1.43.59L10.3 9.45l-7.72 7.72c-.78.78-.78 2.05 0 2.83L4 21.41c.39.39.9.59 1.41.59.51 0 1.02-.2 1.41-.59l7.78-7.78 2.81-2.81c.8-.78.8-2.07 0-2.86zM5.41 20L4 18.59l7.72-7.72 1.47 1.35L5.41 20z\"/>\n",
              "  </svg>\n",
              "      </button>\n",
              "      \n",
              "  <style>\n",
              "    .colab-df-container {\n",
              "      display:flex;\n",
              "      flex-wrap:wrap;\n",
              "      gap: 12px;\n",
              "    }\n",
              "\n",
              "    .colab-df-convert {\n",
              "      background-color: #E8F0FE;\n",
              "      border: none;\n",
              "      border-radius: 50%;\n",
              "      cursor: pointer;\n",
              "      display: none;\n",
              "      fill: #1967D2;\n",
              "      height: 32px;\n",
              "      padding: 0 0 0 0;\n",
              "      width: 32px;\n",
              "    }\n",
              "\n",
              "    .colab-df-convert:hover {\n",
              "      background-color: #E2EBFA;\n",
              "      box-shadow: 0px 1px 2px rgba(60, 64, 67, 0.3), 0px 1px 3px 1px rgba(60, 64, 67, 0.15);\n",
              "      fill: #174EA6;\n",
              "    }\n",
              "\n",
              "    [theme=dark] .colab-df-convert {\n",
              "      background-color: #3B4455;\n",
              "      fill: #D2E3FC;\n",
              "    }\n",
              "\n",
              "    [theme=dark] .colab-df-convert:hover {\n",
              "      background-color: #434B5C;\n",
              "      box-shadow: 0px 1px 3px 1px rgba(0, 0, 0, 0.15);\n",
              "      filter: drop-shadow(0px 1px 2px rgba(0, 0, 0, 0.3));\n",
              "      fill: #FFFFFF;\n",
              "    }\n",
              "  </style>\n",
              "\n",
              "      <script>\n",
              "        const buttonEl =\n",
              "          document.querySelector('#df-07b81b0b-adb3-410e-b1ea-32801c4b0826 button.colab-df-convert');\n",
              "        buttonEl.style.display =\n",
              "          google.colab.kernel.accessAllowed ? 'block' : 'none';\n",
              "\n",
              "        async function convertToInteractive(key) {\n",
              "          const element = document.querySelector('#df-07b81b0b-adb3-410e-b1ea-32801c4b0826');\n",
              "          const dataTable =\n",
              "            await google.colab.kernel.invokeFunction('convertToInteractive',\n",
              "                                                     [key], {});\n",
              "          if (!dataTable) return;\n",
              "\n",
              "          const docLinkHtml = 'Like what you see? Visit the ' +\n",
              "            '<a target=\"_blank\" href=https://colab.research.google.com/notebooks/data_table.ipynb>data table notebook</a>'\n",
              "            + ' to learn more about interactive tables.';\n",
              "          element.innerHTML = '';\n",
              "          dataTable['output_type'] = 'display_data';\n",
              "          await google.colab.output.renderOutput(dataTable, element);\n",
              "          const docLink = document.createElement('div');\n",
              "          docLink.innerHTML = docLinkHtml;\n",
              "          element.appendChild(docLink);\n",
              "        }\n",
              "      </script>\n",
              "    </div>\n",
              "  </div>\n",
              "  "
            ]
          },
          "metadata": {},
          "execution_count": 232
        }
      ]
    },
    {
      "cell_type": "code",
      "source": [
        "df_dominant_topic['Преобразованный_текст'] = comments['Текста_на_предобработку']"
      ],
      "metadata": {
        "id": "BM0h5N52Pgle"
      },
      "execution_count": null,
      "outputs": []
    },
    {
      "cell_type": "code",
      "source": [
        "df_dominant_topic"
      ],
      "metadata": {
        "colab": {
          "base_uri": "https://localhost:8080/",
          "height": 1000
        },
        "id": "UAz9_7czQYsa",
        "outputId": "dd7aaa2b-baab-43f2-a82d-9812145febbe"
      },
      "execution_count": null,
      "outputs": [
        {
          "output_type": "execute_result",
          "data": {
            "text/plain": [
              "       Номер_документа  Доминирующий_топик  Процентный_вклад  \\\n",
              "0                    0                 3.0            0.2696   \n",
              "1                    1                 7.0            0.4600   \n",
              "2                    2                 3.0            0.3711   \n",
              "3                    3                 3.0            0.4132   \n",
              "4                    4                 6.0            0.6349   \n",
              "...                ...                 ...               ...   \n",
              "54782            54782                 4.0            0.5639   \n",
              "54783            54783                 0.0            0.1250   \n",
              "54784            54784                 5.0            0.7083   \n",
              "54785            54785                 7.0            0.7080   \n",
              "54786            54786                 2.0            0.7164   \n",
              "\n",
              "                                                                                 Ключевые_слова  \\\n",
              "0                говорить, игра, знак, язык, ангел, сила, война, заканчиваться, скрывать, точка   \n",
              "1                     украина, россия, мир, война, страна, донбасс, земля, город, мирный, путин   \n",
              "2                говорить, игра, знак, язык, ангел, сила, война, заканчиваться, скрывать, точка   \n",
              "3                говорить, игра, знак, язык, ангел, сила, война, заканчиваться, скрывать, точка   \n",
              "4      таро, канал, видео, карта, комментарий, поддерживать, ссылка, профиль, согласный, колода   \n",
              "...                                                                                         ...   \n",
              "54782               понимать, видеть, говорить, слово, помогать, верить, знать, идти, бог, душа   \n",
              "54783                 март, февраль, карта, прогноз, выходить, месяц, тв, апрель, решение, бред   \n",
              "54784       расклад, благодарить, смотреть, делать, вопрос, карта, хороший, знать, ответ, общий   \n",
              "54785                 украина, россия, мир, война, страна, донбасс, земля, город, мирный, путин   \n",
              "54786           благодарить, благо, желать, счастие, бог, давать, сила, здоровье, любовь, поток   \n",
              "\n",
              "                                                                                        Оригинальный_текст  \\\n",
              "0      тайм-коды:\\n0:10 - Флаг! ⚡\\n0:25 - до начала эфира на 'Эхо Москвы' - про детский календарь (разв...   \n",
              "1                                                                       Жаль до моргенштерна не добрались.   \n",
              "2      Невзоров в перерыве, говоря о Вассермане, сказал настолько потрясающую и проникающую речь, прост...   \n",
              "3      Многие удивляются, - а почему так быстро сварили вакцины? Причём, во всём мире ... А недавно так...   \n",
              "4      Спасибо! Про Дуню забавно. А что если и Вассерман тоже баба с сиськами под бородой?! Похоже... А...   \n",
              "...                                                                                                    ...   \n",
              "54782                                      шанс всегда хорошо виден - распознать нетрудно, трудно решиться   \n",
              "54783                                                                               Ю\\n\\n\\n\\n\\n\\n\\n\\n\\n\\nЮ   \n",
              "54784                                                               А сами расклад смотрите?????? Зачем???   \n",
              "54785                                                                               Та же самая история!!!   \n",
              "54786                                                      Благо Дарю сердечно и благо принимаю  сердцем))   \n",
              "\n",
              "                                                                                     Преобразованный_текст  \n",
              "0      тайм код   флаг   начало эфир эхо москва детский календарь развитие    окно европа законопачиват...  \n",
              "1                                                                              жаль моргенштерн добираться  \n",
              "2                             невзоров перерыв говоритьссерман настольпотрясать проникать речь великолепно  \n",
              "3      многие удивляться быстро свариватькцина причем мир удивляться появление новый штамм вирус удивля...  \n",
              "4                                  дуня забавноссерман баба сиська борода похоже дуня б кремль пусть спеть  \n",
              "...                                                                                                    ...  \n",
              "54782                                                    шанс видный распознавать нетрудно трудно решаться  \n",
              "54783                                                                                                  ю ю  \n",
              "54784                                                                                     расклад смотреть  \n",
              "54785                                                                                        самый история  \n",
              "54786                                                           благо дарить сердечно благо принимать серд  \n",
              "\n",
              "[54787 rows x 6 columns]"
            ],
            "text/html": [
              "\n",
              "  <div id=\"df-86aa4ce8-4669-4917-86ed-9f26aa6254f8\">\n",
              "    <div class=\"colab-df-container\">\n",
              "      <div>\n",
              "<style scoped>\n",
              "    .dataframe tbody tr th:only-of-type {\n",
              "        vertical-align: middle;\n",
              "    }\n",
              "\n",
              "    .dataframe tbody tr th {\n",
              "        vertical-align: top;\n",
              "    }\n",
              "\n",
              "    .dataframe thead th {\n",
              "        text-align: right;\n",
              "    }\n",
              "</style>\n",
              "<table border=\"1\" class=\"dataframe\">\n",
              "  <thead>\n",
              "    <tr style=\"text-align: right;\">\n",
              "      <th></th>\n",
              "      <th>Номер_документа</th>\n",
              "      <th>Доминирующий_топик</th>\n",
              "      <th>Процентный_вклад</th>\n",
              "      <th>Ключевые_слова</th>\n",
              "      <th>Оригинальный_текст</th>\n",
              "      <th>Преобразованный_текст</th>\n",
              "    </tr>\n",
              "  </thead>\n",
              "  <tbody>\n",
              "    <tr>\n",
              "      <th>0</th>\n",
              "      <td>0</td>\n",
              "      <td>3.0</td>\n",
              "      <td>0.2696</td>\n",
              "      <td>говорить, игра, знак, язык, ангел, сила, война, заканчиваться, скрывать, точка</td>\n",
              "      <td>тайм-коды:\\n0:10 - Флаг! ⚡\\n0:25 - до начала эфира на 'Эхо Москвы' - про детский календарь (разв...</td>\n",
              "      <td>тайм код   флаг   начало эфир эхо москва детский календарь развитие    окно европа законопачиват...</td>\n",
              "    </tr>\n",
              "    <tr>\n",
              "      <th>1</th>\n",
              "      <td>1</td>\n",
              "      <td>7.0</td>\n",
              "      <td>0.4600</td>\n",
              "      <td>украина, россия, мир, война, страна, донбасс, земля, город, мирный, путин</td>\n",
              "      <td>Жаль до моргенштерна не добрались.</td>\n",
              "      <td>жаль моргенштерн добираться</td>\n",
              "    </tr>\n",
              "    <tr>\n",
              "      <th>2</th>\n",
              "      <td>2</td>\n",
              "      <td>3.0</td>\n",
              "      <td>0.3711</td>\n",
              "      <td>говорить, игра, знак, язык, ангел, сила, война, заканчиваться, скрывать, точка</td>\n",
              "      <td>Невзоров в перерыве, говоря о Вассермане, сказал настолько потрясающую и проникающую речь, прост...</td>\n",
              "      <td>невзоров перерыв говоритьссерман настольпотрясать проникать речь великолепно</td>\n",
              "    </tr>\n",
              "    <tr>\n",
              "      <th>3</th>\n",
              "      <td>3</td>\n",
              "      <td>3.0</td>\n",
              "      <td>0.4132</td>\n",
              "      <td>говорить, игра, знак, язык, ангел, сила, война, заканчиваться, скрывать, точка</td>\n",
              "      <td>Многие удивляются, - а почему так быстро сварили вакцины? Причём, во всём мире ... А недавно так...</td>\n",
              "      <td>многие удивляться быстро свариватькцина причем мир удивляться появление новый штамм вирус удивля...</td>\n",
              "    </tr>\n",
              "    <tr>\n",
              "      <th>4</th>\n",
              "      <td>4</td>\n",
              "      <td>6.0</td>\n",
              "      <td>0.6349</td>\n",
              "      <td>таро, канал, видео, карта, комментарий, поддерживать, ссылка, профиль, согласный, колода</td>\n",
              "      <td>Спасибо! Про Дуню забавно. А что если и Вассерман тоже баба с сиськами под бородой?! Похоже... А...</td>\n",
              "      <td>дуня забавноссерман баба сиська борода похоже дуня б кремль пусть спеть</td>\n",
              "    </tr>\n",
              "    <tr>\n",
              "      <th>...</th>\n",
              "      <td>...</td>\n",
              "      <td>...</td>\n",
              "      <td>...</td>\n",
              "      <td>...</td>\n",
              "      <td>...</td>\n",
              "      <td>...</td>\n",
              "    </tr>\n",
              "    <tr>\n",
              "      <th>54782</th>\n",
              "      <td>54782</td>\n",
              "      <td>4.0</td>\n",
              "      <td>0.5639</td>\n",
              "      <td>понимать, видеть, говорить, слово, помогать, верить, знать, идти, бог, душа</td>\n",
              "      <td>шанс всегда хорошо виден - распознать нетрудно, трудно решиться</td>\n",
              "      <td>шанс видный распознавать нетрудно трудно решаться</td>\n",
              "    </tr>\n",
              "    <tr>\n",
              "      <th>54783</th>\n",
              "      <td>54783</td>\n",
              "      <td>0.0</td>\n",
              "      <td>0.1250</td>\n",
              "      <td>март, февраль, карта, прогноз, выходить, месяц, тв, апрель, решение, бред</td>\n",
              "      <td>Ю\\n\\n\\n\\n\\n\\n\\n\\n\\n\\nЮ</td>\n",
              "      <td>ю ю</td>\n",
              "    </tr>\n",
              "    <tr>\n",
              "      <th>54784</th>\n",
              "      <td>54784</td>\n",
              "      <td>5.0</td>\n",
              "      <td>0.7083</td>\n",
              "      <td>расклад, благодарить, смотреть, делать, вопрос, карта, хороший, знать, ответ, общий</td>\n",
              "      <td>А сами расклад смотрите?????? Зачем???</td>\n",
              "      <td>расклад смотреть</td>\n",
              "    </tr>\n",
              "    <tr>\n",
              "      <th>54785</th>\n",
              "      <td>54785</td>\n",
              "      <td>7.0</td>\n",
              "      <td>0.7080</td>\n",
              "      <td>украина, россия, мир, война, страна, донбасс, земля, город, мирный, путин</td>\n",
              "      <td>Та же самая история!!!</td>\n",
              "      <td>самый история</td>\n",
              "    </tr>\n",
              "    <tr>\n",
              "      <th>54786</th>\n",
              "      <td>54786</td>\n",
              "      <td>2.0</td>\n",
              "      <td>0.7164</td>\n",
              "      <td>благодарить, благо, желать, счастие, бог, давать, сила, здоровье, любовь, поток</td>\n",
              "      <td>Благо Дарю сердечно и благо принимаю  сердцем))</td>\n",
              "      <td>благо дарить сердечно благо принимать серд</td>\n",
              "    </tr>\n",
              "  </tbody>\n",
              "</table>\n",
              "<p>54787 rows × 6 columns</p>\n",
              "</div>\n",
              "      <button class=\"colab-df-convert\" onclick=\"convertToInteractive('df-86aa4ce8-4669-4917-86ed-9f26aa6254f8')\"\n",
              "              title=\"Convert this dataframe to an interactive table.\"\n",
              "              style=\"display:none;\">\n",
              "        \n",
              "  <svg xmlns=\"http://www.w3.org/2000/svg\" height=\"24px\"viewBox=\"0 0 24 24\"\n",
              "       width=\"24px\">\n",
              "    <path d=\"M0 0h24v24H0V0z\" fill=\"none\"/>\n",
              "    <path d=\"M18.56 5.44l.94 2.06.94-2.06 2.06-.94-2.06-.94-.94-2.06-.94 2.06-2.06.94zm-11 1L8.5 8.5l.94-2.06 2.06-.94-2.06-.94L8.5 2.5l-.94 2.06-2.06.94zm10 10l.94 2.06.94-2.06 2.06-.94-2.06-.94-.94-2.06-.94 2.06-2.06.94z\"/><path d=\"M17.41 7.96l-1.37-1.37c-.4-.4-.92-.59-1.43-.59-.52 0-1.04.2-1.43.59L10.3 9.45l-7.72 7.72c-.78.78-.78 2.05 0 2.83L4 21.41c.39.39.9.59 1.41.59.51 0 1.02-.2 1.41-.59l7.78-7.78 2.81-2.81c.8-.78.8-2.07 0-2.86zM5.41 20L4 18.59l7.72-7.72 1.47 1.35L5.41 20z\"/>\n",
              "  </svg>\n",
              "      </button>\n",
              "      \n",
              "  <style>\n",
              "    .colab-df-container {\n",
              "      display:flex;\n",
              "      flex-wrap:wrap;\n",
              "      gap: 12px;\n",
              "    }\n",
              "\n",
              "    .colab-df-convert {\n",
              "      background-color: #E8F0FE;\n",
              "      border: none;\n",
              "      border-radius: 50%;\n",
              "      cursor: pointer;\n",
              "      display: none;\n",
              "      fill: #1967D2;\n",
              "      height: 32px;\n",
              "      padding: 0 0 0 0;\n",
              "      width: 32px;\n",
              "    }\n",
              "\n",
              "    .colab-df-convert:hover {\n",
              "      background-color: #E2EBFA;\n",
              "      box-shadow: 0px 1px 2px rgba(60, 64, 67, 0.3), 0px 1px 3px 1px rgba(60, 64, 67, 0.15);\n",
              "      fill: #174EA6;\n",
              "    }\n",
              "\n",
              "    [theme=dark] .colab-df-convert {\n",
              "      background-color: #3B4455;\n",
              "      fill: #D2E3FC;\n",
              "    }\n",
              "\n",
              "    [theme=dark] .colab-df-convert:hover {\n",
              "      background-color: #434B5C;\n",
              "      box-shadow: 0px 1px 3px 1px rgba(0, 0, 0, 0.15);\n",
              "      filter: drop-shadow(0px 1px 2px rgba(0, 0, 0, 0.3));\n",
              "      fill: #FFFFFF;\n",
              "    }\n",
              "  </style>\n",
              "\n",
              "      <script>\n",
              "        const buttonEl =\n",
              "          document.querySelector('#df-86aa4ce8-4669-4917-86ed-9f26aa6254f8 button.colab-df-convert');\n",
              "        buttonEl.style.display =\n",
              "          google.colab.kernel.accessAllowed ? 'block' : 'none';\n",
              "\n",
              "        async function convertToInteractive(key) {\n",
              "          const element = document.querySelector('#df-86aa4ce8-4669-4917-86ed-9f26aa6254f8');\n",
              "          const dataTable =\n",
              "            await google.colab.kernel.invokeFunction('convertToInteractive',\n",
              "                                                     [key], {});\n",
              "          if (!dataTable) return;\n",
              "\n",
              "          const docLinkHtml = 'Like what you see? Visit the ' +\n",
              "            '<a target=\"_blank\" href=https://colab.research.google.com/notebooks/data_table.ipynb>data table notebook</a>'\n",
              "            + ' to learn more about interactive tables.';\n",
              "          element.innerHTML = '';\n",
              "          dataTable['output_type'] = 'display_data';\n",
              "          await google.colab.output.renderOutput(dataTable, element);\n",
              "          const docLink = document.createElement('div');\n",
              "          docLink.innerHTML = docLinkHtml;\n",
              "          element.appendChild(docLink);\n",
              "        }\n",
              "      </script>\n",
              "    </div>\n",
              "  </div>\n",
              "  "
            ]
          },
          "metadata": {},
          "execution_count": 235
        }
      ]
    },
    {
      "cell_type": "code",
      "source": [
        "df_dominant_topic.to_excel('доминирующие_топики_послековида.xlsx')"
      ],
      "metadata": {
        "id": "S9YmTcvEegI6"
      },
      "execution_count": null,
      "outputs": []
    },
    {
      "cell_type": "code",
      "source": [
        "# смотрим сколько докумнтов попало в каждую тему\n",
        "df_dominant_topic['Доминирующий_топик'].value_counts()"
      ],
      "metadata": {
        "colab": {
          "base_uri": "https://localhost:8080/"
        },
        "id": "Pu2panVtboWZ",
        "outputId": "9b2dbd56-527b-42bb-e8b8-7b71ef85c345"
      },
      "execution_count": null,
      "outputs": [
        {
          "output_type": "execute_result",
          "data": {
            "text/plain": [
              "2.0    9089\n",
              "5.0    8384\n",
              "0.0    7882\n",
              "1.0    7516\n",
              "7.0    6916\n",
              "4.0    6508\n",
              "6.0    4482\n",
              "3.0    4010\n",
              "Name: Доминирующий_топик, dtype: int64"
            ]
          },
          "metadata": {},
          "execution_count": 237
        }
      ]
    },
    {
      "cell_type": "code",
      "source": [
        "# Наиболее связаные текста с топиками\n",
        "\n",
        "pandas.options.display.max_colwidth = 100\n",
        "\n",
        "sent_topics_sorteddf_mallet = pandas.DataFrame()\n",
        "sent_topics_outdf_grpd = df_topic_sents_keywords.groupby('Dominant_Topic')\n",
        "\n",
        "for i, grp in sent_topics_outdf_grpd:\n",
        "    sent_topics_sorteddf_mallet = pandas.concat([sent_topics_sorteddf_mallet, \n",
        "                                             grp.sort_values(['Perc_Contribution'], ascending=False).head(1)], \n",
        "                                            axis=0)\n",
        "  \n",
        "sent_topics_sorteddf_mallet.reset_index(drop=True, inplace=True)\n",
        "\n",
        "sent_topics_sorteddf_mallet.columns = ['Topic_Num', \"Topic_Perc_Contrib\", \"Keywords\", \"Representative Text\"]\n",
        "\n",
        "sent_topics_sorteddf_mallet"
      ],
      "metadata": {
        "colab": {
          "base_uri": "https://localhost:8080/",
          "height": 500
        },
        "id": "MUNfCdFStA_P",
        "outputId": "c1578491-d1b2-4b48-8d35-1eb16b869a20"
      },
      "execution_count": null,
      "outputs": [
        {
          "output_type": "execute_result",
          "data": {
            "text/plain": [
              "   Topic_Num  Topic_Perc_Contrib  \\\n",
              "0        0.0              0.9796   \n",
              "1        1.0              0.9416   \n",
              "2        2.0              0.9583   \n",
              "3        3.0              0.9374   \n",
              "4        4.0              0.9539   \n",
              "5        5.0              0.9619   \n",
              "6        6.0              0.9453   \n",
              "7        7.0              0.9539   \n",
              "\n",
              "                                                                                   Keywords  \\\n",
              "0                 март, февраль, карта, прогноз, выходить, месяц, тв, апрель, решение, бред   \n",
              "1                 ребенок, жить, друг, любить, мужчина, женщина, деньги, муж, знать, думать   \n",
              "2           благодарить, благо, желать, счастие, бог, давать, сила, здоровье, любовь, поток   \n",
              "3            говорить, игра, знак, язык, ангел, сила, война, заканчиваться, скрывать, точка   \n",
              "4               понимать, видеть, говорить, слово, помогать, верить, знать, идти, бог, душа   \n",
              "5       расклад, благодарить, смотреть, делать, вопрос, карта, хороший, знать, ответ, общий   \n",
              "6  таро, канал, видео, карта, комментарий, поддерживать, ссылка, профиль, согласный, колода   \n",
              "7                 украина, россия, мир, война, страна, донбасс, земля, город, мирный, путин   \n",
              "\n",
              "                                                                                   Representative Text  \n",
              "0  Январь - Король мечей\\nФевраль - Суд\\nМарт - Король жезлов+Паж чаш\\nАпрель - Паж мечей+Четвёрка ...  \n",
              "1  Я бы хотела ,что бы,его семья отвечала за его поступок. Он подонок!!!Взяв от меня денег тратил д...  \n",
              "2  БЛАГОДАРЮ ВАС АННА ЗА ПРЕКРАСНЫЙ РАСКЛАД!❤ БЛАГОДАРЮ  ГЕКАТУ ЗА ИНФОРМАЦИЮ , ПОМОЩЬ И ПОДДЕРЖКУ!...  \n",
              "3  Всегда было так...Цинга...холера ....чума...испанка...туберкулез...рак...лечим одно...появляется...  \n",
              "4  Дай Бог , что бы его душа почувствовала ваш рассклад... Дай Бог вам Божьей Благодати... а в след...  \n",
              "5  Да. Я хотела бы узнать почему мне изменяли мужчины. Почему я одна? Так должно быть или это венец...  \n",
              "6  Медалист, есть одна фича. Короч призрака можно найти по раскиданным предметам. Если ты подходишь...  \n",
              "7  Я из Украины, центр. Анжела, это не операция, это-война! Настоящая война, взрывы, стрельба, кров...  "
            ],
            "text/html": [
              "\n",
              "  <div id=\"df-e06762d5-0ffe-4996-a49d-b2292d2cce69\">\n",
              "    <div class=\"colab-df-container\">\n",
              "      <div>\n",
              "<style scoped>\n",
              "    .dataframe tbody tr th:only-of-type {\n",
              "        vertical-align: middle;\n",
              "    }\n",
              "\n",
              "    .dataframe tbody tr th {\n",
              "        vertical-align: top;\n",
              "    }\n",
              "\n",
              "    .dataframe thead th {\n",
              "        text-align: right;\n",
              "    }\n",
              "</style>\n",
              "<table border=\"1\" class=\"dataframe\">\n",
              "  <thead>\n",
              "    <tr style=\"text-align: right;\">\n",
              "      <th></th>\n",
              "      <th>Topic_Num</th>\n",
              "      <th>Topic_Perc_Contrib</th>\n",
              "      <th>Keywords</th>\n",
              "      <th>Representative Text</th>\n",
              "    </tr>\n",
              "  </thead>\n",
              "  <tbody>\n",
              "    <tr>\n",
              "      <th>0</th>\n",
              "      <td>0.0</td>\n",
              "      <td>0.9796</td>\n",
              "      <td>март, февраль, карта, прогноз, выходить, месяц, тв, апрель, решение, бред</td>\n",
              "      <td>Январь - Король мечей\\nФевраль - Суд\\nМарт - Король жезлов+Паж чаш\\nАпрель - Паж мечей+Четвёрка ...</td>\n",
              "    </tr>\n",
              "    <tr>\n",
              "      <th>1</th>\n",
              "      <td>1.0</td>\n",
              "      <td>0.9416</td>\n",
              "      <td>ребенок, жить, друг, любить, мужчина, женщина, деньги, муж, знать, думать</td>\n",
              "      <td>Я бы хотела ,что бы,его семья отвечала за его поступок. Он подонок!!!Взяв от меня денег тратил д...</td>\n",
              "    </tr>\n",
              "    <tr>\n",
              "      <th>2</th>\n",
              "      <td>2.0</td>\n",
              "      <td>0.9583</td>\n",
              "      <td>благодарить, благо, желать, счастие, бог, давать, сила, здоровье, любовь, поток</td>\n",
              "      <td>БЛАГОДАРЮ ВАС АННА ЗА ПРЕКРАСНЫЙ РАСКЛАД!❤ БЛАГОДАРЮ  ГЕКАТУ ЗА ИНФОРМАЦИЮ , ПОМОЩЬ И ПОДДЕРЖКУ!...</td>\n",
              "    </tr>\n",
              "    <tr>\n",
              "      <th>3</th>\n",
              "      <td>3.0</td>\n",
              "      <td>0.9374</td>\n",
              "      <td>говорить, игра, знак, язык, ангел, сила, война, заканчиваться, скрывать, точка</td>\n",
              "      <td>Всегда было так...Цинга...холера ....чума...испанка...туберкулез...рак...лечим одно...появляется...</td>\n",
              "    </tr>\n",
              "    <tr>\n",
              "      <th>4</th>\n",
              "      <td>4.0</td>\n",
              "      <td>0.9539</td>\n",
              "      <td>понимать, видеть, говорить, слово, помогать, верить, знать, идти, бог, душа</td>\n",
              "      <td>Дай Бог , что бы его душа почувствовала ваш рассклад... Дай Бог вам Божьей Благодати... а в след...</td>\n",
              "    </tr>\n",
              "    <tr>\n",
              "      <th>5</th>\n",
              "      <td>5.0</td>\n",
              "      <td>0.9619</td>\n",
              "      <td>расклад, благодарить, смотреть, делать, вопрос, карта, хороший, знать, ответ, общий</td>\n",
              "      <td>Да. Я хотела бы узнать почему мне изменяли мужчины. Почему я одна? Так должно быть или это венец...</td>\n",
              "    </tr>\n",
              "    <tr>\n",
              "      <th>6</th>\n",
              "      <td>6.0</td>\n",
              "      <td>0.9453</td>\n",
              "      <td>таро, канал, видео, карта, комментарий, поддерживать, ссылка, профиль, согласный, колода</td>\n",
              "      <td>Медалист, есть одна фича. Короч призрака можно найти по раскиданным предметам. Если ты подходишь...</td>\n",
              "    </tr>\n",
              "    <tr>\n",
              "      <th>7</th>\n",
              "      <td>7.0</td>\n",
              "      <td>0.9539</td>\n",
              "      <td>украина, россия, мир, война, страна, донбасс, земля, город, мирный, путин</td>\n",
              "      <td>Я из Украины, центр. Анжела, это не операция, это-война! Настоящая война, взрывы, стрельба, кров...</td>\n",
              "    </tr>\n",
              "  </tbody>\n",
              "</table>\n",
              "</div>\n",
              "      <button class=\"colab-df-convert\" onclick=\"convertToInteractive('df-e06762d5-0ffe-4996-a49d-b2292d2cce69')\"\n",
              "              title=\"Convert this dataframe to an interactive table.\"\n",
              "              style=\"display:none;\">\n",
              "        \n",
              "  <svg xmlns=\"http://www.w3.org/2000/svg\" height=\"24px\"viewBox=\"0 0 24 24\"\n",
              "       width=\"24px\">\n",
              "    <path d=\"M0 0h24v24H0V0z\" fill=\"none\"/>\n",
              "    <path d=\"M18.56 5.44l.94 2.06.94-2.06 2.06-.94-2.06-.94-.94-2.06-.94 2.06-2.06.94zm-11 1L8.5 8.5l.94-2.06 2.06-.94-2.06-.94L8.5 2.5l-.94 2.06-2.06.94zm10 10l.94 2.06.94-2.06 2.06-.94-2.06-.94-.94-2.06-.94 2.06-2.06.94z\"/><path d=\"M17.41 7.96l-1.37-1.37c-.4-.4-.92-.59-1.43-.59-.52 0-1.04.2-1.43.59L10.3 9.45l-7.72 7.72c-.78.78-.78 2.05 0 2.83L4 21.41c.39.39.9.59 1.41.59.51 0 1.02-.2 1.41-.59l7.78-7.78 2.81-2.81c.8-.78.8-2.07 0-2.86zM5.41 20L4 18.59l7.72-7.72 1.47 1.35L5.41 20z\"/>\n",
              "  </svg>\n",
              "      </button>\n",
              "      \n",
              "  <style>\n",
              "    .colab-df-container {\n",
              "      display:flex;\n",
              "      flex-wrap:wrap;\n",
              "      gap: 12px;\n",
              "    }\n",
              "\n",
              "    .colab-df-convert {\n",
              "      background-color: #E8F0FE;\n",
              "      border: none;\n",
              "      border-radius: 50%;\n",
              "      cursor: pointer;\n",
              "      display: none;\n",
              "      fill: #1967D2;\n",
              "      height: 32px;\n",
              "      padding: 0 0 0 0;\n",
              "      width: 32px;\n",
              "    }\n",
              "\n",
              "    .colab-df-convert:hover {\n",
              "      background-color: #E2EBFA;\n",
              "      box-shadow: 0px 1px 2px rgba(60, 64, 67, 0.3), 0px 1px 3px 1px rgba(60, 64, 67, 0.15);\n",
              "      fill: #174EA6;\n",
              "    }\n",
              "\n",
              "    [theme=dark] .colab-df-convert {\n",
              "      background-color: #3B4455;\n",
              "      fill: #D2E3FC;\n",
              "    }\n",
              "\n",
              "    [theme=dark] .colab-df-convert:hover {\n",
              "      background-color: #434B5C;\n",
              "      box-shadow: 0px 1px 3px 1px rgba(0, 0, 0, 0.15);\n",
              "      filter: drop-shadow(0px 1px 2px rgba(0, 0, 0, 0.3));\n",
              "      fill: #FFFFFF;\n",
              "    }\n",
              "  </style>\n",
              "\n",
              "      <script>\n",
              "        const buttonEl =\n",
              "          document.querySelector('#df-e06762d5-0ffe-4996-a49d-b2292d2cce69 button.colab-df-convert');\n",
              "        buttonEl.style.display =\n",
              "          google.colab.kernel.accessAllowed ? 'block' : 'none';\n",
              "\n",
              "        async function convertToInteractive(key) {\n",
              "          const element = document.querySelector('#df-e06762d5-0ffe-4996-a49d-b2292d2cce69');\n",
              "          const dataTable =\n",
              "            await google.colab.kernel.invokeFunction('convertToInteractive',\n",
              "                                                     [key], {});\n",
              "          if (!dataTable) return;\n",
              "\n",
              "          const docLinkHtml = 'Like what you see? Visit the ' +\n",
              "            '<a target=\"_blank\" href=https://colab.research.google.com/notebooks/data_table.ipynb>data table notebook</a>'\n",
              "            + ' to learn more about interactive tables.';\n",
              "          element.innerHTML = '';\n",
              "          dataTable['output_type'] = 'display_data';\n",
              "          await google.colab.output.renderOutput(dataTable, element);\n",
              "          const docLink = document.createElement('div');\n",
              "          docLink.innerHTML = docLinkHtml;\n",
              "          element.appendChild(docLink);\n",
              "        }\n",
              "      </script>\n",
              "    </div>\n",
              "  </div>\n",
              "  "
            ]
          },
          "metadata": {},
          "execution_count": 233
        }
      ]
    },
    {
      "cell_type": "code",
      "source": [
        "# сохраняем\n",
        "sent_topics_sorteddf_mallet.to_excel('доминирующий_текст_после_ковида.xlsx')"
      ],
      "metadata": {
        "id": "d2UzCnjos1DT"
      },
      "execution_count": null,
      "outputs": []
    }
  ]
}