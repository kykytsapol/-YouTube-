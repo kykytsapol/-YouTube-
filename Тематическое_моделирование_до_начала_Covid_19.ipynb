{
  "nbformat": 4,
  "nbformat_minor": 0,
  "metadata": {
    "colab": {
      "name": "Тематическое моделирование до начала Covid-19",
      "provenance": [],
      "collapsed_sections": [],
      "authorship_tag": "ABX9TyMfWlvc8dHAJcvOp/8qOerI",
      "include_colab_link": true
    },
    "kernelspec": {
      "name": "python3",
      "display_name": "Python 3"
    },
    "language_info": {
      "name": "python"
    }
  },
  "cells": [
    {
      "cell_type": "markdown",
      "metadata": {
        "id": "view-in-github",
        "colab_type": "text"
      },
      "source": [
        "<a href=\"https://colab.research.google.com/github/kykytsapol/-YouTube-/blob/main/%D0%A2%D0%B5%D0%BC%D0%B0%D1%82%D0%B8%D1%87%D0%B5%D1%81%D0%BA%D0%BE%D0%B5_%D0%BC%D0%BE%D0%B4%D0%B5%D0%BB%D0%B8%D1%80%D0%BE%D0%B2%D0%B0%D0%BD%D0%B8%D0%B5_%D0%B4%D0%BE_%D0%BD%D0%B0%D1%87%D0%B0%D0%BB%D0%B0_Covid_19.ipynb\" target=\"_parent\"><img src=\"https://colab.research.google.com/assets/colab-badge.svg\" alt=\"Open In Colab\"/></a>"
      ]
    },
    {
      "cell_type": "code",
      "execution_count": null,
      "metadata": {
        "id": "xnK-rwglo-UQ"
      },
      "outputs": [],
      "source": [
        "import pandas as pandas\n",
        "from sklearn.feature_extraction.text import CountVectorizer, TfidfVectorizer"
      ]
    },
    {
      "cell_type": "code",
      "source": [
        "import matplotlib.pyplot as plt"
      ],
      "metadata": {
        "id": "1oJnypcJ1S81"
      },
      "execution_count": null,
      "outputs": []
    },
    {
      "cell_type": "code",
      "source": [
        "import gensim\n",
        "import gensim.corpora as corpora\n",
        "from gensim.utils import simple_preprocess\n",
        "from gensim.models import CoherenceModel"
      ],
      "metadata": {
        "id": "OUavmxL10aHn"
      },
      "execution_count": null,
      "outputs": []
    },
    {
      "cell_type": "code",
      "source": [
        "!pip install -U gensim"
      ],
      "metadata": {
        "colab": {
          "base_uri": "https://localhost:8080/",
          "height": 329
        },
        "id": "DPG-PQkzYsNe",
        "outputId": "d2d763f3-fb22-4464-acd2-125ebf322a91"
      },
      "execution_count": null,
      "outputs": [
        {
          "output_type": "stream",
          "name": "stdout",
          "text": [
            "Requirement already satisfied: gensim in /usr/local/lib/python3.7/dist-packages (3.6.0)\n",
            "Collecting gensim\n",
            "  Downloading gensim-4.2.0-cp37-cp37m-manylinux_2_12_x86_64.manylinux2010_x86_64.whl (24.1 MB)\n",
            "\u001b[K     |████████████████████████████████| 24.1 MB 1.4 MB/s \n",
            "\u001b[?25hRequirement already satisfied: smart-open>=1.8.1 in /usr/local/lib/python3.7/dist-packages (from gensim) (6.0.0)\n",
            "Requirement already satisfied: scipy>=0.18.1 in /usr/local/lib/python3.7/dist-packages (from gensim) (1.4.1)\n",
            "Requirement already satisfied: numpy>=1.17.0 in /usr/local/lib/python3.7/dist-packages (from gensim) (1.21.6)\n",
            "Installing collected packages: gensim\n",
            "  Attempting uninstall: gensim\n",
            "    Found existing installation: gensim 3.6.0\n",
            "    Uninstalling gensim-3.6.0:\n",
            "      Successfully uninstalled gensim-3.6.0\n",
            "Successfully installed gensim-4.2.0\n"
          ]
        },
        {
          "output_type": "display_data",
          "data": {
            "application/vnd.colab-display-data+json": {
              "pip_warning": {
                "packages": [
                  "gensim"
                ]
              }
            }
          },
          "metadata": {}
        }
      ]
    },
    {
      "cell_type": "code",
      "source": [
        "from gensim.models import nmf\n",
        "from gensim import models"
      ],
      "metadata": {
        "id": "n2l9WqV69jVc"
      },
      "execution_count": null,
      "outputs": []
    },
    {
      "cell_type": "code",
      "source": [
        "# открываем экселевский файл. достаем из него столбцы с оригинальным текстом комментов и преобработтанами\n",
        "comments = pandas.read_excel('комменты_предобработка_доковида1.xlsx', usecols = 'G, T')\n",
        "comments"
      ],
      "metadata": {
        "id": "tc6h_K9RpJ4P",
        "colab": {
          "base_uri": "https://localhost:8080/",
          "height": 424
        },
        "outputId": "085fc5cc-43d6-49bb-9974-a7fb5a76225b"
      },
      "execution_count": null,
      "outputs": [
        {
          "output_type": "execute_result",
          "data": {
            "text/plain": [
              "                                    snippet.textOriginal  \\\n",
              "0      Эксперты раскрывают многие магические секреты....   \n",
              "1      гаданием на картах таро увлеклась моя знакомая...   \n",
              "2      Любовь надо искать на своей улице....мораль се...   \n",
              "3      Деньги это не главное , главное  Любовь на всю...   \n",
              "4                  моя бабушка любит мистические истории   \n",
              "...                                                  ...   \n",
              "30400       Хочется узнать есть ли у меня порча или нет.   \n",
              "30401  Rima Versuliene . А я не видела себя. Значит в...   \n",
              "30402  О ком вы хотели сказать.Мне на самом деле очен...   \n",
              "30403             Аня ты умничка, весь расклад совпадает   \n",
              "30404                           И мне про Тельцов и Дев)   \n",
              "\n",
              "                                 Текста_на_предобработку  \n",
              "0      эксперт раскрывать многий магический секрет хо...  \n",
              "1      гадание карта таро увлекаться знакомый дом при...  \n",
              "2      любовь искать свой улица мораль сей басня худо...  \n",
              "3                          деньги главный главное любовь  \n",
              "4                     бабушка любить мистический история  \n",
              "...                                                  ...  \n",
              "30400                            хотеться узнавать порча  \n",
              "30401                      Rima Versuliene видеть ерунда  \n",
              "30402                                   самый дело плохо  \n",
              "30403                      аня умничек расклад совпадать  \n",
              "30404                                         телец дева  \n",
              "\n",
              "[30405 rows x 2 columns]"
            ],
            "text/html": [
              "\n",
              "  <div id=\"df-e7e87533-4ee3-439f-ba5f-f639aa35b926\">\n",
              "    <div class=\"colab-df-container\">\n",
              "      <div>\n",
              "<style scoped>\n",
              "    .dataframe tbody tr th:only-of-type {\n",
              "        vertical-align: middle;\n",
              "    }\n",
              "\n",
              "    .dataframe tbody tr th {\n",
              "        vertical-align: top;\n",
              "    }\n",
              "\n",
              "    .dataframe thead th {\n",
              "        text-align: right;\n",
              "    }\n",
              "</style>\n",
              "<table border=\"1\" class=\"dataframe\">\n",
              "  <thead>\n",
              "    <tr style=\"text-align: right;\">\n",
              "      <th></th>\n",
              "      <th>snippet.textOriginal</th>\n",
              "      <th>Текста_на_предобработку</th>\n",
              "    </tr>\n",
              "  </thead>\n",
              "  <tbody>\n",
              "    <tr>\n",
              "      <th>0</th>\n",
              "      <td>Эксперты раскрывают многие магические секреты....</td>\n",
              "      <td>эксперт раскрывать многий магический секрет хо...</td>\n",
              "    </tr>\n",
              "    <tr>\n",
              "      <th>1</th>\n",
              "      <td>гаданием на картах таро увлеклась моя знакомая...</td>\n",
              "      <td>гадание карта таро увлекаться знакомый дом при...</td>\n",
              "    </tr>\n",
              "    <tr>\n",
              "      <th>2</th>\n",
              "      <td>Любовь надо искать на своей улице....мораль се...</td>\n",
              "      <td>любовь искать свой улица мораль сей басня худо...</td>\n",
              "    </tr>\n",
              "    <tr>\n",
              "      <th>3</th>\n",
              "      <td>Деньги это не главное , главное  Любовь на всю...</td>\n",
              "      <td>деньги главный главное любовь</td>\n",
              "    </tr>\n",
              "    <tr>\n",
              "      <th>4</th>\n",
              "      <td>моя бабушка любит мистические истории</td>\n",
              "      <td>бабушка любить мистический история</td>\n",
              "    </tr>\n",
              "    <tr>\n",
              "      <th>...</th>\n",
              "      <td>...</td>\n",
              "      <td>...</td>\n",
              "    </tr>\n",
              "    <tr>\n",
              "      <th>30400</th>\n",
              "      <td>Хочется узнать есть ли у меня порча или нет.</td>\n",
              "      <td>хотеться узнавать порча</td>\n",
              "    </tr>\n",
              "    <tr>\n",
              "      <th>30401</th>\n",
              "      <td>Rima Versuliene . А я не видела себя. Значит в...</td>\n",
              "      <td>Rima Versuliene видеть ерунда</td>\n",
              "    </tr>\n",
              "    <tr>\n",
              "      <th>30402</th>\n",
              "      <td>О ком вы хотели сказать.Мне на самом деле очен...</td>\n",
              "      <td>самый дело плохо</td>\n",
              "    </tr>\n",
              "    <tr>\n",
              "      <th>30403</th>\n",
              "      <td>Аня ты умничка, весь расклад совпадает</td>\n",
              "      <td>аня умничек расклад совпадать</td>\n",
              "    </tr>\n",
              "    <tr>\n",
              "      <th>30404</th>\n",
              "      <td>И мне про Тельцов и Дев)</td>\n",
              "      <td>телец дева</td>\n",
              "    </tr>\n",
              "  </tbody>\n",
              "</table>\n",
              "<p>30405 rows × 2 columns</p>\n",
              "</div>\n",
              "      <button class=\"colab-df-convert\" onclick=\"convertToInteractive('df-e7e87533-4ee3-439f-ba5f-f639aa35b926')\"\n",
              "              title=\"Convert this dataframe to an interactive table.\"\n",
              "              style=\"display:none;\">\n",
              "        \n",
              "  <svg xmlns=\"http://www.w3.org/2000/svg\" height=\"24px\"viewBox=\"0 0 24 24\"\n",
              "       width=\"24px\">\n",
              "    <path d=\"M0 0h24v24H0V0z\" fill=\"none\"/>\n",
              "    <path d=\"M18.56 5.44l.94 2.06.94-2.06 2.06-.94-2.06-.94-.94-2.06-.94 2.06-2.06.94zm-11 1L8.5 8.5l.94-2.06 2.06-.94-2.06-.94L8.5 2.5l-.94 2.06-2.06.94zm10 10l.94 2.06.94-2.06 2.06-.94-2.06-.94-.94-2.06-.94 2.06-2.06.94z\"/><path d=\"M17.41 7.96l-1.37-1.37c-.4-.4-.92-.59-1.43-.59-.52 0-1.04.2-1.43.59L10.3 9.45l-7.72 7.72c-.78.78-.78 2.05 0 2.83L4 21.41c.39.39.9.59 1.41.59.51 0 1.02-.2 1.41-.59l7.78-7.78 2.81-2.81c.8-.78.8-2.07 0-2.86zM5.41 20L4 18.59l7.72-7.72 1.47 1.35L5.41 20z\"/>\n",
              "  </svg>\n",
              "      </button>\n",
              "      \n",
              "  <style>\n",
              "    .colab-df-container {\n",
              "      display:flex;\n",
              "      flex-wrap:wrap;\n",
              "      gap: 12px;\n",
              "    }\n",
              "\n",
              "    .colab-df-convert {\n",
              "      background-color: #E8F0FE;\n",
              "      border: none;\n",
              "      border-radius: 50%;\n",
              "      cursor: pointer;\n",
              "      display: none;\n",
              "      fill: #1967D2;\n",
              "      height: 32px;\n",
              "      padding: 0 0 0 0;\n",
              "      width: 32px;\n",
              "    }\n",
              "\n",
              "    .colab-df-convert:hover {\n",
              "      background-color: #E2EBFA;\n",
              "      box-shadow: 0px 1px 2px rgba(60, 64, 67, 0.3), 0px 1px 3px 1px rgba(60, 64, 67, 0.15);\n",
              "      fill: #174EA6;\n",
              "    }\n",
              "\n",
              "    [theme=dark] .colab-df-convert {\n",
              "      background-color: #3B4455;\n",
              "      fill: #D2E3FC;\n",
              "    }\n",
              "\n",
              "    [theme=dark] .colab-df-convert:hover {\n",
              "      background-color: #434B5C;\n",
              "      box-shadow: 0px 1px 3px 1px rgba(0, 0, 0, 0.15);\n",
              "      filter: drop-shadow(0px 1px 2px rgba(0, 0, 0, 0.3));\n",
              "      fill: #FFFFFF;\n",
              "    }\n",
              "  </style>\n",
              "\n",
              "      <script>\n",
              "        const buttonEl =\n",
              "          document.querySelector('#df-e7e87533-4ee3-439f-ba5f-f639aa35b926 button.colab-df-convert');\n",
              "        buttonEl.style.display =\n",
              "          google.colab.kernel.accessAllowed ? 'block' : 'none';\n",
              "\n",
              "        async function convertToInteractive(key) {\n",
              "          const element = document.querySelector('#df-e7e87533-4ee3-439f-ba5f-f639aa35b926');\n",
              "          const dataTable =\n",
              "            await google.colab.kernel.invokeFunction('convertToInteractive',\n",
              "                                                     [key], {});\n",
              "          if (!dataTable) return;\n",
              "\n",
              "          const docLinkHtml = 'Like what you see? Visit the ' +\n",
              "            '<a target=\"_blank\" href=https://colab.research.google.com/notebooks/data_table.ipynb>data table notebook</a>'\n",
              "            + ' to learn more about interactive tables.';\n",
              "          element.innerHTML = '';\n",
              "          dataTable['output_type'] = 'display_data';\n",
              "          await google.colab.output.renderOutput(dataTable, element);\n",
              "          const docLink = document.createElement('div');\n",
              "          docLink.innerHTML = docLinkHtml;\n",
              "          element.appendChild(docLink);\n",
              "        }\n",
              "      </script>\n",
              "    </div>\n",
              "  </div>\n",
              "  "
            ]
          },
          "metadata": {},
          "execution_count": 6
        }
      ]
    },
    {
      "cell_type": "code",
      "source": [
        "#оставляем только русские слова \n",
        "import re\n",
        "\n",
        "comments[\"Текста_на_предобработку\"] = comments['Текста_на_предобработку'].apply(lambda x: str(x))\n",
        "comments['Текста_на_предобработку'] = comments['Текста_на_предобработку'].apply(lambda x: re.sub(r\"[^а-яА-ЯёЁ\\s]\", \"\", x))\n",
        "comments[\"Текста_на_предобработку\"]"
      ],
      "metadata": {
        "colab": {
          "base_uri": "https://localhost:8080/"
        },
        "id": "UxH1fC3m0A8y",
        "outputId": "00207915-eb74-4e6f-fe2a-3e407ee2da0c"
      },
      "execution_count": null,
      "outputs": [
        {
          "output_type": "execute_result",
          "data": {
            "text/plain": [
              "0        эксперт раскрывать многий магический секрет хо...\n",
              "1        гадание карта таро увлекаться знакомый дом при...\n",
              "2        любовь искать свой улица мораль сей басня худо...\n",
              "3                            деньги главный главное любовь\n",
              "4                       бабушка любить мистический история\n",
              "                               ...                        \n",
              "30400                              хотеться узнавать порча\n",
              "30401                                        видеть ерунда\n",
              "30402                                     самый дело плохо\n",
              "30403                        аня умничек расклад совпадать\n",
              "30404                                           телец дева\n",
              "Name: Текста_на_предобработку, Length: 30405, dtype: object"
            ]
          },
          "metadata": {},
          "execution_count": 7
        }
      ]
    },
    {
      "cell_type": "code",
      "source": [
        "# Создаем датафрейм с предобработанным текстом \n",
        "data = pandas.DataFrame()\n",
        "data.loc[:, \"Текст_на_векторизацию\"] = comments['Текста_на_предобработку']\n",
        "data = data.dropna() # удаляем пропуски - уже можно \n",
        "data"
      ],
      "metadata": {
        "colab": {
          "base_uri": "https://localhost:8080/",
          "height": 424
        },
        "id": "mTafw5IqycXS",
        "outputId": "e6b71fe6-b266-4449-9529-0d51b4cd7d87"
      },
      "execution_count": null,
      "outputs": [
        {
          "output_type": "execute_result",
          "data": {
            "text/plain": [
              "                                                                                     Текст_на_векторизацию\n",
              "0      эксперт раскрывать многий магический секрет хороший плохой страшно плохой применять практика зло...\n",
              "1      гадание карта таро увлекаться знакомый дом приходить погадать бросать затея рушиться постоянно р...\n",
              "2                                                         любовь искать  улица мораль сей басня худо добро\n",
              "3                                                                            деньги главный главное любовь\n",
              "4                                                                       бабушка любить мистический история\n",
              "...                                                                                                    ...\n",
              "30400                                                                              хотеться узнавать порча\n",
              "30401                                                                                        видеть ерунда\n",
              "30402                                                                                     самый дело плохо\n",
              "30403                                                                            умничек расклад совпадать\n",
              "30404                                                                                           телец дева\n",
              "\n",
              "[30405 rows x 1 columns]"
            ],
            "text/html": [
              "\n",
              "  <div id=\"df-a3786d64-2540-4d21-97bf-5f0d0fc81134\">\n",
              "    <div class=\"colab-df-container\">\n",
              "      <div>\n",
              "<style scoped>\n",
              "    .dataframe tbody tr th:only-of-type {\n",
              "        vertical-align: middle;\n",
              "    }\n",
              "\n",
              "    .dataframe tbody tr th {\n",
              "        vertical-align: top;\n",
              "    }\n",
              "\n",
              "    .dataframe thead th {\n",
              "        text-align: right;\n",
              "    }\n",
              "</style>\n",
              "<table border=\"1\" class=\"dataframe\">\n",
              "  <thead>\n",
              "    <tr style=\"text-align: right;\">\n",
              "      <th></th>\n",
              "      <th>Текст_на_векторизацию</th>\n",
              "    </tr>\n",
              "  </thead>\n",
              "  <tbody>\n",
              "    <tr>\n",
              "      <th>0</th>\n",
              "      <td>эксперт раскрывать многий магический секрет хороший плохой страшно плохой применять практика зло...</td>\n",
              "    </tr>\n",
              "    <tr>\n",
              "      <th>1</th>\n",
              "      <td>гадание карта таро увлекаться знакомый дом приходить погадать бросать затея рушиться постоянно р...</td>\n",
              "    </tr>\n",
              "    <tr>\n",
              "      <th>2</th>\n",
              "      <td>любовь искать  улица мораль сей басня худо добро</td>\n",
              "    </tr>\n",
              "    <tr>\n",
              "      <th>3</th>\n",
              "      <td>деньги главный главное любовь</td>\n",
              "    </tr>\n",
              "    <tr>\n",
              "      <th>4</th>\n",
              "      <td>бабушка любить мистический история</td>\n",
              "    </tr>\n",
              "    <tr>\n",
              "      <th>...</th>\n",
              "      <td>...</td>\n",
              "    </tr>\n",
              "    <tr>\n",
              "      <th>30400</th>\n",
              "      <td>хотеться узнавать порча</td>\n",
              "    </tr>\n",
              "    <tr>\n",
              "      <th>30401</th>\n",
              "      <td>видеть ерунда</td>\n",
              "    </tr>\n",
              "    <tr>\n",
              "      <th>30402</th>\n",
              "      <td>самый дело плохо</td>\n",
              "    </tr>\n",
              "    <tr>\n",
              "      <th>30403</th>\n",
              "      <td>умничек расклад совпадать</td>\n",
              "    </tr>\n",
              "    <tr>\n",
              "      <th>30404</th>\n",
              "      <td>телец дева</td>\n",
              "    </tr>\n",
              "  </tbody>\n",
              "</table>\n",
              "<p>30405 rows × 1 columns</p>\n",
              "</div>\n",
              "      <button class=\"colab-df-convert\" onclick=\"convertToInteractive('df-a3786d64-2540-4d21-97bf-5f0d0fc81134')\"\n",
              "              title=\"Convert this dataframe to an interactive table.\"\n",
              "              style=\"display:none;\">\n",
              "        \n",
              "  <svg xmlns=\"http://www.w3.org/2000/svg\" height=\"24px\"viewBox=\"0 0 24 24\"\n",
              "       width=\"24px\">\n",
              "    <path d=\"M0 0h24v24H0V0z\" fill=\"none\"/>\n",
              "    <path d=\"M18.56 5.44l.94 2.06.94-2.06 2.06-.94-2.06-.94-.94-2.06-.94 2.06-2.06.94zm-11 1L8.5 8.5l.94-2.06 2.06-.94-2.06-.94L8.5 2.5l-.94 2.06-2.06.94zm10 10l.94 2.06.94-2.06 2.06-.94-2.06-.94-.94-2.06-.94 2.06-2.06.94z\"/><path d=\"M17.41 7.96l-1.37-1.37c-.4-.4-.92-.59-1.43-.59-.52 0-1.04.2-1.43.59L10.3 9.45l-7.72 7.72c-.78.78-.78 2.05 0 2.83L4 21.41c.39.39.9.59 1.41.59.51 0 1.02-.2 1.41-.59l7.78-7.78 2.81-2.81c.8-.78.8-2.07 0-2.86zM5.41 20L4 18.59l7.72-7.72 1.47 1.35L5.41 20z\"/>\n",
              "  </svg>\n",
              "      </button>\n",
              "      \n",
              "  <style>\n",
              "    .colab-df-container {\n",
              "      display:flex;\n",
              "      flex-wrap:wrap;\n",
              "      gap: 12px;\n",
              "    }\n",
              "\n",
              "    .colab-df-convert {\n",
              "      background-color: #E8F0FE;\n",
              "      border: none;\n",
              "      border-radius: 50%;\n",
              "      cursor: pointer;\n",
              "      display: none;\n",
              "      fill: #1967D2;\n",
              "      height: 32px;\n",
              "      padding: 0 0 0 0;\n",
              "      width: 32px;\n",
              "    }\n",
              "\n",
              "    .colab-df-convert:hover {\n",
              "      background-color: #E2EBFA;\n",
              "      box-shadow: 0px 1px 2px rgba(60, 64, 67, 0.3), 0px 1px 3px 1px rgba(60, 64, 67, 0.15);\n",
              "      fill: #174EA6;\n",
              "    }\n",
              "\n",
              "    [theme=dark] .colab-df-convert {\n",
              "      background-color: #3B4455;\n",
              "      fill: #D2E3FC;\n",
              "    }\n",
              "\n",
              "    [theme=dark] .colab-df-convert:hover {\n",
              "      background-color: #434B5C;\n",
              "      box-shadow: 0px 1px 3px 1px rgba(0, 0, 0, 0.15);\n",
              "      filter: drop-shadow(0px 1px 2px rgba(0, 0, 0, 0.3));\n",
              "      fill: #FFFFFF;\n",
              "    }\n",
              "  </style>\n",
              "\n",
              "      <script>\n",
              "        const buttonEl =\n",
              "          document.querySelector('#df-a3786d64-2540-4d21-97bf-5f0d0fc81134 button.colab-df-convert');\n",
              "        buttonEl.style.display =\n",
              "          google.colab.kernel.accessAllowed ? 'block' : 'none';\n",
              "\n",
              "        async function convertToInteractive(key) {\n",
              "          const element = document.querySelector('#df-a3786d64-2540-4d21-97bf-5f0d0fc81134');\n",
              "          const dataTable =\n",
              "            await google.colab.kernel.invokeFunction('convertToInteractive',\n",
              "                                                     [key], {});\n",
              "          if (!dataTable) return;\n",
              "\n",
              "          const docLinkHtml = 'Like what you see? Visit the ' +\n",
              "            '<a target=\"_blank\" href=https://colab.research.google.com/notebooks/data_table.ipynb>data table notebook</a>'\n",
              "            + ' to learn more about interactive tables.';\n",
              "          element.innerHTML = '';\n",
              "          dataTable['output_type'] = 'display_data';\n",
              "          await google.colab.output.renderOutput(dataTable, element);\n",
              "          const docLink = document.createElement('div');\n",
              "          docLink.innerHTML = docLinkHtml;\n",
              "          element.appendChild(docLink);\n",
              "        }\n",
              "      </script>\n",
              "    </div>\n",
              "  </div>\n",
              "  "
            ]
          },
          "metadata": {},
          "execution_count": 73
        }
      ]
    },
    {
      "cell_type": "code",
      "source": [
        "#настраиваем класс CountVectorizer- предупреждаем, что отбираем токены с частотностью не менее 2, и словарь делаю не больше 10000 токенов\n",
        "cvect = CountVectorizer(min_df=2, max_features=10000).fit(data[\"Текст_на_векторизацию\"])\n",
        "#далее подаем в метод transform класса CountVectorizer столбец Текст_на_векторизацию\n",
        "cmatrix = cvect.transform(data[\"Текст_на_векторизацию\"])\n",
        "# объект cmatrix оформляем как датафрейм\n",
        "cmatrix_df = pandas.DataFrame(cmatrix.toarray(), columns = cvect.get_feature_names(), index=data.index)\n",
        "cmatrix_df"
      ],
      "metadata": {
        "colab": {
          "base_uri": "https://localhost:8080/",
          "height": 522
        },
        "id": "3pbaGsNbylb8",
        "outputId": "24c84664-f438-433a-a93f-45c3347b7c5c"
      },
      "execution_count": null,
      "outputs": [
        {
          "output_type": "stream",
          "name": "stderr",
          "text": [
            "/usr/local/lib/python3.7/dist-packages/sklearn/utils/deprecation.py:87: FutureWarning: Function get_feature_names is deprecated; get_feature_names is deprecated in 1.0 and will be removed in 1.2. Please use get_feature_names_out instead.\n",
            "  warnings.warn(msg, category=FutureWarning)\n"
          ]
        },
        {
          "output_type": "execute_result",
          "data": {
            "text/plain": [
              "       аа  ааа  аааа  ааааа  абдулджалиев  абдуллаев  аблязов  або  аборт  \\\n",
              "0       0    0     0      0             0          0        0    0      0   \n",
              "1       0    0     0      0             0          0        0    0      0   \n",
              "2       0    0     0      0             0          0        0    0      0   \n",
              "3       0    0     0      0             0          0        0    0      0   \n",
              "4       0    0     0      0             0          0        0    0      0   \n",
              "...    ..  ...   ...    ...           ...        ...      ...  ...    ...   \n",
              "30400   0    0     0      0             0          0        0    0      0   \n",
              "30401   0    0     0      0             0          0        0    0      0   \n",
              "30402   0    0     0      0             0          0        0    0      0   \n",
              "30403   0    0     0      0             0          0        0    0      0   \n",
              "30404   0    0     0      0             0          0        0    0      0   \n",
              "\n",
              "       абрамов  ...  яснознание  ясность  ясный  ясон  ястный  яхта  яценко  \\\n",
              "0            0  ...           0        0      0     0       0     0       0   \n",
              "1            0  ...           0        0      0     0       0     0       0   \n",
              "2            0  ...           0        0      0     0       0     0       0   \n",
              "3            0  ...           0        0      0     0       0     0       0   \n",
              "4            0  ...           0        0      0     0       0     0       0   \n",
              "...        ...  ...         ...      ...    ...   ...     ...   ...     ...   \n",
              "30400        0  ...           0        0      0     0       0     0       0   \n",
              "30401        0  ...           0        0      0     0       0     0       0   \n",
              "30402        0  ...           0        0      0     0       0     0       0   \n",
              "30403        0  ...           0        0      0     0       0     0       0   \n",
              "30404        0  ...           0        0      0     0       0     0       0   \n",
              "\n",
              "       яша  яшагин  ящик  \n",
              "0        0       0     0  \n",
              "1        0       0     0  \n",
              "2        0       0     0  \n",
              "3        0       0     0  \n",
              "4        0       0     0  \n",
              "...    ...     ...   ...  \n",
              "30400    0       0     0  \n",
              "30401    0       0     0  \n",
              "30402    0       0     0  \n",
              "30403    0       0     0  \n",
              "30404    0       0     0  \n",
              "\n",
              "[30405 rows x 10000 columns]"
            ],
            "text/html": [
              "\n",
              "  <div id=\"df-b490ff50-99e7-449e-bcee-fb53b49d30a2\">\n",
              "    <div class=\"colab-df-container\">\n",
              "      <div>\n",
              "<style scoped>\n",
              "    .dataframe tbody tr th:only-of-type {\n",
              "        vertical-align: middle;\n",
              "    }\n",
              "\n",
              "    .dataframe tbody tr th {\n",
              "        vertical-align: top;\n",
              "    }\n",
              "\n",
              "    .dataframe thead th {\n",
              "        text-align: right;\n",
              "    }\n",
              "</style>\n",
              "<table border=\"1\" class=\"dataframe\">\n",
              "  <thead>\n",
              "    <tr style=\"text-align: right;\">\n",
              "      <th></th>\n",
              "      <th>аа</th>\n",
              "      <th>ааа</th>\n",
              "      <th>аааа</th>\n",
              "      <th>ааааа</th>\n",
              "      <th>абдулджалиев</th>\n",
              "      <th>абдуллаев</th>\n",
              "      <th>аблязов</th>\n",
              "      <th>або</th>\n",
              "      <th>аборт</th>\n",
              "      <th>абрамов</th>\n",
              "      <th>...</th>\n",
              "      <th>яснознание</th>\n",
              "      <th>ясность</th>\n",
              "      <th>ясный</th>\n",
              "      <th>ясон</th>\n",
              "      <th>ястный</th>\n",
              "      <th>яхта</th>\n",
              "      <th>яценко</th>\n",
              "      <th>яша</th>\n",
              "      <th>яшагин</th>\n",
              "      <th>ящик</th>\n",
              "    </tr>\n",
              "  </thead>\n",
              "  <tbody>\n",
              "    <tr>\n",
              "      <th>0</th>\n",
              "      <td>0</td>\n",
              "      <td>0</td>\n",
              "      <td>0</td>\n",
              "      <td>0</td>\n",
              "      <td>0</td>\n",
              "      <td>0</td>\n",
              "      <td>0</td>\n",
              "      <td>0</td>\n",
              "      <td>0</td>\n",
              "      <td>0</td>\n",
              "      <td>...</td>\n",
              "      <td>0</td>\n",
              "      <td>0</td>\n",
              "      <td>0</td>\n",
              "      <td>0</td>\n",
              "      <td>0</td>\n",
              "      <td>0</td>\n",
              "      <td>0</td>\n",
              "      <td>0</td>\n",
              "      <td>0</td>\n",
              "      <td>0</td>\n",
              "    </tr>\n",
              "    <tr>\n",
              "      <th>1</th>\n",
              "      <td>0</td>\n",
              "      <td>0</td>\n",
              "      <td>0</td>\n",
              "      <td>0</td>\n",
              "      <td>0</td>\n",
              "      <td>0</td>\n",
              "      <td>0</td>\n",
              "      <td>0</td>\n",
              "      <td>0</td>\n",
              "      <td>0</td>\n",
              "      <td>...</td>\n",
              "      <td>0</td>\n",
              "      <td>0</td>\n",
              "      <td>0</td>\n",
              "      <td>0</td>\n",
              "      <td>0</td>\n",
              "      <td>0</td>\n",
              "      <td>0</td>\n",
              "      <td>0</td>\n",
              "      <td>0</td>\n",
              "      <td>0</td>\n",
              "    </tr>\n",
              "    <tr>\n",
              "      <th>2</th>\n",
              "      <td>0</td>\n",
              "      <td>0</td>\n",
              "      <td>0</td>\n",
              "      <td>0</td>\n",
              "      <td>0</td>\n",
              "      <td>0</td>\n",
              "      <td>0</td>\n",
              "      <td>0</td>\n",
              "      <td>0</td>\n",
              "      <td>0</td>\n",
              "      <td>...</td>\n",
              "      <td>0</td>\n",
              "      <td>0</td>\n",
              "      <td>0</td>\n",
              "      <td>0</td>\n",
              "      <td>0</td>\n",
              "      <td>0</td>\n",
              "      <td>0</td>\n",
              "      <td>0</td>\n",
              "      <td>0</td>\n",
              "      <td>0</td>\n",
              "    </tr>\n",
              "    <tr>\n",
              "      <th>3</th>\n",
              "      <td>0</td>\n",
              "      <td>0</td>\n",
              "      <td>0</td>\n",
              "      <td>0</td>\n",
              "      <td>0</td>\n",
              "      <td>0</td>\n",
              "      <td>0</td>\n",
              "      <td>0</td>\n",
              "      <td>0</td>\n",
              "      <td>0</td>\n",
              "      <td>...</td>\n",
              "      <td>0</td>\n",
              "      <td>0</td>\n",
              "      <td>0</td>\n",
              "      <td>0</td>\n",
              "      <td>0</td>\n",
              "      <td>0</td>\n",
              "      <td>0</td>\n",
              "      <td>0</td>\n",
              "      <td>0</td>\n",
              "      <td>0</td>\n",
              "    </tr>\n",
              "    <tr>\n",
              "      <th>4</th>\n",
              "      <td>0</td>\n",
              "      <td>0</td>\n",
              "      <td>0</td>\n",
              "      <td>0</td>\n",
              "      <td>0</td>\n",
              "      <td>0</td>\n",
              "      <td>0</td>\n",
              "      <td>0</td>\n",
              "      <td>0</td>\n",
              "      <td>0</td>\n",
              "      <td>...</td>\n",
              "      <td>0</td>\n",
              "      <td>0</td>\n",
              "      <td>0</td>\n",
              "      <td>0</td>\n",
              "      <td>0</td>\n",
              "      <td>0</td>\n",
              "      <td>0</td>\n",
              "      <td>0</td>\n",
              "      <td>0</td>\n",
              "      <td>0</td>\n",
              "    </tr>\n",
              "    <tr>\n",
              "      <th>...</th>\n",
              "      <td>...</td>\n",
              "      <td>...</td>\n",
              "      <td>...</td>\n",
              "      <td>...</td>\n",
              "      <td>...</td>\n",
              "      <td>...</td>\n",
              "      <td>...</td>\n",
              "      <td>...</td>\n",
              "      <td>...</td>\n",
              "      <td>...</td>\n",
              "      <td>...</td>\n",
              "      <td>...</td>\n",
              "      <td>...</td>\n",
              "      <td>...</td>\n",
              "      <td>...</td>\n",
              "      <td>...</td>\n",
              "      <td>...</td>\n",
              "      <td>...</td>\n",
              "      <td>...</td>\n",
              "      <td>...</td>\n",
              "      <td>...</td>\n",
              "    </tr>\n",
              "    <tr>\n",
              "      <th>30400</th>\n",
              "      <td>0</td>\n",
              "      <td>0</td>\n",
              "      <td>0</td>\n",
              "      <td>0</td>\n",
              "      <td>0</td>\n",
              "      <td>0</td>\n",
              "      <td>0</td>\n",
              "      <td>0</td>\n",
              "      <td>0</td>\n",
              "      <td>0</td>\n",
              "      <td>...</td>\n",
              "      <td>0</td>\n",
              "      <td>0</td>\n",
              "      <td>0</td>\n",
              "      <td>0</td>\n",
              "      <td>0</td>\n",
              "      <td>0</td>\n",
              "      <td>0</td>\n",
              "      <td>0</td>\n",
              "      <td>0</td>\n",
              "      <td>0</td>\n",
              "    </tr>\n",
              "    <tr>\n",
              "      <th>30401</th>\n",
              "      <td>0</td>\n",
              "      <td>0</td>\n",
              "      <td>0</td>\n",
              "      <td>0</td>\n",
              "      <td>0</td>\n",
              "      <td>0</td>\n",
              "      <td>0</td>\n",
              "      <td>0</td>\n",
              "      <td>0</td>\n",
              "      <td>0</td>\n",
              "      <td>...</td>\n",
              "      <td>0</td>\n",
              "      <td>0</td>\n",
              "      <td>0</td>\n",
              "      <td>0</td>\n",
              "      <td>0</td>\n",
              "      <td>0</td>\n",
              "      <td>0</td>\n",
              "      <td>0</td>\n",
              "      <td>0</td>\n",
              "      <td>0</td>\n",
              "    </tr>\n",
              "    <tr>\n",
              "      <th>30402</th>\n",
              "      <td>0</td>\n",
              "      <td>0</td>\n",
              "      <td>0</td>\n",
              "      <td>0</td>\n",
              "      <td>0</td>\n",
              "      <td>0</td>\n",
              "      <td>0</td>\n",
              "      <td>0</td>\n",
              "      <td>0</td>\n",
              "      <td>0</td>\n",
              "      <td>...</td>\n",
              "      <td>0</td>\n",
              "      <td>0</td>\n",
              "      <td>0</td>\n",
              "      <td>0</td>\n",
              "      <td>0</td>\n",
              "      <td>0</td>\n",
              "      <td>0</td>\n",
              "      <td>0</td>\n",
              "      <td>0</td>\n",
              "      <td>0</td>\n",
              "    </tr>\n",
              "    <tr>\n",
              "      <th>30403</th>\n",
              "      <td>0</td>\n",
              "      <td>0</td>\n",
              "      <td>0</td>\n",
              "      <td>0</td>\n",
              "      <td>0</td>\n",
              "      <td>0</td>\n",
              "      <td>0</td>\n",
              "      <td>0</td>\n",
              "      <td>0</td>\n",
              "      <td>0</td>\n",
              "      <td>...</td>\n",
              "      <td>0</td>\n",
              "      <td>0</td>\n",
              "      <td>0</td>\n",
              "      <td>0</td>\n",
              "      <td>0</td>\n",
              "      <td>0</td>\n",
              "      <td>0</td>\n",
              "      <td>0</td>\n",
              "      <td>0</td>\n",
              "      <td>0</td>\n",
              "    </tr>\n",
              "    <tr>\n",
              "      <th>30404</th>\n",
              "      <td>0</td>\n",
              "      <td>0</td>\n",
              "      <td>0</td>\n",
              "      <td>0</td>\n",
              "      <td>0</td>\n",
              "      <td>0</td>\n",
              "      <td>0</td>\n",
              "      <td>0</td>\n",
              "      <td>0</td>\n",
              "      <td>0</td>\n",
              "      <td>...</td>\n",
              "      <td>0</td>\n",
              "      <td>0</td>\n",
              "      <td>0</td>\n",
              "      <td>0</td>\n",
              "      <td>0</td>\n",
              "      <td>0</td>\n",
              "      <td>0</td>\n",
              "      <td>0</td>\n",
              "      <td>0</td>\n",
              "      <td>0</td>\n",
              "    </tr>\n",
              "  </tbody>\n",
              "</table>\n",
              "<p>30405 rows × 10000 columns</p>\n",
              "</div>\n",
              "      <button class=\"colab-df-convert\" onclick=\"convertToInteractive('df-b490ff50-99e7-449e-bcee-fb53b49d30a2')\"\n",
              "              title=\"Convert this dataframe to an interactive table.\"\n",
              "              style=\"display:none;\">\n",
              "        \n",
              "  <svg xmlns=\"http://www.w3.org/2000/svg\" height=\"24px\"viewBox=\"0 0 24 24\"\n",
              "       width=\"24px\">\n",
              "    <path d=\"M0 0h24v24H0V0z\" fill=\"none\"/>\n",
              "    <path d=\"M18.56 5.44l.94 2.06.94-2.06 2.06-.94-2.06-.94-.94-2.06-.94 2.06-2.06.94zm-11 1L8.5 8.5l.94-2.06 2.06-.94-2.06-.94L8.5 2.5l-.94 2.06-2.06.94zm10 10l.94 2.06.94-2.06 2.06-.94-2.06-.94-.94-2.06-.94 2.06-2.06.94z\"/><path d=\"M17.41 7.96l-1.37-1.37c-.4-.4-.92-.59-1.43-.59-.52 0-1.04.2-1.43.59L10.3 9.45l-7.72 7.72c-.78.78-.78 2.05 0 2.83L4 21.41c.39.39.9.59 1.41.59.51 0 1.02-.2 1.41-.59l7.78-7.78 2.81-2.81c.8-.78.8-2.07 0-2.86zM5.41 20L4 18.59l7.72-7.72 1.47 1.35L5.41 20z\"/>\n",
              "  </svg>\n",
              "      </button>\n",
              "      \n",
              "  <style>\n",
              "    .colab-df-container {\n",
              "      display:flex;\n",
              "      flex-wrap:wrap;\n",
              "      gap: 12px;\n",
              "    }\n",
              "\n",
              "    .colab-df-convert {\n",
              "      background-color: #E8F0FE;\n",
              "      border: none;\n",
              "      border-radius: 50%;\n",
              "      cursor: pointer;\n",
              "      display: none;\n",
              "      fill: #1967D2;\n",
              "      height: 32px;\n",
              "      padding: 0 0 0 0;\n",
              "      width: 32px;\n",
              "    }\n",
              "\n",
              "    .colab-df-convert:hover {\n",
              "      background-color: #E2EBFA;\n",
              "      box-shadow: 0px 1px 2px rgba(60, 64, 67, 0.3), 0px 1px 3px 1px rgba(60, 64, 67, 0.15);\n",
              "      fill: #174EA6;\n",
              "    }\n",
              "\n",
              "    [theme=dark] .colab-df-convert {\n",
              "      background-color: #3B4455;\n",
              "      fill: #D2E3FC;\n",
              "    }\n",
              "\n",
              "    [theme=dark] .colab-df-convert:hover {\n",
              "      background-color: #434B5C;\n",
              "      box-shadow: 0px 1px 3px 1px rgba(0, 0, 0, 0.15);\n",
              "      filter: drop-shadow(0px 1px 2px rgba(0, 0, 0, 0.3));\n",
              "      fill: #FFFFFF;\n",
              "    }\n",
              "  </style>\n",
              "\n",
              "      <script>\n",
              "        const buttonEl =\n",
              "          document.querySelector('#df-b490ff50-99e7-449e-bcee-fb53b49d30a2 button.colab-df-convert');\n",
              "        buttonEl.style.display =\n",
              "          google.colab.kernel.accessAllowed ? 'block' : 'none';\n",
              "\n",
              "        async function convertToInteractive(key) {\n",
              "          const element = document.querySelector('#df-b490ff50-99e7-449e-bcee-fb53b49d30a2');\n",
              "          const dataTable =\n",
              "            await google.colab.kernel.invokeFunction('convertToInteractive',\n",
              "                                                     [key], {});\n",
              "          if (!dataTable) return;\n",
              "\n",
              "          const docLinkHtml = 'Like what you see? Visit the ' +\n",
              "            '<a target=\"_blank\" href=https://colab.research.google.com/notebooks/data_table.ipynb>data table notebook</a>'\n",
              "            + ' to learn more about interactive tables.';\n",
              "          element.innerHTML = '';\n",
              "          dataTable['output_type'] = 'display_data';\n",
              "          await google.colab.output.renderOutput(dataTable, element);\n",
              "          const docLink = document.createElement('div');\n",
              "          docLink.innerHTML = docLinkHtml;\n",
              "          element.appendChild(docLink);\n",
              "        }\n",
              "      </script>\n",
              "    </div>\n",
              "  </div>\n",
              "  "
            ]
          },
          "metadata": {},
          "execution_count": 10
        }
      ]
    },
    {
      "cell_type": "code",
      "source": [
        "#частотность токенов\n",
        "cmatrix_df[:].sum().sort_values()"
      ],
      "metadata": {
        "colab": {
          "base_uri": "https://localhost:8080/"
        },
        "id": "xO1PlbOl0JnI",
        "outputId": "4a5dfc92-918a-4563-b398-7a9ee235b342"
      },
      "execution_count": null,
      "outputs": [
        {
          "output_type": "execute_result",
          "data": {
            "text/plain": [
              "обычай            2\n",
              "корм              2\n",
              "коричневый        2\n",
              "парадокс          2\n",
              "параметр          2\n",
              "               ... \n",
              "расклад        2735\n",
              "колода         2881\n",
              "благодарить    3185\n",
              "таро           3208\n",
              "карта          4638\n",
              "Length: 10000, dtype: int64"
            ]
          },
          "metadata": {},
          "execution_count": 11
        }
      ]
    },
    {
      "cell_type": "code",
      "source": [
        "#настраиваем класс CountVectorizer- предупреждаем, что отбираем токены с частотностью не менее 2\n",
        "tfidf = TfidfVectorizer(min_df=2, max_features=10000).fit(data[\"Текст_на_векторизацию\"])\n",
        "#далее подаем в метод transform класса CountVectorizer столбец Текст_на_векторизацию\n",
        "tfidfmatrix = tfidf.transform(data[\"Текст_на_векторизацию\"])\n",
        "# объект cmatrix оформляем как датафрейм\n",
        "tfidfmatrix_df = pandas.DataFrame(tfidfmatrix.toarray(), columns = tfidf.get_feature_names(), index=data.index)\n",
        "tfidfmatrix_df"
      ],
      "metadata": {
        "colab": {
          "base_uri": "https://localhost:8080/",
          "height": 522
        },
        "id": "fpWwX9sa0Q_N",
        "outputId": "5a30ee08-2a9e-484c-93eb-4024aa46194b"
      },
      "execution_count": null,
      "outputs": [
        {
          "output_type": "stream",
          "name": "stderr",
          "text": [
            "/usr/local/lib/python3.7/dist-packages/sklearn/utils/deprecation.py:87: FutureWarning: Function get_feature_names is deprecated; get_feature_names is deprecated in 1.0 and will be removed in 1.2. Please use get_feature_names_out instead.\n",
            "  warnings.warn(msg, category=FutureWarning)\n"
          ]
        },
        {
          "output_type": "execute_result",
          "data": {
            "text/plain": [
              "        аа  ааа  аааа  ааааа  абдулджалиев  абдуллаев  аблязов  або  аборт  \\\n",
              "0      0.0  0.0   0.0    0.0           0.0        0.0      0.0  0.0    0.0   \n",
              "1      0.0  0.0   0.0    0.0           0.0        0.0      0.0  0.0    0.0   \n",
              "2      0.0  0.0   0.0    0.0           0.0        0.0      0.0  0.0    0.0   \n",
              "3      0.0  0.0   0.0    0.0           0.0        0.0      0.0  0.0    0.0   \n",
              "4      0.0  0.0   0.0    0.0           0.0        0.0      0.0  0.0    0.0   \n",
              "...    ...  ...   ...    ...           ...        ...      ...  ...    ...   \n",
              "30400  0.0  0.0   0.0    0.0           0.0        0.0      0.0  0.0    0.0   \n",
              "30401  0.0  0.0   0.0    0.0           0.0        0.0      0.0  0.0    0.0   \n",
              "30402  0.0  0.0   0.0    0.0           0.0        0.0      0.0  0.0    0.0   \n",
              "30403  0.0  0.0   0.0    0.0           0.0        0.0      0.0  0.0    0.0   \n",
              "30404  0.0  0.0   0.0    0.0           0.0        0.0      0.0  0.0    0.0   \n",
              "\n",
              "       абрамов  ...  яснознание  ясность  ясный  ясон  ястный  яхта  яценко  \\\n",
              "0          0.0  ...         0.0      0.0    0.0   0.0     0.0   0.0     0.0   \n",
              "1          0.0  ...         0.0      0.0    0.0   0.0     0.0   0.0     0.0   \n",
              "2          0.0  ...         0.0      0.0    0.0   0.0     0.0   0.0     0.0   \n",
              "3          0.0  ...         0.0      0.0    0.0   0.0     0.0   0.0     0.0   \n",
              "4          0.0  ...         0.0      0.0    0.0   0.0     0.0   0.0     0.0   \n",
              "...        ...  ...         ...      ...    ...   ...     ...   ...     ...   \n",
              "30400      0.0  ...         0.0      0.0    0.0   0.0     0.0   0.0     0.0   \n",
              "30401      0.0  ...         0.0      0.0    0.0   0.0     0.0   0.0     0.0   \n",
              "30402      0.0  ...         0.0      0.0    0.0   0.0     0.0   0.0     0.0   \n",
              "30403      0.0  ...         0.0      0.0    0.0   0.0     0.0   0.0     0.0   \n",
              "30404      0.0  ...         0.0      0.0    0.0   0.0     0.0   0.0     0.0   \n",
              "\n",
              "       яша  яшагин  ящик  \n",
              "0      0.0     0.0   0.0  \n",
              "1      0.0     0.0   0.0  \n",
              "2      0.0     0.0   0.0  \n",
              "3      0.0     0.0   0.0  \n",
              "4      0.0     0.0   0.0  \n",
              "...    ...     ...   ...  \n",
              "30400  0.0     0.0   0.0  \n",
              "30401  0.0     0.0   0.0  \n",
              "30402  0.0     0.0   0.0  \n",
              "30403  0.0     0.0   0.0  \n",
              "30404  0.0     0.0   0.0  \n",
              "\n",
              "[30405 rows x 10000 columns]"
            ],
            "text/html": [
              "\n",
              "  <div id=\"df-4766e079-b45e-4e69-83fe-c4d7e85f2c82\">\n",
              "    <div class=\"colab-df-container\">\n",
              "      <div>\n",
              "<style scoped>\n",
              "    .dataframe tbody tr th:only-of-type {\n",
              "        vertical-align: middle;\n",
              "    }\n",
              "\n",
              "    .dataframe tbody tr th {\n",
              "        vertical-align: top;\n",
              "    }\n",
              "\n",
              "    .dataframe thead th {\n",
              "        text-align: right;\n",
              "    }\n",
              "</style>\n",
              "<table border=\"1\" class=\"dataframe\">\n",
              "  <thead>\n",
              "    <tr style=\"text-align: right;\">\n",
              "      <th></th>\n",
              "      <th>аа</th>\n",
              "      <th>ааа</th>\n",
              "      <th>аааа</th>\n",
              "      <th>ааааа</th>\n",
              "      <th>абдулджалиев</th>\n",
              "      <th>абдуллаев</th>\n",
              "      <th>аблязов</th>\n",
              "      <th>або</th>\n",
              "      <th>аборт</th>\n",
              "      <th>абрамов</th>\n",
              "      <th>...</th>\n",
              "      <th>яснознание</th>\n",
              "      <th>ясность</th>\n",
              "      <th>ясный</th>\n",
              "      <th>ясон</th>\n",
              "      <th>ястный</th>\n",
              "      <th>яхта</th>\n",
              "      <th>яценко</th>\n",
              "      <th>яша</th>\n",
              "      <th>яшагин</th>\n",
              "      <th>ящик</th>\n",
              "    </tr>\n",
              "  </thead>\n",
              "  <tbody>\n",
              "    <tr>\n",
              "      <th>0</th>\n",
              "      <td>0.0</td>\n",
              "      <td>0.0</td>\n",
              "      <td>0.0</td>\n",
              "      <td>0.0</td>\n",
              "      <td>0.0</td>\n",
              "      <td>0.0</td>\n",
              "      <td>0.0</td>\n",
              "      <td>0.0</td>\n",
              "      <td>0.0</td>\n",
              "      <td>0.0</td>\n",
              "      <td>...</td>\n",
              "      <td>0.0</td>\n",
              "      <td>0.0</td>\n",
              "      <td>0.0</td>\n",
              "      <td>0.0</td>\n",
              "      <td>0.0</td>\n",
              "      <td>0.0</td>\n",
              "      <td>0.0</td>\n",
              "      <td>0.0</td>\n",
              "      <td>0.0</td>\n",
              "      <td>0.0</td>\n",
              "    </tr>\n",
              "    <tr>\n",
              "      <th>1</th>\n",
              "      <td>0.0</td>\n",
              "      <td>0.0</td>\n",
              "      <td>0.0</td>\n",
              "      <td>0.0</td>\n",
              "      <td>0.0</td>\n",
              "      <td>0.0</td>\n",
              "      <td>0.0</td>\n",
              "      <td>0.0</td>\n",
              "      <td>0.0</td>\n",
              "      <td>0.0</td>\n",
              "      <td>...</td>\n",
              "      <td>0.0</td>\n",
              "      <td>0.0</td>\n",
              "      <td>0.0</td>\n",
              "      <td>0.0</td>\n",
              "      <td>0.0</td>\n",
              "      <td>0.0</td>\n",
              "      <td>0.0</td>\n",
              "      <td>0.0</td>\n",
              "      <td>0.0</td>\n",
              "      <td>0.0</td>\n",
              "    </tr>\n",
              "    <tr>\n",
              "      <th>2</th>\n",
              "      <td>0.0</td>\n",
              "      <td>0.0</td>\n",
              "      <td>0.0</td>\n",
              "      <td>0.0</td>\n",
              "      <td>0.0</td>\n",
              "      <td>0.0</td>\n",
              "      <td>0.0</td>\n",
              "      <td>0.0</td>\n",
              "      <td>0.0</td>\n",
              "      <td>0.0</td>\n",
              "      <td>...</td>\n",
              "      <td>0.0</td>\n",
              "      <td>0.0</td>\n",
              "      <td>0.0</td>\n",
              "      <td>0.0</td>\n",
              "      <td>0.0</td>\n",
              "      <td>0.0</td>\n",
              "      <td>0.0</td>\n",
              "      <td>0.0</td>\n",
              "      <td>0.0</td>\n",
              "      <td>0.0</td>\n",
              "    </tr>\n",
              "    <tr>\n",
              "      <th>3</th>\n",
              "      <td>0.0</td>\n",
              "      <td>0.0</td>\n",
              "      <td>0.0</td>\n",
              "      <td>0.0</td>\n",
              "      <td>0.0</td>\n",
              "      <td>0.0</td>\n",
              "      <td>0.0</td>\n",
              "      <td>0.0</td>\n",
              "      <td>0.0</td>\n",
              "      <td>0.0</td>\n",
              "      <td>...</td>\n",
              "      <td>0.0</td>\n",
              "      <td>0.0</td>\n",
              "      <td>0.0</td>\n",
              "      <td>0.0</td>\n",
              "      <td>0.0</td>\n",
              "      <td>0.0</td>\n",
              "      <td>0.0</td>\n",
              "      <td>0.0</td>\n",
              "      <td>0.0</td>\n",
              "      <td>0.0</td>\n",
              "    </tr>\n",
              "    <tr>\n",
              "      <th>4</th>\n",
              "      <td>0.0</td>\n",
              "      <td>0.0</td>\n",
              "      <td>0.0</td>\n",
              "      <td>0.0</td>\n",
              "      <td>0.0</td>\n",
              "      <td>0.0</td>\n",
              "      <td>0.0</td>\n",
              "      <td>0.0</td>\n",
              "      <td>0.0</td>\n",
              "      <td>0.0</td>\n",
              "      <td>...</td>\n",
              "      <td>0.0</td>\n",
              "      <td>0.0</td>\n",
              "      <td>0.0</td>\n",
              "      <td>0.0</td>\n",
              "      <td>0.0</td>\n",
              "      <td>0.0</td>\n",
              "      <td>0.0</td>\n",
              "      <td>0.0</td>\n",
              "      <td>0.0</td>\n",
              "      <td>0.0</td>\n",
              "    </tr>\n",
              "    <tr>\n",
              "      <th>...</th>\n",
              "      <td>...</td>\n",
              "      <td>...</td>\n",
              "      <td>...</td>\n",
              "      <td>...</td>\n",
              "      <td>...</td>\n",
              "      <td>...</td>\n",
              "      <td>...</td>\n",
              "      <td>...</td>\n",
              "      <td>...</td>\n",
              "      <td>...</td>\n",
              "      <td>...</td>\n",
              "      <td>...</td>\n",
              "      <td>...</td>\n",
              "      <td>...</td>\n",
              "      <td>...</td>\n",
              "      <td>...</td>\n",
              "      <td>...</td>\n",
              "      <td>...</td>\n",
              "      <td>...</td>\n",
              "      <td>...</td>\n",
              "      <td>...</td>\n",
              "    </tr>\n",
              "    <tr>\n",
              "      <th>30400</th>\n",
              "      <td>0.0</td>\n",
              "      <td>0.0</td>\n",
              "      <td>0.0</td>\n",
              "      <td>0.0</td>\n",
              "      <td>0.0</td>\n",
              "      <td>0.0</td>\n",
              "      <td>0.0</td>\n",
              "      <td>0.0</td>\n",
              "      <td>0.0</td>\n",
              "      <td>0.0</td>\n",
              "      <td>...</td>\n",
              "      <td>0.0</td>\n",
              "      <td>0.0</td>\n",
              "      <td>0.0</td>\n",
              "      <td>0.0</td>\n",
              "      <td>0.0</td>\n",
              "      <td>0.0</td>\n",
              "      <td>0.0</td>\n",
              "      <td>0.0</td>\n",
              "      <td>0.0</td>\n",
              "      <td>0.0</td>\n",
              "    </tr>\n",
              "    <tr>\n",
              "      <th>30401</th>\n",
              "      <td>0.0</td>\n",
              "      <td>0.0</td>\n",
              "      <td>0.0</td>\n",
              "      <td>0.0</td>\n",
              "      <td>0.0</td>\n",
              "      <td>0.0</td>\n",
              "      <td>0.0</td>\n",
              "      <td>0.0</td>\n",
              "      <td>0.0</td>\n",
              "      <td>0.0</td>\n",
              "      <td>...</td>\n",
              "      <td>0.0</td>\n",
              "      <td>0.0</td>\n",
              "      <td>0.0</td>\n",
              "      <td>0.0</td>\n",
              "      <td>0.0</td>\n",
              "      <td>0.0</td>\n",
              "      <td>0.0</td>\n",
              "      <td>0.0</td>\n",
              "      <td>0.0</td>\n",
              "      <td>0.0</td>\n",
              "    </tr>\n",
              "    <tr>\n",
              "      <th>30402</th>\n",
              "      <td>0.0</td>\n",
              "      <td>0.0</td>\n",
              "      <td>0.0</td>\n",
              "      <td>0.0</td>\n",
              "      <td>0.0</td>\n",
              "      <td>0.0</td>\n",
              "      <td>0.0</td>\n",
              "      <td>0.0</td>\n",
              "      <td>0.0</td>\n",
              "      <td>0.0</td>\n",
              "      <td>...</td>\n",
              "      <td>0.0</td>\n",
              "      <td>0.0</td>\n",
              "      <td>0.0</td>\n",
              "      <td>0.0</td>\n",
              "      <td>0.0</td>\n",
              "      <td>0.0</td>\n",
              "      <td>0.0</td>\n",
              "      <td>0.0</td>\n",
              "      <td>0.0</td>\n",
              "      <td>0.0</td>\n",
              "    </tr>\n",
              "    <tr>\n",
              "      <th>30403</th>\n",
              "      <td>0.0</td>\n",
              "      <td>0.0</td>\n",
              "      <td>0.0</td>\n",
              "      <td>0.0</td>\n",
              "      <td>0.0</td>\n",
              "      <td>0.0</td>\n",
              "      <td>0.0</td>\n",
              "      <td>0.0</td>\n",
              "      <td>0.0</td>\n",
              "      <td>0.0</td>\n",
              "      <td>...</td>\n",
              "      <td>0.0</td>\n",
              "      <td>0.0</td>\n",
              "      <td>0.0</td>\n",
              "      <td>0.0</td>\n",
              "      <td>0.0</td>\n",
              "      <td>0.0</td>\n",
              "      <td>0.0</td>\n",
              "      <td>0.0</td>\n",
              "      <td>0.0</td>\n",
              "      <td>0.0</td>\n",
              "    </tr>\n",
              "    <tr>\n",
              "      <th>30404</th>\n",
              "      <td>0.0</td>\n",
              "      <td>0.0</td>\n",
              "      <td>0.0</td>\n",
              "      <td>0.0</td>\n",
              "      <td>0.0</td>\n",
              "      <td>0.0</td>\n",
              "      <td>0.0</td>\n",
              "      <td>0.0</td>\n",
              "      <td>0.0</td>\n",
              "      <td>0.0</td>\n",
              "      <td>...</td>\n",
              "      <td>0.0</td>\n",
              "      <td>0.0</td>\n",
              "      <td>0.0</td>\n",
              "      <td>0.0</td>\n",
              "      <td>0.0</td>\n",
              "      <td>0.0</td>\n",
              "      <td>0.0</td>\n",
              "      <td>0.0</td>\n",
              "      <td>0.0</td>\n",
              "      <td>0.0</td>\n",
              "    </tr>\n",
              "  </tbody>\n",
              "</table>\n",
              "<p>30405 rows × 10000 columns</p>\n",
              "</div>\n",
              "      <button class=\"colab-df-convert\" onclick=\"convertToInteractive('df-4766e079-b45e-4e69-83fe-c4d7e85f2c82')\"\n",
              "              title=\"Convert this dataframe to an interactive table.\"\n",
              "              style=\"display:none;\">\n",
              "        \n",
              "  <svg xmlns=\"http://www.w3.org/2000/svg\" height=\"24px\"viewBox=\"0 0 24 24\"\n",
              "       width=\"24px\">\n",
              "    <path d=\"M0 0h24v24H0V0z\" fill=\"none\"/>\n",
              "    <path d=\"M18.56 5.44l.94 2.06.94-2.06 2.06-.94-2.06-.94-.94-2.06-.94 2.06-2.06.94zm-11 1L8.5 8.5l.94-2.06 2.06-.94-2.06-.94L8.5 2.5l-.94 2.06-2.06.94zm10 10l.94 2.06.94-2.06 2.06-.94-2.06-.94-.94-2.06-.94 2.06-2.06.94z\"/><path d=\"M17.41 7.96l-1.37-1.37c-.4-.4-.92-.59-1.43-.59-.52 0-1.04.2-1.43.59L10.3 9.45l-7.72 7.72c-.78.78-.78 2.05 0 2.83L4 21.41c.39.39.9.59 1.41.59.51 0 1.02-.2 1.41-.59l7.78-7.78 2.81-2.81c.8-.78.8-2.07 0-2.86zM5.41 20L4 18.59l7.72-7.72 1.47 1.35L5.41 20z\"/>\n",
              "  </svg>\n",
              "      </button>\n",
              "      \n",
              "  <style>\n",
              "    .colab-df-container {\n",
              "      display:flex;\n",
              "      flex-wrap:wrap;\n",
              "      gap: 12px;\n",
              "    }\n",
              "\n",
              "    .colab-df-convert {\n",
              "      background-color: #E8F0FE;\n",
              "      border: none;\n",
              "      border-radius: 50%;\n",
              "      cursor: pointer;\n",
              "      display: none;\n",
              "      fill: #1967D2;\n",
              "      height: 32px;\n",
              "      padding: 0 0 0 0;\n",
              "      width: 32px;\n",
              "    }\n",
              "\n",
              "    .colab-df-convert:hover {\n",
              "      background-color: #E2EBFA;\n",
              "      box-shadow: 0px 1px 2px rgba(60, 64, 67, 0.3), 0px 1px 3px 1px rgba(60, 64, 67, 0.15);\n",
              "      fill: #174EA6;\n",
              "    }\n",
              "\n",
              "    [theme=dark] .colab-df-convert {\n",
              "      background-color: #3B4455;\n",
              "      fill: #D2E3FC;\n",
              "    }\n",
              "\n",
              "    [theme=dark] .colab-df-convert:hover {\n",
              "      background-color: #434B5C;\n",
              "      box-shadow: 0px 1px 3px 1px rgba(0, 0, 0, 0.15);\n",
              "      filter: drop-shadow(0px 1px 2px rgba(0, 0, 0, 0.3));\n",
              "      fill: #FFFFFF;\n",
              "    }\n",
              "  </style>\n",
              "\n",
              "      <script>\n",
              "        const buttonEl =\n",
              "          document.querySelector('#df-4766e079-b45e-4e69-83fe-c4d7e85f2c82 button.colab-df-convert');\n",
              "        buttonEl.style.display =\n",
              "          google.colab.kernel.accessAllowed ? 'block' : 'none';\n",
              "\n",
              "        async function convertToInteractive(key) {\n",
              "          const element = document.querySelector('#df-4766e079-b45e-4e69-83fe-c4d7e85f2c82');\n",
              "          const dataTable =\n",
              "            await google.colab.kernel.invokeFunction('convertToInteractive',\n",
              "                                                     [key], {});\n",
              "          if (!dataTable) return;\n",
              "\n",
              "          const docLinkHtml = 'Like what you see? Visit the ' +\n",
              "            '<a target=\"_blank\" href=https://colab.research.google.com/notebooks/data_table.ipynb>data table notebook</a>'\n",
              "            + ' to learn more about interactive tables.';\n",
              "          element.innerHTML = '';\n",
              "          dataTable['output_type'] = 'display_data';\n",
              "          await google.colab.output.renderOutput(dataTable, element);\n",
              "          const docLink = document.createElement('div');\n",
              "          docLink.innerHTML = docLinkHtml;\n",
              "          element.appendChild(docLink);\n",
              "        }\n",
              "      </script>\n",
              "    </div>\n",
              "  </div>\n",
              "  "
            ]
          },
          "metadata": {},
          "execution_count": 12
        }
      ]
    },
    {
      "cell_type": "code",
      "source": [
        "#частотность токенов\n",
        "tfidfmatrix_df[:].sum().sort_values()"
      ],
      "metadata": {
        "colab": {
          "base_uri": "https://localhost:8080/"
        },
        "id": "U0WPLfoB0UAG",
        "outputId": "22bc6a13-c6ba-4f3b-d704-320f92fd1c2d"
      },
      "execution_count": null,
      "outputs": [
        {
          "output_type": "execute_result",
          "data": {
            "text/plain": [
              "древность         0.152244\n",
              "шутник            0.182833\n",
              "калка             0.206912\n",
              "блюсти            0.214325\n",
              "учреждение        0.214695\n",
              "                  ...     \n",
              "большой         493.575534\n",
              "таро            542.209261\n",
              "расклад         614.801378\n",
              "карта           676.333750\n",
              "благодарить    1195.819666\n",
              "Length: 10000, dtype: float64"
            ]
          },
          "metadata": {},
          "execution_count": 13
        }
      ]
    },
    {
      "cell_type": "code",
      "source": [
        "# Концертируем в лист\n",
        "data = comments['Текста_на_предобработку'].values.tolist()"
      ],
      "metadata": {
        "id": "HxTjEYU70c-d"
      },
      "execution_count": null,
      "outputs": []
    },
    {
      "cell_type": "code",
      "source": [
        "# Преобразование документа в список токенов \n",
        "def sent_to_words(sentences):\n",
        "    for sentence in sentences:\n",
        "        yield(gensim.utils.simple_preprocess(str(sentence))) \n",
        "data_words = list(sent_to_words(data))"
      ],
      "metadata": {
        "id": "ZWXe-w1w0eyo"
      },
      "execution_count": null,
      "outputs": []
    },
    {
      "cell_type": "code",
      "source": [
        "# Создаем словарь\n",
        "id2word = corpora.Dictionary(data_words)"
      ],
      "metadata": {
        "id": "-uWRA0vB0j8Z"
      },
      "execution_count": null,
      "outputs": []
    },
    {
      "cell_type": "code",
      "source": [
        "# Создаем корпус\n",
        "texts = data_words"
      ],
      "metadata": {
        "id": "rOckMMNA0m7t"
      },
      "execution_count": null,
      "outputs": []
    },
    {
      "cell_type": "code",
      "source": [
        "# Частота встречаемости \n",
        "corpus = [id2word.doc2bow(text) for text in texts]"
      ],
      "metadata": {
        "id": "1k8cUybN0oxB"
      },
      "execution_count": null,
      "outputs": []
    },
    {
      "cell_type": "code",
      "source": [
        "# Смотрим \n",
        "print(corpus[:1])"
      ],
      "metadata": {
        "colab": {
          "base_uri": "https://localhost:8080/"
        },
        "id": "JFJBDaJW0qin",
        "outputId": "f6ce57c7-2e44-4476-aed5-02308f8780e2"
      },
      "execution_count": null,
      "outputs": [
        {
          "output_type": "stream",
          "name": "stdout",
          "text": [
            "[[(0, 1), (1, 1), (2, 1), (3, 1), (4, 1), (5, 1), (6, 1), (7, 2), (8, 1), (9, 1), (10, 1), (11, 1), (12, 1), (13, 1), (14, 1), (15, 1)]]\n"
          ]
        }
      ]
    },
    {
      "cell_type": "markdown",
      "source": [
        "### Модель LSA"
      ],
      "metadata": {
        "id": "Ud-ydE145zqV"
      }
    },
    {
      "cell_type": "code",
      "source": [
        "from gensim.models import LsiModel\n",
        "# модель LSA\n",
        "lsa_model = gensim.models.LsiModel(corpus=corpus,\n",
        "                                           id2word=id2word,\n",
        "                                           num_topics=10)"
      ],
      "metadata": {
        "id": "xJuj4OxT0nrg"
      },
      "execution_count": null,
      "outputs": []
    },
    {
      "cell_type": "code",
      "source": [
        "# согласованность LSA модели методом c_v\n",
        "cm = CoherenceModel(model=lsa_model, corpus=corpus, texts=texts,\n",
        "                              dictionary=id2word, coherence='c_v')\n",
        "coherence = cm.get_coherence()\n",
        "coherence"
      ],
      "metadata": {
        "colab": {
          "base_uri": "https://localhost:8080/"
        },
        "id": "mNndN6X00wgs",
        "outputId": "471e4de7-0b55-485c-cd9d-696be5788d74"
      },
      "execution_count": null,
      "outputs": [
        {
          "output_type": "execute_result",
          "data": {
            "text/plain": [
              "0.5198710714902836"
            ]
          },
          "metadata": {},
          "execution_count": 21
        }
      ]
    },
    {
      "cell_type": "code",
      "source": [
        "# согласованность LSA модели методос u_mass\n",
        "cm = CoherenceModel(model=lsa_model, corpus=corpus,\n",
        "                              dictionary=id2word, coherence='u_mass')\n",
        "coherence = cm.get_coherence()\n",
        "coherence"
      ],
      "metadata": {
        "id": "FuNoLLrM07Yg",
        "colab": {
          "base_uri": "https://localhost:8080/"
        },
        "outputId": "593d575f-5ce6-4f02-b24f-d8d32dcad51f"
      },
      "execution_count": null,
      "outputs": [
        {
          "output_type": "execute_result",
          "data": {
            "text/plain": [
              "-3.785225388654861"
            ]
          },
          "metadata": {},
          "execution_count": 22
        }
      ]
    },
    {
      "cell_type": "code",
      "source": [
        "# это функция, которая позволяет построить моедли с разным количеством топиков, посчитать и сохранить значение согласованности для моделей.\n",
        "def compute_coherence_values(dictionary,corpus,texts,limit,start=2,step=1):\n",
        "    coherence_values = []\n",
        "    model_list = []\n",
        "    for num_topics in range(start, limit, step):\n",
        "        model = gensim.models.LsiModel(corpus=corpus, num_topics=num_topics,id2word=id2word)\n",
        "        model_list.append(model)\n",
        "        coherencemodel = CoherenceModel(model=model, texts=texts, dictionary=dictionary, coherence='c_v')\n",
        "        coherence_values.append(coherencemodel.get_coherence())\n",
        "        \n",
        "    return model_list, coherence_values"
      ],
      "metadata": {
        "id": "Q8u9McU81XRl"
      },
      "execution_count": null,
      "outputs": []
    },
    {
      "cell_type": "code",
      "source": [
        "# задаем значения наши\n",
        "model_list, coherence_values = compute_coherence_values(dictionary=id2word,corpus=corpus,\n",
        "                                                      texts=texts, start=2, limit=50, step=5)"
      ],
      "metadata": {
        "id": "bZc7D-aY1hXW"
      },
      "execution_count": null,
      "outputs": []
    },
    {
      "cell_type": "code",
      "source": [
        "# Сторим график, который показывает как изменяется значение согласованности при добавлении топика в модель.\n",
        "limit=50; start=2; step=5;\n",
        "x= range(start, limit, step)\n",
        "plt.plot(x, coherence_values)\n",
        "plt.xlabel(\"Num Topics\")\n",
        "plt.ylabel(\"Coherence score\")\n",
        "plt.legend((\"coherence_values\"), loc='best')\n",
        "plt.show()"
      ],
      "metadata": {
        "colab": {
          "base_uri": "https://localhost:8080/",
          "height": 279
        },
        "id": "aaeGxhw21kvW",
        "outputId": "d238144b-575d-4cfc-ee1c-7e6f345c017b"
      },
      "execution_count": null,
      "outputs": [
        {
          "output_type": "display_data",
          "data": {
            "text/plain": [
              "<Figure size 432x288 with 1 Axes>"
            ],
            "image/png": "[encoded data removed]"
          },
          "metadata": {
            "needs_background": "light"
          }
        }
      ]
    },
    {
      "cell_type": "markdown",
      "source": [
        "Итак, как видно из рисунка выше модель LSA с 12 топиками имеет наивысшее значение согласованности. Построим данную модель,определим ее точное значение согласованности и посмотрим на получившиеся топики. "
      ],
      "metadata": {
        "id": "Sgefqv_71_0h"
      }
    },
    {
      "cell_type": "code",
      "source": [
        "from gensim.models import LsiModel\n",
        "# модель LSA\n",
        "lsa_model = gensim.models.LsiModel(corpus=corpus,\n",
        "                                           id2word=id2word,\n",
        "                                           num_topics=12)"
      ],
      "metadata": {
        "id": "HZLKFsAZ2WmO"
      },
      "execution_count": null,
      "outputs": []
    },
    {
      "cell_type": "code",
      "source": [
        "lsa_model.print_topics()"
      ],
      "metadata": {
        "colab": {
          "base_uri": "https://localhost:8080/"
        },
        "id": "r1aIkIeN2ePB",
        "outputId": "f4a75c5f-51d6-4c78-df0e-6a4020ab1f4b"
      },
      "execution_count": null,
      "outputs": [
        {
          "output_type": "execute_result",
          "data": {
            "text/plain": [
              "[(0,\n",
              "  '0.665*\"карта\" + 0.353*\"таро\" + 0.347*\"колода\" + 0.202*\"расклад\" + 0.138*\"вопрос\" + 0.114*\"видео\" + 0.102*\"понимать\" + 0.092*\"значение\" + 0.089*\"благодарить\" + 0.086*\"говорить\"'),\n",
              " (1,\n",
              "  '0.721*\"колода\" + -0.524*\"карта\" + 0.359*\"таро\" + -0.162*\"расклад\" + -0.066*\"вопрос\" + 0.056*\"обзор\" + -0.050*\"выпадать\" + 0.048*\"работать\" + 0.038*\"купить\" + 0.038*\"книга\"'),\n",
              " (2,\n",
              "  '0.549*\"расклад\" + 0.447*\"благодарить\" + -0.439*\"карта\" + -0.159*\"колода\" + 0.128*\"отношение\" + 0.110*\"знать\" + 0.104*\"мужчина\" + 0.102*\"делать\" + 0.097*\"вариант\" + 0.094*\"понимать\"'),\n",
              " (3,\n",
              "  '0.790*\"таро\" + -0.534*\"колода\" + -0.154*\"расклад\" + -0.115*\"карта\" + 0.090*\"обучение\" + 0.070*\"психология\" + 0.068*\"архетип\" + -0.056*\"благодарить\" + 0.036*\"книга\" + 0.036*\"мир\"'),\n",
              " (4,\n",
              "  '-0.847*\"благодарить\" + 0.207*\"расклад\" + -0.175*\"карта\" + 0.154*\"вопрос\" + 0.119*\"говорить\" + 0.109*\"знать\" + 0.102*\"понимать\" + 0.096*\"делать\" + 0.090*\"отношение\" + 0.073*\"бог\"'),\n",
              " (5,\n",
              "  '-0.701*\"расклад\" + -0.215*\"таро\" + 0.181*\"бог\" + 0.179*\"говорить\" + 0.164*\"видео\" + 0.151*\"понимать\" + 0.133*\"знать\" + 0.133*\"благодарить\" + 0.114*\"давать\" + 0.109*\"мир\"'),\n",
              " (6,\n",
              "  '0.870*\"видео\" + -0.140*\"бог\" + 0.119*\"канал\" + 0.110*\"смотреть\" + 0.093*\"вопрос\" + -0.089*\"сатана\" + -0.088*\"говорить\" + 0.088*\"посмотреть\" + -0.082*\"мир\" + -0.081*\"отношение\"'),\n",
              " (7,\n",
              "  '-0.747*\"вопрос\" + -0.187*\"меч\" + -0.183*\"ответ\" + 0.183*\"видео\" + -0.170*\"выпадать\" + 0.144*\"бог\" + 0.133*\"расклад\" + -0.132*\"задавать\" + 0.125*\"знать\" + 0.120*\"сатана\"'),\n",
              " (8,\n",
              "  '0.368*\"вопрос\" + 0.341*\"бог\" + 0.288*\"сатана\" + -0.249*\"отношение\" + -0.199*\"мужчина\" + -0.172*\"кубок\" + -0.169*\"вариант\" + 0.155*\"век\" + -0.135*\"меч\" + -0.133*\"король\"'),\n",
              " (9,\n",
              "  '-0.426*\"аркан\" + -0.282*\"кубок\" + -0.267*\"меч\" + 0.198*\"вопрос\" + 0.189*\"знать\" + -0.188*\"король\" + -0.184*\"отношение\" + 0.184*\"вариант\" + -0.177*\"сатана\" + -0.176*\"значение\"'),\n",
              " (10,\n",
              "  '0.760*\"аркан\" + -0.169*\"отношение\" + -0.168*\"мужчина\" + -0.166*\"меч\" + -0.139*\"кубок\" + 0.130*\"шут\" + -0.125*\"сатана\" + -0.125*\"король\" + 0.124*\"говорить\" + -0.111*\"вариант\"'),\n",
              " (11,\n",
              "  '-0.828*\"вариант\" + -0.222*\"аркан\" + 0.220*\"понимать\" + -0.179*\"большой\" + 0.177*\"говорить\" + -0.109*\"выбирать\" + 0.107*\"меч\" + 0.095*\"благодарить\" + 0.077*\"знать\" + -0.076*\"ждать\"')]"
            ]
          },
          "metadata": {},
          "execution_count": 27
        }
      ]
    },
    {
      "cell_type": "code",
      "source": [
        "# согласованность LSA модели методом c_v\n",
        "cm = CoherenceModel(model=lsa_model, corpus=corpus, texts=texts,\n",
        "                              dictionary=id2word, coherence='c_v')\n",
        "coherence = cm.get_coherence()\n",
        "coherence"
      ],
      "metadata": {
        "colab": {
          "base_uri": "https://localhost:8080/"
        },
        "id": "ulkKyTNB23ph",
        "outputId": "443e0968-6f2b-48bc-ebcf-dbea81192168"
      },
      "execution_count": null,
      "outputs": [
        {
          "output_type": "execute_result",
          "data": {
            "text/plain": [
              "0.5403053437339665"
            ]
          },
          "metadata": {},
          "execution_count": 28
        }
      ]
    },
    {
      "cell_type": "code",
      "source": [
        "# согласованность LSA модели методос u_mass\n",
        "cm = CoherenceModel(model=lsa_model, corpus=corpus,\n",
        "                              dictionary=id2word, coherence='u_mass')\n",
        "coherence = cm.get_coherence()\n",
        "coherence"
      ],
      "metadata": {
        "colab": {
          "base_uri": "https://localhost:8080/"
        },
        "id": "aG7A7RCs25N0",
        "outputId": "117bbf14-e9d1-4231-cdd8-e3aab1bb4cff"
      },
      "execution_count": null,
      "outputs": [
        {
          "output_type": "execute_result",
          "data": {
            "text/plain": [
              "-3.58937061451134"
            ]
          },
          "metadata": {},
          "execution_count": 29
        }
      ]
    },
    {
      "cell_type": "markdown",
      "source": [
        "Для модели LSA с 12 топиками согласованность, рассчитанная методом, c_v примерно равна 0,54, а методом u_mass - 3,59. Отрицательный знак появляется потому, метод u_mass использует логарифм для расчета согласованности. Кроме того, мы видим, что некоторые веса слов, которые отражают их значимость для темы, имеют отрицательный знак. Это означает, что данные слова совсем не свойственны даной теме. При большом объеме словаря, факт того, что слово совсем не свойственно данной усложняет интерпретацию - нам важно понять из каких слов состоит тема. В связи с этим, ряд авторов отмечает, что это является существенным недостатком модели LSA, который был устранен в более поздних моделях."
      ],
      "metadata": {
        "id": "3wER8MI43G19"
      }
    },
    {
      "cell_type": "markdown",
      "source": [
        "### Модель LDA"
      ],
      "metadata": {
        "id": "74xuoQ2w58eS"
      }
    },
    {
      "cell_type": "code",
      "source": [
        "# Строим LDA модель \n",
        "lda_model = gensim.models.ldamodel.LdaModel(corpus=corpus,\n",
        "                                           id2word=id2word,\n",
        "                                           num_topics=10) "
      ],
      "metadata": {
        "id": "3qskvvB10s31"
      },
      "execution_count": null,
      "outputs": []
    },
    {
      "cell_type": "code",
      "source": [
        "# Перплексия (чем меньше значене тем лучше)\n",
        "lda_model.log_perplexity(corpus)"
      ],
      "metadata": {
        "colab": {
          "base_uri": "https://localhost:8080/"
        },
        "id": "UbIkA4Im7hxs",
        "outputId": "6d75478a-81f6-4d3f-b935-c447b3a7eb0f"
      },
      "execution_count": null,
      "outputs": [
        {
          "output_type": "execute_result",
          "data": {
            "text/plain": [
              "-8.839248033226596"
            ]
          },
          "metadata": {},
          "execution_count": 31
        }
      ]
    },
    {
      "cell_type": "code",
      "source": [
        "# согласованность LDA модели, c_v \n",
        "cm = CoherenceModel(model=lda_model, corpus=corpus, texts=texts,\n",
        "                              dictionary=id2word, coherence='c_v') # c_v Coherence Score\n",
        "coherence = cm.get_coherence()\n",
        "coherence"
      ],
      "metadata": {
        "id": "D0HMXrx-0vez",
        "colab": {
          "base_uri": "https://localhost:8080/"
        },
        "outputId": "45055ddb-96da-4015-df5c-7f9c5cffe5c3"
      },
      "execution_count": null,
      "outputs": [
        {
          "output_type": "execute_result",
          "data": {
            "text/plain": [
              "0.3988947409678307"
            ]
          },
          "metadata": {},
          "execution_count": 32
        }
      ]
    },
    {
      "cell_type": "code",
      "source": [
        "# согласованность LSA модели методом u_mass\n",
        "cm = CoherenceModel(model=lda_model, corpus=corpus,\n",
        "                              dictionary=id2word, coherence='u_mass')\n",
        "coherence = cm.get_coherence()\n",
        "coherence"
      ],
      "metadata": {
        "colab": {
          "base_uri": "https://localhost:8080/"
        },
        "id": "mqwfcp2S6FZv",
        "outputId": "293e4df0-1a76-4b2a-b626-f88e5f483ad9"
      },
      "execution_count": null,
      "outputs": [
        {
          "output_type": "execute_result",
          "data": {
            "text/plain": [
              "-5.031380887130824"
            ]
          },
          "metadata": {},
          "execution_count": 33
        }
      ]
    },
    {
      "cell_type": "code",
      "source": [
        "# подбираем оптимальное значение топиков\n",
        "def compute_coherence_values(dictionary,corpus,texts,limit,start=2,step=1):\n",
        "    coherence_values = []\n",
        "    model_list = []\n",
        "    for num_topics in range(start, limit, step):\n",
        "        model = gensim.models.LdaModel(corpus=corpus, num_topics=num_topics,id2word=id2word)\n",
        "        model_list.append(model)\n",
        "        coherencemodel = CoherenceModel(model=model, texts=texts, dictionary=dictionary, coherence='c_v')\n",
        "        coherence_values.append(coherencemodel.get_coherence())\n",
        "        \n",
        "    return model_list, coherence_values"
      ],
      "metadata": {
        "id": "T8XGjhp46NFa"
      },
      "execution_count": null,
      "outputs": []
    },
    {
      "cell_type": "code",
      "source": [
        "# задаем значения наши\n",
        "model_list, coherence_values = compute_coherence_values(dictionary=id2word,corpus=corpus,\n",
        "                                                      texts=texts, start=2, limit=50, step=5)"
      ],
      "metadata": {
        "id": "sBoIOFv36Rnj"
      },
      "execution_count": null,
      "outputs": []
    },
    {
      "cell_type": "code",
      "source": [
        "# Сторим график, который показывает как изменяется значение согласованности при добавлении топика в модель.\n",
        "limit=50; start=2; step=5;\n",
        "x= range(start, limit, step)\n",
        "plt.plot(x, coherence_values)\n",
        "plt.xlabel(\"Num Topics\")\n",
        "plt.ylabel(\"Coherence score\")\n",
        "plt.legend((\"coherence_values\"), loc='best')\n",
        "plt.show()"
      ],
      "metadata": {
        "id": "SZILuxhq6RrD"
      },
      "execution_count": null,
      "outputs": []
    },
    {
      "cell_type": "markdown",
      "source": [
        "Наивысшее значение согласованности наблюдается для модели с 3 топиками"
      ],
      "metadata": {
        "id": "EhhxOCn27KsN"
      }
    },
    {
      "cell_type": "code",
      "source": [
        "# Строим LDA модель \n",
        "lda_model = gensim.models.ldamodel.LdaModel(corpus=corpus,\n",
        "                                           id2word=id2word,\n",
        "                                           num_topics=3) "
      ],
      "metadata": {
        "id": "zb5Fqxvl6RvQ"
      },
      "execution_count": null,
      "outputs": []
    },
    {
      "cell_type": "code",
      "source": [
        "# Перплексия (чем меньше значене тем лучше)\n",
        "lda_model.log_perplexity(corpus)"
      ],
      "metadata": {
        "colab": {
          "base_uri": "https://localhost:8080/"
        },
        "id": "NWOmvWiw776r",
        "outputId": "92fc07fe-6804-4d07-eea2-8326ee4d78f5"
      },
      "execution_count": null,
      "outputs": [
        {
          "output_type": "execute_result",
          "data": {
            "text/plain": [
              "-8.393767828503696"
            ]
          },
          "metadata": {},
          "execution_count": 54
        }
      ]
    },
    {
      "cell_type": "code",
      "source": [
        "# согласованность LDA модели, c_v \n",
        "cm = CoherenceModel(model=lda_model, corpus=corpus, texts=texts,\n",
        "                              dictionary=id2word, coherence='c_v') # c_v Coherence Score\n",
        "coherence = cm.get_coherence()\n",
        "coherence"
      ],
      "metadata": {
        "colab": {
          "base_uri": "https://localhost:8080/"
        },
        "id": "vF_Ds8I76RyX",
        "outputId": "9c349738-01a0-4160-a24e-82317950bac5"
      },
      "execution_count": null,
      "outputs": [
        {
          "output_type": "execute_result",
          "data": {
            "text/plain": [
              "0.49141766580766744"
            ]
          },
          "metadata": {},
          "execution_count": 55
        }
      ]
    },
    {
      "cell_type": "code",
      "source": [
        "# согласованность LSA модели методом u_mass\n",
        "cm = CoherenceModel(model=lda_model, corpus=corpus,\n",
        "                              dictionary=id2word, coherence='u_mass')\n",
        "coherence = cm.get_coherence()\n",
        "coherence"
      ],
      "metadata": {
        "colab": {
          "base_uri": "https://localhost:8080/"
        },
        "id": "rz6tjXN96R2E",
        "outputId": "5003854a-8a60-49d7-a3ec-05817d4e4ee7"
      },
      "execution_count": null,
      "outputs": [
        {
          "output_type": "execute_result",
          "data": {
            "text/plain": [
              "-3.1813955299368004"
            ]
          },
          "metadata": {},
          "execution_count": 56
        }
      ]
    },
    {
      "cell_type": "code",
      "source": [
        "lda_model.print_topics()"
      ],
      "metadata": {
        "colab": {
          "base_uri": "https://localhost:8080/"
        },
        "id": "CfXnfpHU75Ij",
        "outputId": "78100474-001a-4b78-8bac-6136072c1722"
      },
      "execution_count": null,
      "outputs": [
        {
          "output_type": "execute_result",
          "data": {
            "text/plain": [
              "[(0,\n",
              "  '0.039*\"благодарить\" + 0.019*\"расклад\" + 0.014*\"большой\" + 0.014*\"огромный\" + 0.013*\"видео\" + 0.010*\"удача\" + 0.008*\"канал\" + 0.008*\"ждать\" + 0.008*\"комментарий\" + 0.007*\"счастие\"'),\n",
              " (1,\n",
              "  '0.028*\"карта\" + 0.026*\"таро\" + 0.020*\"колода\" + 0.011*\"вопрос\" + 0.006*\"расклад\" + 0.005*\"работать\" + 0.005*\"ответ\" + 0.004*\"самый\" + 0.004*\"аркан\" + 0.004*\"система\"'),\n",
              " (2,\n",
              "  '0.009*\"знать\" + 0.007*\"говорить\" + 0.007*\"жить\" + 0.006*\"давать\" + 0.006*\"делать\" + 0.006*\"бог\" + 0.006*\"становиться\" + 0.006*\"понимать\" + 0.005*\"думать\" + 0.005*\"отношение\"')]"
            ]
          },
          "metadata": {},
          "execution_count": 53
        }
      ]
    },
    {
      "cell_type": "markdown",
      "source": [
        "Для модели LDA с 3 топиками согласованность, рассчитанная методом, c_v примерно равна 0,43, а методом u_mass - 4,36. Перплексия равна -8,97. Несмотря на то, что значения согласованности у модели LSA ненмого выше, она проигрывает модели LDA с точки зрения интерпретации. Для нас самое важное - это логчиность и удобство интерпретации получившихся топиков. "
      ],
      "metadata": {
        "id": "H_2VU6h58dle"
      }
    },
    {
      "cell_type": "markdown",
      "source": [
        "### Модель NMF"
      ],
      "metadata": {
        "id": "h6AUVeel9Dsh"
      }
    },
    {
      "cell_type": "code",
      "source": [
        "nmf_model = gensim.models.nmf.Nmf(corpus,id2word=id2word, num_topics=10)"
      ],
      "metadata": {
        "id": "dWO8wnN49C3w"
      },
      "execution_count": null,
      "outputs": []
    },
    {
      "cell_type": "code",
      "source": [
        "# согласованность LDA модели, c_v \n",
        "cm = CoherenceModel(model=nmf_model, corpus=corpus, texts=texts,\n",
        "                              dictionary=id2word, coherence='c_v') # c_v Coherence Score\n",
        "coherence = cm.get_coherence()\n",
        "coherence"
      ],
      "metadata": {
        "id": "4lPjA9vF75Sg",
        "colab": {
          "base_uri": "https://localhost:8080/"
        },
        "outputId": "02670ce2-334f-4ca6-9b9c-c25e16ae9fe4"
      },
      "execution_count": null,
      "outputs": [
        {
          "output_type": "execute_result",
          "data": {
            "text/plain": [
              "0.5499629525989697"
            ]
          },
          "metadata": {},
          "execution_count": 184
        }
      ]
    },
    {
      "cell_type": "code",
      "source": [
        "# согласованность LSA модели методом u_mass\n",
        "cm = CoherenceModel(model=nmf_model, corpus=corpus,\n",
        "                              dictionary=id2word, coherence='u_mass')\n",
        "coherence = cm.get_coherence()\n",
        "coherence"
      ],
      "metadata": {
        "colab": {
          "base_uri": "https://localhost:8080/"
        },
        "id": "YBAdYdK0CewA",
        "outputId": "d4a906bb-7691-4284-db33-5bc4326f5286"
      },
      "execution_count": null,
      "outputs": [
        {
          "output_type": "execute_result",
          "data": {
            "text/plain": [
              "-3.332430357101444"
            ]
          },
          "metadata": {},
          "execution_count": 185
        }
      ]
    },
    {
      "cell_type": "code",
      "source": [
        "# это функция, которая позволяет построить моедли с разным количеством топиков, посчитать и сохранить значение согласованности для моделей.\n",
        "def compute_coherence_values(dictionary,corpus,texts,limit,start=2,step=1):\n",
        "    coherence_values = []\n",
        "    model_list = []\n",
        "    for num_topics in range(start, limit, step):\n",
        "        model = gensim.models.nmf.Nmf(corpus=corpus, num_topics=num_topics,id2word=id2word)\n",
        "        model_list.append(model)\n",
        "        coherencemodel = CoherenceModel(model=model, texts=texts, dictionary=dictionary, coherence='c_v')\n",
        "        coherence_values.append(coherencemodel.get_coherence())\n",
        "        \n",
        "    return model_list, coherence_values"
      ],
      "metadata": {
        "id": "M2_YkSXCCe8N"
      },
      "execution_count": null,
      "outputs": []
    },
    {
      "cell_type": "code",
      "source": [
        "# задаем значения наши\n",
        "model_list, coherence_values = compute_coherence_values(dictionary=id2word,corpus=corpus,\n",
        "                                                      texts=texts, start=2, limit=50, step=5)"
      ],
      "metadata": {
        "id": "O4ixM9sYCfGG"
      },
      "execution_count": null,
      "outputs": []
    },
    {
      "cell_type": "code",
      "source": [
        "# Сторим график, который показывает как изменяется значение согласованности при добавлении топика в модель.\n",
        "limit=50; start=2; step=5;\n",
        "x= range(start, limit, step)\n",
        "plt.plot(x, coherence_values)\n",
        "plt.xlabel(\"Число топиков\")\n",
        "plt.ylabel(\"Согласованность\")\n",
        "plt.legend((\"coherence_values\"), loc='best')\n",
        "plt.show()"
      ],
      "metadata": {
        "colab": {
          "base_uri": "https://localhost:8080/",
          "height": 279
        },
        "id": "3uYHm9YaCyLR",
        "outputId": "a5db6c99-ae54-48a1-a963-c60fc6a1ebc1"
      },
      "execution_count": null,
      "outputs": [
        {
          "output_type": "display_data",
          "data": {
            "text/plain": [
              "<Figure size 432x288 with 1 Axes>"
            ],
            "image/png": "[encoded data removed]"
          },
          "metadata": {
            "needs_background": "light"
          }
        }
      ]
    },
    {
      "cell_type": "markdown",
      "source": [
        "Максимальное значение согласованности достигается с включением 22 топиков."
      ],
      "metadata": {
        "id": "iYvE14jbP2x_"
      }
    },
    {
      "cell_type": "code",
      "source": [
        "nmf_model = gensim.models.nmf.Nmf(corpus,id2word=id2word, num_topics=12)"
      ],
      "metadata": {
        "id": "NZhLaTo3JDMH"
      },
      "execution_count": null,
      "outputs": []
    },
    {
      "cell_type": "code",
      "source": [
        "# согласованность LDA модели, c_v \n",
        "cm = CoherenceModel(model=nmf_model, corpus=corpus, texts=texts,\n",
        "                              dictionary=id2word, coherence='c_v') # c_v Coherence Score\n",
        "coherence = cm.get_coherence()\n",
        "coherence"
      ],
      "metadata": {
        "colab": {
          "base_uri": "https://localhost:8080/"
        },
        "id": "isVpuuXqCyR1",
        "outputId": "69bc73b9-9b02-438d-de48-3b218a315130"
      },
      "execution_count": null,
      "outputs": [
        {
          "output_type": "execute_result",
          "data": {
            "text/plain": [
              "0.583067719155984"
            ]
          },
          "metadata": {},
          "execution_count": 203
        }
      ]
    },
    {
      "cell_type": "code",
      "source": [
        "# согласованность LSA модели методом u_mass\n",
        "cm = CoherenceModel(model=nmf_model, corpus=corpus,\n",
        "                              dictionary=id2word, coherence='u_mass')\n",
        "coherence = cm.get_coherence()\n",
        "coherence"
      ],
      "metadata": {
        "colab": {
          "base_uri": "https://localhost:8080/"
        },
        "id": "YW8ffPfYQE1E",
        "outputId": "891f011a-8016-4cd2-8513-e0bb1eba3ec8"
      },
      "execution_count": null,
      "outputs": [
        {
          "output_type": "execute_result",
          "data": {
            "text/plain": [
              "-3.2447057054977657"
            ]
          },
          "metadata": {},
          "execution_count": 204
        }
      ]
    },
    {
      "cell_type": "code",
      "source": [
        "nmf_model.print_topics()"
      ],
      "metadata": {
        "colab": {
          "base_uri": "https://localhost:8080/"
        },
        "id": "TNbdcTj7QHg7",
        "outputId": "0effc50c-0970-470d-8488-393d489a4353"
      },
      "execution_count": null,
      "outputs": [
        {
          "output_type": "execute_result",
          "data": {
            "text/plain": [
              "[(0,\n",
              "  '0.053*\"вопрос\" + 0.046*\"карта\" + 0.029*\"выпадать\" + 0.027*\"аркан\" + 0.024*\"король\" + 0.024*\"кубок\" + 0.017*\"здравствовать\" + 0.014*\"мужчина\" + 0.013*\"ответ\" + 0.013*\"пентакль\"'),\n",
              " (1,\n",
              "  '0.031*\"понимать\" + 0.030*\"говорить\" + 0.022*\"вопрос\" + 0.010*\"гадать\" + 0.009*\"знать\" + 0.008*\"бог\" + 0.008*\"давать\" + 0.008*\"делать\" + 0.007*\"вообще\" + 0.006*\"ответ\"'),\n",
              " (2,\n",
              "  '0.042*\"меч\" + 0.022*\"большой\" + 0.015*\"жезл\" + 0.013*\"перевертывать\" + 0.012*\"пентакль\" + 0.010*\"огонь\" + 0.008*\"ждать\" + 0.008*\"воздух\" + 0.008*\"мир\" + 0.007*\"становиться\"'),\n",
              " (3,\n",
              "  '0.031*\"смотреть\" + 0.027*\"работа\" + 0.019*\"самый\" + 0.018*\"хороший\" + 0.010*\"думать\" + 0.008*\"становиться\" + 0.008*\"находить\" + 0.005*\"дело\" + 0.005*\"вариант\" + 0.005*\"деньги\"'),\n",
              " (4,\n",
              "  '0.126*\"видео\" + 0.021*\"канал\" + 0.020*\"большой\" + 0.017*\"посмотреть\" + 0.014*\"интересный\" + 0.011*\"огромный\" + 0.008*\"новый\" + 0.008*\"тема\" + 0.007*\"ждать\" + 0.007*\"знать\"'),\n",
              " (5,\n",
              "  '0.145*\"таро\" + 0.018*\"обучение\" + 0.017*\"здравствовать\" + 0.013*\"психология\" + 0.013*\"архетип\" + 0.010*\"книга\" + 0.005*\"мир\" + 0.005*\"система\" + 0.005*\"изучать\" + 0.005*\"таролог\"'),\n",
              " (6,\n",
              "  '0.240*\"благодарить\" + 0.011*\"счастие\" + 0.011*\"понимать\" + 0.010*\"желать\" + 0.009*\"комментарий\" + 0.008*\"добрый\" + 0.007*\"аркан\" + 0.007*\"позиция\" + 0.006*\"помогать\" + 0.006*\"информация\"'),\n",
              " (7,\n",
              "  '0.186*\"карта\" + 0.016*\"значение\" + 0.015*\"таро\" + 0.009*\"перевертывать\" + 0.006*\"понимать\" + 0.005*\"читать\" + 0.005*\"новый\" + 0.005*\"гадать\" + 0.005*\"показывать\" + 0.004*\"смотреть\"'),\n",
              " (8,\n",
              "  '0.043*\"вариант\" + 0.021*\"знать\" + 0.020*\"мужчина\" + 0.015*\"жить\" + 0.012*\"начинать\" + 0.010*\"выбирать\" + 0.009*\"давать\" + 0.008*\"женщина\" + 0.008*\"друг\" + 0.007*\"бог\"'),\n",
              " (9,\n",
              "  '0.145*\"колода\" + 0.016*\"таро\" + 0.010*\"обзор\" + 0.008*\"работать\" + 0.007*\"купить\" + 0.006*\"аркан\" + 0.006*\"разный\" + 0.005*\"видео\" + 0.005*\"книга\" + 0.004*\"приобретать\"'),\n",
              " (10,\n",
              "  '0.182*\"расклад\" + 0.025*\"делать\" + 0.010*\"ситуация\" + 0.009*\"сделать\" + 0.008*\"таро\" + 0.007*\"добрый\" + 0.007*\"вопрос\" + 0.006*\"выбирать\" + 0.006*\"позиция\" + 0.005*\"показывать\"'),\n",
              " (11,\n",
              "  '0.047*\"отношение\" + 0.045*\"значение\" + 0.034*\"кубок\" + 0.013*\"любовь\" + 0.008*\"проблема\" + 0.007*\"перевертывать\" + 0.007*\"общий\" + 0.006*\"делать\" + 0.006*\"друг\" + 0.005*\"расклад\"')]"
            ]
          },
          "metadata": {},
          "execution_count": 92
        }
      ]
    },
    {
      "cell_type": "markdown",
      "source": [
        "Для модели NMF с 22 топиками согласованность, рассчитанная методом, c_v примерно равна 0,58, а методом u_mass - 3,24."
      ],
      "metadata": {
        "id": "HkurcDu4QZT3"
      }
    },
    {
      "cell_type": "markdown",
      "source": [
        "Далее необхомо выбрать между моделью LDA и NMF. Несмотря на то, что у модели NMF согласованность немного выше, чем у модели LDA, в качестве лучшей моделя я выбираю LDA. Это связано с тем, что получвшиеся топики с использованием модели LDA получились более логичными с точки зрения интерпретации. "
      ],
      "metadata": {
        "id": "p3wSymY0LOvt"
      }
    }
  ]
}