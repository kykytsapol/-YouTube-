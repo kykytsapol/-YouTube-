{
  "nbformat": 4,
  "nbformat_minor": 0,
  "metadata": {
    "colab": {
      "provenance": [],
      "gpuType": "T4",
      "authorship_tag": "ABX9TyN0T7ZRGd+6QFatErMtEjsu",
      "include_colab_link": true
    },
    "kernelspec": {
      "name": "python3",
      "display_name": "Python 3"
    },
    "language_info": {
      "name": "python"
    },
    "accelerator": "GPU"
  },
  "cells": [
    {
      "cell_type": "markdown",
      "metadata": {
        "id": "view-in-github",
        "colab_type": "text"
      },
      "source": [
        "<a href=\"https://colab.research.google.com/github/kykytsapol/-YouTube-/blob/main/%D0%BF%D0%BE%D0%BF%D1%8B%D1%8B%D1%82%D0%BA%D0%B0_%D0%BF%D1%80%D0%BE%D0%B2%D0%B5%D1%80%D0%BA%D0%B8.ipynb\" target=\"_parent\"><img src=\"https://colab.research.google.com/assets/colab-badge.svg\" alt=\"Open In Colab\"/></a>"
      ]
    },
    {
      "cell_type": "code",
      "source": [
        "!pip install pretty_midi"
      ],
      "metadata": {
        "colab": {
          "base_uri": "https://localhost:8080/"
        },
        "id": "oxhIGVji1C8N",
        "outputId": "9792170d-8aff-4a20-ff25-9474e8044c4d"
      },
      "execution_count": 1,
      "outputs": [
        {
          "output_type": "stream",
          "name": "stdout",
          "text": [
            "Collecting pretty_midi\n",
            "  Downloading pretty_midi-0.2.10.tar.gz (5.6 MB)\n",
            "\u001b[2K     \u001b[90m━━━━━━━━━━━━━━━━━━━━━━━━━━━━━━━━━━━━━━━━\u001b[0m \u001b[32m5.6/5.6 MB\u001b[0m \u001b[31m41.5 MB/s\u001b[0m eta \u001b[36m0:00:00\u001b[0m\n",
            "\u001b[?25h  Preparing metadata (setup.py) ... \u001b[?25l\u001b[?25hdone\n",
            "Requirement already satisfied: numpy>=1.7.0 in /usr/local/lib/python3.10/dist-packages (from pretty_midi) (1.25.2)\n",
            "Collecting mido>=1.1.16 (from pretty_midi)\n",
            "  Downloading mido-1.3.2-py3-none-any.whl (54 kB)\n",
            "\u001b[2K     \u001b[90m━━━━━━━━━━━━━━━━━━━━━━━━━━━━━━━━━━━━━━━━\u001b[0m \u001b[32m54.6/54.6 kB\u001b[0m \u001b[31m4.8 MB/s\u001b[0m eta \u001b[36m0:00:00\u001b[0m\n",
            "\u001b[?25hRequirement already satisfied: six in /usr/local/lib/python3.10/dist-packages (from pretty_midi) (1.16.0)\n",
            "Collecting packaging~=23.1 (from mido>=1.1.16->pretty_midi)\n",
            "  Downloading packaging-23.2-py3-none-any.whl (53 kB)\n",
            "\u001b[2K     \u001b[90m━━━━━━━━━━━━━━━━━━━━━━━━━━━━━━━━━━━━━━━━\u001b[0m \u001b[32m53.0/53.0 kB\u001b[0m \u001b[31m5.4 MB/s\u001b[0m eta \u001b[36m0:00:00\u001b[0m\n",
            "\u001b[?25hBuilding wheels for collected packages: pretty_midi\n",
            "  Building wheel for pretty_midi (setup.py) ... \u001b[?25l\u001b[?25hdone\n",
            "  Created wheel for pretty_midi: filename=pretty_midi-0.2.10-py3-none-any.whl size=5592289 sha256=199fd6a94ae877d720f6ef4d0aa97acc31db7ae56cc2b1945fd93080352c8092\n",
            "  Stored in directory: /root/.cache/pip/wheels/cd/a5/30/7b8b7f58709f5150f67f98fde4b891ebf0be9ef07a8af49f25\n",
            "Successfully built pretty_midi\n",
            "Installing collected packages: packaging, mido, pretty_midi\n",
            "  Attempting uninstall: packaging\n",
            "    Found existing installation: packaging 24.0\n",
            "    Uninstalling packaging-24.0:\n",
            "      Successfully uninstalled packaging-24.0\n",
            "Successfully installed mido-1.3.2 packaging-23.2 pretty_midi-0.2.10\n"
          ]
        }
      ]
    },
    {
      "cell_type": "code",
      "execution_count": 2,
      "metadata": {
        "colab": {
          "base_uri": "https://localhost:8080/"
        },
        "id": "RuOvM_SWxpCe",
        "outputId": "8cd15498-10f0-49a2-e3ec-82b556df0ec6"
      },
      "outputs": [
        {
          "output_type": "stream",
          "name": "stdout",
          "text": [
            "Cloning into 'virtuosoNet'...\n",
            "remote: Enumerating objects: 3608, done.\u001b[K\n",
            "remote: Counting objects: 100% (821/821), done.\u001b[K\n",
            "remote: Compressing objects: 100% (251/251), done.\u001b[K\n",
            "remote: Total 3608 (delta 591), reused 785 (delta 569), pack-reused 2787\u001b[K\n",
            "Receiving objects: 100% (3608/3608), 233.87 MiB | 14.51 MiB/s, done.\n",
            "Resolving deltas: 100% (2349/2349), done.\n",
            "Updating files: 100% (298/298), done.\n",
            "Submodule 'pyScoreParser' (https://github.com/jdasam/pyScoreParser.git) registered for path 'pyScoreParser'\n",
            "Cloning into '/content/virtuosoNet/pyScoreParser'...\n",
            "remote: Enumerating objects: 655, done.        \n",
            "remote: Counting objects: 100% (333/333), done.        \n",
            "remote: Compressing objects: 100% (61/61), done.        \n",
            "remote: Total 655 (delta 282), reused 272 (delta 272), pack-reused 322        \n",
            "Receiving objects: 100% (655/655), 893.30 KiB | 3.27 MiB/s, done.\n",
            "Resolving deltas: 100% (377/377), done.\n",
            "Submodule path 'pyScoreParser': checked out '82c8348619acd545ef706f702ea242c00ae91c95'\n",
            "Submodule 'midi_utils' (https://github.com/mac-marg-pianist/midi_utils.git) registered for path 'pyScoreParser/midi_utils'\n",
            "Submodule 'musicxml_parser' (https://github.com/jdasam/musicxml_parser.git) registered for path 'pyScoreParser/musicxml_parser'\n",
            "Cloning into '/content/virtuosoNet/pyScoreParser/midi_utils'...\n",
            "remote: Enumerating objects: 145, done.        \n",
            "remote: Counting objects: 100% (49/49), done.        \n",
            "remote: Compressing objects: 100% (39/39), done.        \n",
            "remote: Total 145 (delta 13), reused 36 (delta 6), pack-reused 96        \n",
            "Receiving objects: 100% (145/145), 335.37 KiB | 18.63 MiB/s, done.\n",
            "Resolving deltas: 100% (57/57), done.\n",
            "Cloning into '/content/virtuosoNet/pyScoreParser/musicxml_parser'...\n",
            "remote: Enumerating objects: 901, done.        \n",
            "remote: Counting objects: 100% (8/8), done.        \n",
            "remote: Compressing objects: 100% (6/6), done.        \n",
            "remote: Total 901 (delta 2), reused 5 (delta 2), pack-reused 893        \n",
            "Receiving objects: 100% (901/901), 1.29 MiB | 2.48 MiB/s, done.\n",
            "Resolving deltas: 100% (592/592), done.\n",
            "remote: Enumerating objects: 9, done.\u001b[K\n",
            "remote: Counting objects: 100% (3/3), done.\u001b[K\n",
            "remote: Total 9 (delta 3), reused 3 (delta 3), pack-reused 6\u001b[K\n",
            "Unpacking objects: 100% (9/9), 1.40 KiB | 479.00 KiB/s, done.\n",
            "From https://github.com/mac-marg-pianist/midi_utils\n",
            " * branch            d88625d3c3d1f419954dbb44479ac35211ee3982 -> FETCH_HEAD\n",
            "Submodule path 'pyScoreParser/midi_utils': checked out 'd88625d3c3d1f419954dbb44479ac35211ee3982'\n",
            "Submodule path 'pyScoreParser/musicxml_parser': checked out '29c045242e58852f8a7338b767b3d259108774c9'\n"
          ]
        }
      ],
      "source": [
        "!git clone --recurse-submodules https://github.com/jdasam/virtuosoNet.git"
      ]
    },
    {
      "cell_type": "code",
      "source": [
        "%cd /content/virtuosoNet"
      ],
      "metadata": {
        "colab": {
          "base_uri": "https://localhost:8080/"
        },
        "id": "v8A6EMnI3z4l",
        "outputId": "041acefc-c815-4a4b-db07-64b9cbcc0ed5"
      },
      "execution_count": 3,
      "outputs": [
        {
          "output_type": "stream",
          "name": "stdout",
          "text": [
            "/content/virtuosoNet\n"
          ]
        }
      ]
    },
    {
      "cell_type": "code",
      "source": [
        "!nvidia-smi"
      ],
      "metadata": {
        "colab": {
          "base_uri": "https://localhost:8080/"
        },
        "id": "6DlU1MaJRor3",
        "outputId": "e9425e6d-a336-42b4-acf9-824af4da3e3f"
      },
      "execution_count": 4,
      "outputs": [
        {
          "output_type": "stream",
          "name": "stdout",
          "text": [
            "Mon Apr  8 19:57:38 2024       \n",
            "+---------------------------------------------------------------------------------------+\n",
            "| NVIDIA-SMI 535.104.05             Driver Version: 535.104.05   CUDA Version: 12.2     |\n",
            "|-----------------------------------------+----------------------+----------------------+\n",
            "| GPU  Name                 Persistence-M | Bus-Id        Disp.A | Volatile Uncorr. ECC |\n",
            "| Fan  Temp   Perf          Pwr:Usage/Cap |         Memory-Usage | GPU-Util  Compute M. |\n",
            "|                                         |                      |               MIG M. |\n",
            "|=========================================+======================+======================|\n",
            "|   0  Tesla T4                       Off | 00000000:00:04.0 Off |                    0 |\n",
            "| N/A   41C    P8               9W /  70W |      0MiB / 15360MiB |      0%      Default |\n",
            "|                                         |                      |                  N/A |\n",
            "+-----------------------------------------+----------------------+----------------------+\n",
            "                                                                                         \n",
            "+---------------------------------------------------------------------------------------+\n",
            "| Processes:                                                                            |\n",
            "|  GPU   GI   CI        PID   Type   Process name                            GPU Memory |\n",
            "|        ID   ID                                                             Usage      |\n",
            "|=======================================================================================|\n",
            "|  No running processes found                                                           |\n",
            "+---------------------------------------------------------------------------------------+\n"
          ]
        }
      ]
    },
    {
      "cell_type": "code",
      "source": [
        "#notations = self.xml_notations.getchildren()\n",
        "#list(self.xml_notations)\n",
        "#children = list(xml_ornaments)"
      ],
      "metadata": {
        "id": "rGbO8-9RTYFw"
      },
      "execution_count": null,
      "outputs": []
    },
    {
      "cell_type": "code",
      "source": [
        "# Run the script with the provided arguments\n",
        "!python3 model_run.py -mode=test -code=isgn -path=./test_pieces/bwv_858_prelude/ -comp=Bach -tempo=60"
      ],
      "metadata": {
        "colab": {
          "base_uri": "https://localhost:8080/"
        },
        "id": "nNPNzF6D0bhN",
        "outputId": "d7c4f953-882c-4bfe-f770-da0713e903fb"
      },
      "execution_count": 7,
      "outputs": [
        {
          "output_type": "stream",
          "name": "stdout",
          "text": [
            "=> loading checkpoint 'isgn_best.pth.tar'\n",
            "device is  0\n",
            "=> loaded checkpoint 'prime_isgn_best.pth.tar' (epoch 13)\n",
            "=> loaded checkpoint 'trill_default_best.pth.tar' (epoch 30)\n"
          ]
        }
      ]
    },
    {
      "cell_type": "code",
      "source": [
        "!python3 model_run.py -mode=testAll -code=isgn"
      ],
      "metadata": {
        "colab": {
          "base_uri": "https://localhost:8080/"
        },
        "id": "nkSb14z7UOHH",
        "outputId": "78e72b11-9897-4298-9c8c-56d1479a7095"
      },
      "execution_count": 12,
      "outputs": [
        {
          "output_type": "stream",
          "name": "stdout",
          "text": [
            "=> loading checkpoint 'isgn_best.pth.tar'\n",
            "device is  0\n",
            "=> loaded checkpoint 'prime_isgn_best.pth.tar' (epoch 13)\n",
            "=> loaded checkpoint 'trill_default_best.pth.tar' (epoch 30)\n",
            "/usr/local/lib/python3.10/dist-packages/pretty_midi/pretty_midi.py:100: RuntimeWarning: Tempo, Key or Time signature change events found on non-zero tracks.  This is not a valid type 0 or type 1 MIDI file.  Tempo, Key or Time Signature may be wrong.\n",
            "  warnings.warn(\n",
            "performance name is OR_sub1\n",
            "Number of non matched pairs: 0\n",
            "Number of mismatched notes:  0\n",
            "Number of Matched Notes: 549, unmatched notes: 0\n",
            "performance name is Anger_sub1\n",
            "Number of non matched pairs: 0\n",
            "Number of mismatched notes:  0\n",
            "Number of Matched Notes: 549, unmatched notes: 0\n",
            "performance name is Enjoy_sub1\n",
            "Number of non matched pairs: 0\n",
            "Number of mismatched notes:  0\n",
            "Number of Matched Notes: 549, unmatched notes: 0\n",
            "performance name is Relax_sub1\n",
            "Number of non matched pairs: 0\n",
            "Number of mismatched notes:  0\n",
            "Number of Matched Notes: 549, unmatched notes: 0\n",
            "performance name is Sad_sub1\n",
            "Number of non matched pairs: 0\n",
            "Number of mismatched notes:  0\n",
            "Number of Matched Notes: 549, unmatched notes: 0\n",
            "performance name is OR_sub1\n",
            "Number of non matched pairs: 0\n",
            "Number of mismatched notes:  0\n",
            "Number of Matched Notes: 473, unmatched notes: 0\n",
            "performance name is Anger_sub1\n",
            "Number of non matched pairs: 0\n",
            "Number of mismatched notes:  0\n",
            "Number of Matched Notes: 473, unmatched notes: 0\n",
            "performance name is Enjoy_sub1\n",
            "Number of non matched pairs: 1\n",
            "Number of mismatched notes:  0\n",
            "Number of Matched Notes: 472, unmatched notes: 1\n",
            "performance name is Relax_sub1\n",
            "Number of non matched pairs: 1\n",
            "Number of mismatched notes:  0\n",
            "Number of Matched Notes: 472, unmatched notes: 1\n",
            "performance name is Sad_sub1\n",
            "Number of non matched pairs: 0\n",
            "Number of mismatched notes:  0\n",
            "Number of Matched Notes: 473, unmatched notes: 0\n",
            "performance name is OR_sub2\n",
            "Number of non matched pairs: 1\n",
            "Number of mismatched notes:  0\n",
            "Number of Matched Notes: 472, unmatched notes: 1\n",
            "performance name is Anger_sub2\n",
            "Number of non matched pairs: 0\n",
            "Number of mismatched notes:  0\n",
            "Number of Matched Notes: 473, unmatched notes: 0\n",
            "performance name is Enjoy_sub2\n",
            "Number of non matched pairs: 0\n",
            "Number of mismatched notes:  0\n",
            "Number of Matched Notes: 473, unmatched notes: 0\n",
            "performance name is Relax_sub2\n",
            "Number of non matched pairs: 4\n",
            "Number of mismatched notes:  0\n",
            "Number of Matched Notes: 469, unmatched notes: 4\n",
            "performance name is Sad_sub2\n",
            "Number of non matched pairs: 1\n",
            "Number of mismatched notes:  0\n",
            "Number of Matched Notes: 472, unmatched notes: 1\n",
            "performance name is OR_sub3\n",
            "Number of non matched pairs: 0\n",
            "Number of mismatched notes:  0\n",
            "Number of Matched Notes: 473, unmatched notes: 0\n",
            "performance name is Anger_sub3\n",
            "Number of non matched pairs: 0\n",
            "Number of mismatched notes:  0\n",
            "Number of Matched Notes: 473, unmatched notes: 0\n",
            "performance name is Enjoy_sub3\n",
            "Number of non matched pairs: 0\n",
            "Number of mismatched notes:  0\n",
            "Number of Matched Notes: 473, unmatched notes: 0\n",
            "performance name is Relax_sub3\n",
            "Number of non matched pairs: 2\n",
            "Number of mismatched notes:  0\n",
            "Number of Matched Notes: 471, unmatched notes: 2\n",
            "/content/virtuosoNet/pyScoreParser/midi_utils/midi_utils.py:234: UserWarning: Last Sustain pedal detected without offset. Add offset at end\n",
            "  warnings.warn('Last Sustain pedal detected without offset. Add offset at end')\n",
            "performance name is Sad_sub3\n",
            "Number of non matched pairs: 0\n",
            "Number of mismatched notes:  0\n",
            "Number of Matched Notes: 473, unmatched notes: 0\n",
            "performance name is OR_sub1\n",
            "Number of non matched pairs: 1\n",
            "Number of mismatched notes:  2\n",
            "Number of Matched Notes: 1067, unmatched notes: 3\n",
            "performance name is Anger_sub1\n",
            "Number of non matched pairs: 0\n",
            "Number of mismatched notes:  0\n",
            "Number of Matched Notes: 1070, unmatched notes: 0\n",
            "performance name is Enjoy_sub1\n",
            "Number of non matched pairs: 0\n",
            "Number of mismatched notes:  0\n",
            "Number of Matched Notes: 1070, unmatched notes: 0\n",
            "performance name is Relax_sub1\n",
            "Number of non matched pairs: 1\n",
            "Number of mismatched notes:  0\n",
            "Number of Matched Notes: 1069, unmatched notes: 1\n",
            "performance name is Sad_sub1\n",
            "Number of non matched pairs: 1\n",
            "Number of mismatched notes:  0\n",
            "Number of Matched Notes: 1069, unmatched notes: 1\n",
            "performance name is OR_sub2\n",
            "Number of non matched pairs: 0\n",
            "Number of mismatched notes:  0\n",
            "Number of Matched Notes: 1070, unmatched notes: 0\n",
            "performance name is Anger_sub2\n",
            "Number of non matched pairs: 0\n",
            "Number of mismatched notes:  0\n",
            "Number of Matched Notes: 1070, unmatched notes: 0\n",
            "performance name is Enjoy_sub2\n",
            "Number of non matched pairs: 863\n",
            "Number of mismatched notes:  63\n",
            "Number of Matched Notes: 147, unmatched notes: 923\n",
            "performance name is Relax_sub2\n",
            "Number of non matched pairs: 1\n",
            "Number of mismatched notes:  0\n",
            "Number of Matched Notes: 1069, unmatched notes: 1\n",
            "performance name is Sad_sub2\n",
            "Number of non matched pairs: 0\n",
            "Number of mismatched notes:  0\n",
            "Number of Matched Notes: 1070, unmatched notes: 0\n",
            "OR [tensor([[[[-0.0794, -0.1229, -0.3623, -0.0447,  0.0571, -0.0894, -0.0411,\n",
            "           -0.0727,  0.0709,  0.2701,  0.0144,  0.2406, -0.1741,  0.0146,\n",
            "           -0.0527,  0.3425]]]], device='cuda:0')] 0\n",
            "Anger [tensor([[[[ 0.0583,  0.1875,  0.1832, -0.0138, -0.1857,  0.3086,  0.3017,\n",
            "            0.1042, -0.0528, -0.1971, -0.0976, -0.2289,  0.2286, -0.0150,\n",
            "           -0.0746, -0.3150]]]], device='cuda:0')] 0.2607847873649195\n",
            "Enjoy [tensor([[[[ 0.0170, -0.1191,  0.2183, -0.1146, -0.1059,  0.2865, -0.0286,\n",
            "           -0.0894, -0.3376, -0.2835, -0.0292, -0.0737,  0.1143, -0.1974,\n",
            "           -0.1500, -0.4833]]]], device='cuda:0')] 0.11092311677970763\n",
            "Relax [tensor([[[[ 0.1933,  0.2272,  0.4875,  0.1898,  0.0811, -0.0022,  0.0127,\n",
            "            0.0280, -0.0465, -0.1215,  0.0345, -0.2856,  0.0407, -0.1367,\n",
            "            0.0200, -0.2515]]]], device='cuda:0')] -0.2932204214138079\n",
            "Sad [tensor([[[[ 0.0857,  0.2247,  0.2255, -0.0816,  0.0565,  0.0557,  0.0563,\n",
            "           -0.0965, -0.1575, -0.3006,  0.0991, -0.2290,  0.2266, -0.0718,\n",
            "            0.2053, -0.2113]]]], device='cuda:0')] -0.5842559662349337\n"
          ]
        }
      ]
    }
  ]
}